{
 "cells": [
  {
   "cell_type": "code",
   "execution_count": 1,
   "id": "f5cdcbf5",
   "metadata": {},
   "outputs": [
    {
     "name": "stderr",
     "output_type": "stream",
     "text": [
      "/home/josh/.local/lib/python3.8/site-packages/sentence_transformers/cross_encoder/CrossEncoder.py:13: TqdmExperimentalWarning: Using `tqdm.autonotebook.tqdm` in notebook mode. Use `tqdm.tqdm` instead to force console mode (e.g. in jupyter console)\n",
      "  from tqdm.autonotebook import tqdm, trange\n",
      "2025-02-17 05:30:06.421442: I tensorflow/tsl/cuda/cudart_stub.cc:28] Could not find cuda drivers on your machine, GPU will not be used.\n",
      "2025-02-17 05:30:06.460151: I tensorflow/core/platform/cpu_feature_guard.cc:182] This TensorFlow binary is optimized to use available CPU instructions in performance-critical operations.\n",
      "To enable the following instructions: AVX2, in other operations, rebuild TensorFlow with the appropriate compiler flags.\n",
      "2025-02-17 05:30:07.316271: W tensorflow/compiler/tf2tensorrt/utils/py_utils.cc:38] TF-TRT Warning: Could not find TensorRT\n"
     ]
    }
   ],
   "source": [
    "# Import URLValidator\n",
    "from url_validator import URLValidator\n",
    "\n",
    "# Import SerpAPI key from local python file api_key.py, comment out if manually putting in a key\n",
    "from api_keys import serpapi_key"
   ]
  },
  {
   "cell_type": "code",
   "execution_count": 2,
   "id": "cc424948",
   "metadata": {},
   "outputs": [],
   "source": [
    "api_key = serpapi_key\n",
    "\n",
    "validator = URLValidator(api_key)"
   ]
  },
  {
   "cell_type": "code",
   "execution_count": 3,
   "id": "43ddcf49",
   "metadata": {},
   "outputs": [
    {
     "data": {
      "text/plain": [
       "{'raw_scores': {'content_relevance': 4.17,\n",
       "  'domain_trust': 4.95,\n",
       "  'title_relevance': 1.67,\n",
       "  'final_score': 4.57},\n",
       " 'stars': {'score': 4.57, 'icon': '⭐⭐⭐⭐🌟'},\n",
       " 'explanation': 'The webpage content is highly relevant to the query. The webpage domain is highly trusted, or the webpage links to many credible domains. The webpage url is not related to the query.'}"
      ]
     },
     "execution_count": 3,
     "metadata": {},
     "output_type": "execute_result"
    }
   ],
   "source": [
    "user_prompt = \"How do economic indicators influence global stock market trends?\"\n",
    "url_to_check = \"https://www.investopedia.com/articles/investing/031413/economic-indicatiors-affect-us-stock-market.asp\"\n",
    "citation = False\n",
    "knowledge_domain = \"Finance\"\n",
    "\n",
    "validator.rate_url_validity(user_prompt, url_to_check, flags = {'citation': citation, 'domain': knowledge_domain})"
   ]
  }
 ],
 "metadata": {
  "kernelspec": {
   "display_name": "Python 3 (ipykernel)",
   "language": "python",
   "name": "python3"
  },
  "language_info": {
   "codemirror_mode": {
    "name": "ipython",
    "version": 3
   },
   "file_extension": ".py",
   "mimetype": "text/x-python",
   "name": "python",
   "nbconvert_exporter": "python",
   "pygments_lexer": "ipython3",
   "version": "3.8.10"
  }
 },
 "nbformat": 4,
 "nbformat_minor": 5
}
