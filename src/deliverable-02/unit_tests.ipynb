{
 "cells": [
  {
   "cell_type": "code",
   "execution_count": 1,
   "id": "f5cdcbf5",
   "metadata": {},
   "outputs": [
    {
     "name": "stderr",
     "output_type": "stream",
     "text": [
      "/home/joshua/.local/lib/python3.10/site-packages/sentence_transformers/cross_encoder/CrossEncoder.py:13: TqdmExperimentalWarning: Using `tqdm.autonotebook.tqdm` in notebook mode. Use `tqdm.tqdm` instead to force console mode (e.g. in jupyter console)\n",
      "  from tqdm.autonotebook import tqdm, trange\n",
      "2025-02-14 21:18:32.730642: I tensorflow/tsl/cuda/cudart_stub.cc:28] Could not find cuda drivers on your machine, GPU will not be used.\n",
      "2025-02-14 21:18:32.834115: I tensorflow/core/platform/cpu_feature_guard.cc:182] This TensorFlow binary is optimized to use available CPU instructions in performance-critical operations.\n",
      "To enable the following instructions: AVX2 FMA, in other operations, rebuild TensorFlow with the appropriate compiler flags.\n",
      "2025-02-14 21:18:34.650833: W tensorflow/compiler/tf2tensorrt/utils/py_utils.cc:38] TF-TRT Warning: Could not find TensorRT\n"
     ]
    }
   ],
   "source": [
    "from url_validator import URLValidator\n",
    "from api_keys import serpapi_key"
   ]
  },
  {
   "cell_type": "markdown",
   "id": "94bb9e89",
   "metadata": {},
   "source": [
    "# Unit Test\n",
    "Identical Prompt: \"NVIDIA stock\"\n",
    "\n",
    "Note that some scores (namely Content Relevance) are subject to change as some of these pages should update daily.\n",
    "\n",
    "Fixed Scores:\n",
    "- Domain Trust is always 60 because it currently has a placeholder value.\n",
    "- Fact-Check Score is always 50 because the Fact-Check scorer uses a malformed API endpoint and thus always fails to obtain data that can be converted to json format, defaulting to 50.\n",
    "- Bias Score appears to always return \"Negative\" for sentiment, resulting in a score of 30.\n",
    "- Citation Score should almost always be 0, as nearly all webpages are not in academic papers."
   ]
  },
  {
   "cell_type": "code",
   "execution_count": 2,
   "id": "8da7c8e9",
   "metadata": {},
   "outputs": [],
   "source": [
    "validator = URLValidator(serpapi_key)\n",
    "user_prompt = \"NVIDIA stock\""
   ]
  },
  {
   "cell_type": "markdown",
   "id": "216501a1",
   "metadata": {},
   "source": [
    "## Forbes Magazine Article\n",
    "Content Relevance: 43.12271177768707\n",
    "\n",
    "Note that the longer the text of a page, the more likely it contains content that is unrelated to the prompt, which causes the content relevance score to reduce. This is not particularly desirable, as long-form content such as articles are more likely to be penalized than shorter webpages. The semantic comparison engine may need to be adjusted based on length of the webpage content."
   ]
  },
  {
   "cell_type": "code",
   "execution_count": 4,
   "id": "ad3ef654",
   "metadata": {
    "scrolled": true
   },
   "outputs": [
    {
     "data": {
      "text/plain": [
       "{'raw_scores': {'content_relevance': 4.97,\n",
       "  'domain_trust': 4.28,\n",
       "  'title_relevance': 5.0,\n",
       "  'final_score': 4.75},\n",
       " 'stars': {},\n",
       " 'explanation': ''}"
      ]
     },
     "execution_count": 4,
     "metadata": {},
     "output_type": "execute_result"
    }
   ],
   "source": [
    "url_to_check = \"https://www.forbes.com/sites/dereksaul/2025/01/28/deepseek-panic-live-updates-nvidia-stock-makes-history-again-with-260-billion-rebound/\"\n",
    "\n",
    "validator.rate_url_validity(user_prompt, url_to_check)"
   ]
  },
  {
   "cell_type": "markdown",
   "id": "1affff0e",
   "metadata": {},
   "source": [
    "## CNBC Stock Quotes\n",
    "Content Relevance: 8.290518075227737\n",
    "\n",
    "Notice that the \"PROFILE\" section on this webpage has not been picked up by this scraper, removing most of the relevant text from the page that would be related to the user prompt. This is a deficiency in the scraper which needs to be rectified. This website is highly relevant to the user prompt and is scored extremely low on that metric."
   ]
  },
  {
   "cell_type": "code",
   "execution_count": 5,
   "id": "d2bbcb55",
   "metadata": {
    "scrolled": true
   },
   "outputs": [
    {
     "name": "stdout",
     "output_type": "stream",
     "text": [
      "CPU times: user 1min 8s, sys: 95.9 ms, total: 1min 8s\n",
      "Wall time: 17.5 s\n"
     ]
    },
    {
     "data": {
      "text/plain": [
       "{'raw_scores': {'content_relevance': 5.0,\n",
       "  'domain_trust': 4.5,\n",
       "  'title_relevance': 1.0,\n",
       "  'final_score': 3.5},\n",
       " 'stars': {},\n",
       " 'explanation': ''}"
      ]
     },
     "execution_count": 5,
     "metadata": {},
     "output_type": "execute_result"
    }
   ],
   "source": [
    "%%time\n",
    "url_to_check = \"https://www.cnbc.com/quotes/NVDA\"\n",
    "\n",
    "validator.rate_url_validity(user_prompt, url_to_check)"
   ]
  },
  {
   "cell_type": "markdown",
   "id": "e3f8b2c0",
   "metadata": {},
   "source": [
    "## Official NVIDIA Website\n",
    "Content Relevance: 41.894444823265076\n",
    "\n",
    "Note that the content relevance is matching heavily on the word \"NVIDIA\", even though this homepage has nothing to do with stocks. A content relevance score of ~42 is not excessively high, but it is nearly the same as the Forbes' article which is specifically about NVIDIA stocks, despite this page having nothing to do with stocks. This may be a drawback of the semantic comparison engine."
   ]
  },
  {
   "cell_type": "code",
   "execution_count": 6,
   "id": "6782bd01",
   "metadata": {
    "scrolled": true
   },
   "outputs": [
    {
     "data": {
      "text/plain": [
       "{'raw_scores': {'content_relevance': 3.95,\n",
       "  'domain_trust': 1.0,\n",
       "  'title_relevance': 2.5,\n",
       "  'final_score': 2.48},\n",
       " 'stars': {},\n",
       " 'explanation': ''}"
      ]
     },
     "execution_count": 6,
     "metadata": {},
     "output_type": "execute_result"
    }
   ],
   "source": [
    "url_to_check = \"https://www.nvidia.com\"\n",
    "\n",
    "validator.rate_url_validity(user_prompt, url_to_check)"
   ]
  },
  {
   "cell_type": "markdown",
   "id": "0d4d370f",
   "metadata": {},
   "source": [
    "## Marketwatch\n",
    "Error from being unable to scrape a highly reputable website designed with anti-scraping measures. It may be worthwhile to rate the domain credibility separately from trying to scrape the website."
   ]
  },
  {
   "cell_type": "code",
   "execution_count": 7,
   "id": "3d9df179",
   "metadata": {
    "scrolled": true
   },
   "outputs": [
    {
     "name": "stdout",
     "output_type": "stream",
     "text": [
      "Failed to fetch content from https://www.marketwatch.com/investing/stock/nvda: 401 Client Error: HTTP Forbidden for url: https://www.marketwatch.com/investing/stock/nvda\n",
      "Content relevance score and outgoing link credibility cannot be calculated.\n"
     ]
    },
    {
     "data": {
      "text/plain": [
       "{'raw_scores': {'domain_trust': 5.0,\n",
       "  'title_relevance': 1.0,\n",
       "  'final_score': 3.0},\n",
       " 'stars': {},\n",
       " 'explanation': ''}"
      ]
     },
     "execution_count": 7,
     "metadata": {},
     "output_type": "execute_result"
    }
   ],
   "source": [
    "url_to_check = \"https://www.marketwatch.com/investing/stock/nvda\"\n",
    "\n",
    "validator.rate_url_validity(user_prompt, url_to_check)"
   ]
  },
  {
   "cell_type": "markdown",
   "id": "314e4281",
   "metadata": {},
   "source": [
    "## Yahoo Finance\n",
    "Content Relevance: 71.57930135726929\n",
    "\n",
    "The web scraper managed to pick up all of the information in the \"About\" section of the webpage and little else, giving a high performance in terms of content relevance."
   ]
  },
  {
   "cell_type": "code",
   "execution_count": 8,
   "id": "261987b4",
   "metadata": {
    "scrolled": true
   },
   "outputs": [
    {
     "data": {
      "text/plain": [
       "{'raw_scores': {'content_relevance': 4.28,\n",
       "  'domain_trust': 5.0,\n",
       "  'title_relevance': 1.0,\n",
       "  'final_score': 3.43},\n",
       " 'stars': {},\n",
       " 'explanation': ''}"
      ]
     },
     "execution_count": 8,
     "metadata": {},
     "output_type": "execute_result"
    }
   ],
   "source": [
    "url_to_check = \"https://finance.yahoo.com/quote/NVDA/\"\n",
    "\n",
    "validator.rate_url_validity(user_prompt, url_to_check)"
   ]
  },
  {
   "cell_type": "markdown",
   "id": "e95f8876",
   "metadata": {},
   "source": [
    "## Trading View\n",
    "Content Relevance: 34.80248749256134\n",
    "\n",
    "The content of this page is highly relevant towards the actual stock price and history of NVIDIA but contains very little text for the scraper to capture. This causes the content relevance to drop when it should be fairly high."
   ]
  },
  {
   "cell_type": "code",
   "execution_count": 9,
   "id": "a397f88b",
   "metadata": {
    "scrolled": true
   },
   "outputs": [
    {
     "data": {
      "text/plain": [
       "{'raw_scores': {'content_relevance': 5.0,\n",
       "  'domain_trust': 4.0,\n",
       "  'title_relevance': 1.0,\n",
       "  'final_score': 3.33},\n",
       " 'stars': {},\n",
       " 'explanation': ''}"
      ]
     },
     "execution_count": 9,
     "metadata": {},
     "output_type": "execute_result"
    }
   ],
   "source": [
    "url_to_check = \"https://www.tradingview.com/symbols/NASDAQ-NVDA/\"\n",
    "\n",
    "validator.rate_url_validity(user_prompt, url_to_check)"
   ]
  },
  {
   "cell_type": "markdown",
   "id": "fcf52f39",
   "metadata": {},
   "source": [
    "## Barchart Article\n",
    "Content Relevance: 20.299533009529114\n",
    "\n",
    "This article provides useful information about NVIDIA stock, but the scraper failed to pick up nearly any of the text available on the page."
   ]
  },
  {
   "cell_type": "code",
   "execution_count": 10,
   "id": "05c84d74",
   "metadata": {
    "scrolled": true
   },
   "outputs": [
    {
     "data": {
      "text/plain": [
       "{'raw_scores': {'content_relevance': 1.0,\n",
       "  'domain_trust': 4.0,\n",
       "  'title_relevance': 5.0,\n",
       "  'final_score': 3.33},\n",
       " 'stars': {},\n",
       " 'explanation': ''}"
      ]
     },
     "execution_count": 10,
     "metadata": {},
     "output_type": "execute_result"
    }
   ],
   "source": [
    "url_to_check = \"https://www.barchart.com/story/news/30841907/dear-nvidia-stock-fans-mark-your-calendars-for-february-26\"\n",
    "\n",
    "validator.rate_url_validity(user_prompt, url_to_check)"
   ]
  },
  {
   "cell_type": "markdown",
   "id": "e6d86747",
   "metadata": {},
   "source": [
    "## CNN Stock Lookup\n",
    "Content Relevance: 62.75913119316101\n",
    "\n",
    "The scraper picked up on the \"About NVDA\" section which boosted the content relevance score."
   ]
  },
  {
   "cell_type": "code",
   "execution_count": 11,
   "id": "70d4df43",
   "metadata": {
    "scrolled": true
   },
   "outputs": [
    {
     "data": {
      "text/plain": [
       "{'raw_scores': {'content_relevance': 4.23,\n",
       "  'domain_trust': 4.0,\n",
       "  'title_relevance': 1.0,\n",
       "  'final_score': 3.08},\n",
       " 'stars': {},\n",
       " 'explanation': ''}"
      ]
     },
     "execution_count": 11,
     "metadata": {},
     "output_type": "execute_result"
    }
   ],
   "source": [
    "url_to_check = \"https://www.cnn.com/markets/stocks/NVDA\"\n",
    "\n",
    "validator.rate_url_validity(user_prompt, url_to_check)"
   ]
  },
  {
   "cell_type": "markdown",
   "id": "fc01c196",
   "metadata": {},
   "source": [
    "## Google Finance Stock Quote\n",
    "Content Relevance: 9.07139778137207\n",
    "\n",
    "Like the CNBC stock quote website, the scraper failed to pick up the \"About\" text on the page. In fact, the scraper picked up no text at all from the page, so it is surprising that the content relevance is nonzero."
   ]
  },
  {
   "cell_type": "code",
   "execution_count": 12,
   "id": "ea81dcd0",
   "metadata": {
    "scrolled": true
   },
   "outputs": [
    {
     "data": {
      "text/plain": [
       "{'raw_scores': {'content_relevance': 4.26,\n",
       "  'domain_trust': 3.29,\n",
       "  'title_relevance': 1.0,\n",
       "  'final_score': 2.85},\n",
       " 'stars': {},\n",
       " 'explanation': ''}"
      ]
     },
     "execution_count": 12,
     "metadata": {},
     "output_type": "execute_result"
    }
   ],
   "source": [
    "url_to_check = \"https://www.google.com/finance/quote/NVDA:NASDAQ?hl=en\"\n",
    "\n",
    "validator.rate_url_validity(user_prompt, url_to_check)"
   ]
  },
  {
   "cell_type": "markdown",
   "id": "96244016",
   "metadata": {},
   "source": [
    "# Negative Unit Tests (deliberately wrong URLs)"
   ]
  },
  {
   "cell_type": "markdown",
   "id": "a67d8bb8",
   "metadata": {},
   "source": [
    "## Yahoo Finance Quote for AMD\n",
    "Content Relevance: 34.59650278091431\n",
    "\n",
    "Although the relevance score is not particularly high, it performs about average for most of the other unit tests involving correct URLs referencing NVIDIA, even though this URL is focused on AMD. This is probably because the semantic scorer is matching on the \"stock\" part of the prompt."
   ]
  },
  {
   "cell_type": "code",
   "execution_count": 13,
   "id": "b28bb838",
   "metadata": {},
   "outputs": [
    {
     "data": {
      "text/plain": [
       "{'raw_scores': {'content_relevance': 1.7,\n",
       "  'domain_trust': 5.0,\n",
       "  'title_relevance': 1.0,\n",
       "  'final_score': 2.57},\n",
       " 'stars': {},\n",
       " 'explanation': ''}"
      ]
     },
     "execution_count": 13,
     "metadata": {},
     "output_type": "execute_result"
    }
   ],
   "source": [
    "url_to_check = \"https://finance.yahoo.com/quote/AMD/\"\n",
    "\n",
    "validator.rate_url_validity(user_prompt, url_to_check)"
   ]
  },
  {
   "cell_type": "markdown",
   "id": "e2c1bc2e",
   "metadata": {},
   "source": [
    "## WebMD Page on COVID-19\n",
    "Content Relevance: 13.424356281757355\n",
    "\n",
    "This page has nothing to do with NVIDIA or stocks, and yet it has scored higher than many relevant links!"
   ]
  },
  {
   "cell_type": "code",
   "execution_count": 14,
   "id": "1704559f",
   "metadata": {},
   "outputs": [
    {
     "data": {
      "text/plain": [
       "{'raw_scores': {'content_relevance': 1.0,\n",
       "  'domain_trust': 1.0,\n",
       "  'title_relevance': 1.0,\n",
       "  'final_score': 1.0},\n",
       " 'stars': {},\n",
       " 'explanation': ''}"
      ]
     },
     "execution_count": 14,
     "metadata": {},
     "output_type": "execute_result"
    }
   ],
   "source": [
    "url_to_check = \"https://www.webmd.com/covid/coronavirus\"\n",
    "\n",
    "validator.rate_url_validity(user_prompt, url_to_check)"
   ]
  }
 ],
 "metadata": {
  "kernelspec": {
   "display_name": "Python 3 (ipykernel)",
   "language": "python",
   "name": "python3"
  },
  "language_info": {
   "codemirror_mode": {
    "name": "ipython",
    "version": 3
   },
   "file_extension": ".py",
   "mimetype": "text/x-python",
   "name": "python",
   "nbconvert_exporter": "python",
   "pygments_lexer": "ipython3",
   "version": "3.10.12"
  }
 },
 "nbformat": 4,
 "nbformat_minor": 5
}
