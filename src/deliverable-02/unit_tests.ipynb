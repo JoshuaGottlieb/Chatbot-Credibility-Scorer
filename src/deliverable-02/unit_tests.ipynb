{
 "cells": [
  {
   "cell_type": "code",
   "execution_count": 1,
   "id": "f5cdcbf5",
   "metadata": {},
   "outputs": [
    {
     "name": "stderr",
     "output_type": "stream",
     "text": [
      "/home/josh/.local/lib/python3.8/site-packages/sentence_transformers/cross_encoder/CrossEncoder.py:13: TqdmExperimentalWarning: Using `tqdm.autonotebook.tqdm` in notebook mode. Use `tqdm.tqdm` instead to force console mode (e.g. in jupyter console)\n",
      "  from tqdm.autonotebook import tqdm, trange\n",
      "2025-02-14 17:16:00.994033: I tensorflow/tsl/cuda/cudart_stub.cc:28] Could not find cuda drivers on your machine, GPU will not be used.\n",
      "2025-02-14 17:16:01.022758: I tensorflow/core/platform/cpu_feature_guard.cc:182] This TensorFlow binary is optimized to use available CPU instructions in performance-critical operations.\n",
      "To enable the following instructions: AVX2, in other operations, rebuild TensorFlow with the appropriate compiler flags.\n",
      "2025-02-14 17:16:01.657966: W tensorflow/compiler/tf2tensorrt/utils/py_utils.cc:38] TF-TRT Warning: Could not find TensorRT\n"
     ]
    }
   ],
   "source": [
    "from url_validator import URLValidator"
   ]
  },
  {
   "cell_type": "code",
   "execution_count": 2,
   "id": "1de90b48",
   "metadata": {},
   "outputs": [
    {
     "name": "stdout",
     "output_type": "stream",
     "text": [
      "No SerpAPI key provided, citation score analysis will not be available.\n"
     ]
    }
   ],
   "source": [
    "validator = URLValidator()"
   ]
  },
  {
   "cell_type": "code",
   "execution_count": 3,
   "id": "fa3e0095",
   "metadata": {},
   "outputs": [],
   "source": [
    "user_prompt = \"NVIDIA stock\"\n",
    "url_to_check = \"https://www.forbes.com/sites/dereksaul/2025/01/28/deepseek-panic-live-updates-nvidia-stock-makes-history-again-with-260-billion-rebound/\""
   ]
  },
  {
   "cell_type": "code",
   "execution_count": 4,
   "id": "12d1c2bf",
   "metadata": {},
   "outputs": [
    {
     "name": "stdout",
     "output_type": "stream",
     "text": [
      "No SerpAPI key provided, citation score will not be evaluated.\n"
     ]
    },
    {
     "data": {
      "text/plain": [
       "{'raw_scores': {'domain_trust': 0,\n",
       "  'content_relevance': 4.97,\n",
       "  'title_relevance': 2.59,\n",
       "  'final_score': 2.52},\n",
       " 'stars': {},\n",
       " 'explanation': ''}"
      ]
     },
     "execution_count": 4,
     "metadata": {},
     "output_type": "execute_result"
    }
   ],
   "source": [
    "validator.rate_url_validity(user_prompt, url_to_check)"
   ]
  },
  {
   "cell_type": "code",
   "execution_count": null,
   "id": "0b3ed792",
   "metadata": {},
   "outputs": [],
   "source": [
    "validator.outgoing_links"
   ]
  },
  {
   "cell_type": "code",
   "execution_count": null,
   "id": "9f7f3d65",
   "metadata": {},
   "outputs": [],
   "source": [
    "validator.scores"
   ]
  },
  {
   "cell_type": "code",
   "execution_count": null,
   "id": "40b031bd",
   "metadata": {},
   "outputs": [],
   "source": []
  },
  {
   "cell_type": "code",
   "execution_count": 26,
   "id": "b28318f7",
   "metadata": {
    "scrolled": true
   },
   "outputs": [],
   "source": [
    "# Importing scoring function\n",
    "from credibility_score import rate_url_validity, scrape_url_content, extract_outgoing_links\n",
    "\n",
    "# Importing SerpAPI key from a local api_keys.py file, comment out if manually including key\n",
    "from api_keys import serpapi_key\n",
    "\n",
    "import pandas as pd"
   ]
  },
  {
   "cell_type": "code",
   "execution_count": 27,
   "id": "7f676f9a",
   "metadata": {},
   "outputs": [
    {
     "data": {
      "text/html": [
       "<div>\n",
       "<style scoped>\n",
       "    .dataframe tbody tr th:only-of-type {\n",
       "        vertical-align: middle;\n",
       "    }\n",
       "\n",
       "    .dataframe tbody tr th {\n",
       "        vertical-align: top;\n",
       "    }\n",
       "\n",
       "    .dataframe thead th {\n",
       "        text-align: right;\n",
       "    }\n",
       "</style>\n",
       "<table border=\"1\" class=\"dataframe\">\n",
       "  <thead>\n",
       "    <tr style=\"text-align: right;\">\n",
       "      <th></th>\n",
       "      <th>url</th>\n",
       "      <th>name</th>\n",
       "      <th>star_rating</th>\n",
       "      <th>knowledge_domain</th>\n",
       "    </tr>\n",
       "  </thead>\n",
       "  <tbody>\n",
       "    <tr>\n",
       "      <th>0</th>\n",
       "      <td>www.fool.com</td>\n",
       "      <td>The Motley Fool</td>\n",
       "      <td>4.0</td>\n",
       "      <td>Finance</td>\n",
       "    </tr>\n",
       "    <tr>\n",
       "      <th>1</th>\n",
       "      <td>www.economist.com</td>\n",
       "      <td>The Economist</td>\n",
       "      <td>4.5</td>\n",
       "      <td>Finance</td>\n",
       "    </tr>\n",
       "    <tr>\n",
       "      <th>2</th>\n",
       "      <td>www.marketwatch.com</td>\n",
       "      <td>MarketWatch</td>\n",
       "      <td>5.0</td>\n",
       "      <td>Finance</td>\n",
       "    </tr>\n",
       "    <tr>\n",
       "      <th>3</th>\n",
       "      <td>www.ft.com</td>\n",
       "      <td>Financial Times</td>\n",
       "      <td>4.5</td>\n",
       "      <td>Finance</td>\n",
       "    </tr>\n",
       "    <tr>\n",
       "      <th>4</th>\n",
       "      <td>www.cnn.com</td>\n",
       "      <td>CNN</td>\n",
       "      <td>4.0</td>\n",
       "      <td>Finance</td>\n",
       "    </tr>\n",
       "    <tr>\n",
       "      <th>5</th>\n",
       "      <td>www.cnbc.com</td>\n",
       "      <td>CNBC</td>\n",
       "      <td>4.5</td>\n",
       "      <td>Finance</td>\n",
       "    </tr>\n",
       "    <tr>\n",
       "      <th>6</th>\n",
       "      <td>www.wsj.com</td>\n",
       "      <td>Wall Street Journal</td>\n",
       "      <td>4.0</td>\n",
       "      <td>Finance</td>\n",
       "    </tr>\n",
       "    <tr>\n",
       "      <th>7</th>\n",
       "      <td>www.forbes.com</td>\n",
       "      <td>Forbes</td>\n",
       "      <td>4.0</td>\n",
       "      <td>Finance</td>\n",
       "    </tr>\n",
       "    <tr>\n",
       "      <th>8</th>\n",
       "      <td>www.reuters.com</td>\n",
       "      <td>Reuters</td>\n",
       "      <td>4.5</td>\n",
       "      <td>Finance</td>\n",
       "    </tr>\n",
       "    <tr>\n",
       "      <th>9</th>\n",
       "      <td>www.bloomberg.com</td>\n",
       "      <td>Bloomberg</td>\n",
       "      <td>4.5</td>\n",
       "      <td>Finance</td>\n",
       "    </tr>\n",
       "    <tr>\n",
       "      <th>10</th>\n",
       "      <td>finance.yahoo.com</td>\n",
       "      <td>Yahoo Finance</td>\n",
       "      <td>5.0</td>\n",
       "      <td>Finance</td>\n",
       "    </tr>\n",
       "    <tr>\n",
       "      <th>11</th>\n",
       "      <td>www.tradingview.com</td>\n",
       "      <td>TradingVew</td>\n",
       "      <td>4.0</td>\n",
       "      <td>Finance</td>\n",
       "    </tr>\n",
       "    <tr>\n",
       "      <th>12</th>\n",
       "      <td>www.barchart.com</td>\n",
       "      <td>BarChart</td>\n",
       "      <td>4.0</td>\n",
       "      <td>Finance</td>\n",
       "    </tr>\n",
       "    <tr>\n",
       "      <th>13</th>\n",
       "      <td>www.investing.com</td>\n",
       "      <td>Investing.com</td>\n",
       "      <td>4.5</td>\n",
       "      <td>Finance</td>\n",
       "    </tr>\n",
       "    <tr>\n",
       "      <th>14</th>\n",
       "      <td>www.thestreet.com</td>\n",
       "      <td>TheStreet</td>\n",
       "      <td>4.0</td>\n",
       "      <td>Finance</td>\n",
       "    </tr>\n",
       "    <tr>\n",
       "      <th>15</th>\n",
       "      <td>www.nasdaq.com</td>\n",
       "      <td>Nasdaq</td>\n",
       "      <td>5.0</td>\n",
       "      <td>Finance</td>\n",
       "    </tr>\n",
       "    <tr>\n",
       "      <th>16</th>\n",
       "      <td>www.kiplinger.com</td>\n",
       "      <td>Kiplinger</td>\n",
       "      <td>4.5</td>\n",
       "      <td>Finance</td>\n",
       "    </tr>\n",
       "    <tr>\n",
       "      <th>17</th>\n",
       "      <td>www.investopedia.com</td>\n",
       "      <td>Investopedia</td>\n",
       "      <td>5.0</td>\n",
       "      <td>Finance</td>\n",
       "    </tr>\n",
       "    <tr>\n",
       "      <th>18</th>\n",
       "      <td>www.benzinga.com</td>\n",
       "      <td>Benzinga</td>\n",
       "      <td>4.0</td>\n",
       "      <td>Finance</td>\n",
       "    </tr>\n",
       "    <tr>\n",
       "      <th>19</th>\n",
       "      <td>www.businessinsider.com</td>\n",
       "      <td>Business Insider</td>\n",
       "      <td>4.0</td>\n",
       "      <td>Finance</td>\n",
       "    </tr>\n",
       "    <tr>\n",
       "      <th>20</th>\n",
       "      <td>seekingalpha.com</td>\n",
       "      <td>Seeking Alpha</td>\n",
       "      <td>4.5</td>\n",
       "      <td>Finance</td>\n",
       "    </tr>\n",
       "    <tr>\n",
       "      <th>21</th>\n",
       "      <td>www.barrons.com</td>\n",
       "      <td>Barron's</td>\n",
       "      <td>4.5</td>\n",
       "      <td>Finance</td>\n",
       "    </tr>\n",
       "    <tr>\n",
       "      <th>22</th>\n",
       "      <td>www.financialexpress.com</td>\n",
       "      <td>Financial Express</td>\n",
       "      <td>3.5</td>\n",
       "      <td>Finance</td>\n",
       "    </tr>\n",
       "    <tr>\n",
       "      <th>23</th>\n",
       "      <td>www.businesstoday.in</td>\n",
       "      <td>Business Today</td>\n",
       "      <td>3.5</td>\n",
       "      <td>Finance</td>\n",
       "    </tr>\n",
       "  </tbody>\n",
       "</table>\n",
       "</div>"
      ],
      "text/plain": [
       "                         url                 name  star_rating  \\\n",
       "0               www.fool.com      The Motley Fool          4.0   \n",
       "1          www.economist.com        The Economist          4.5   \n",
       "2        www.marketwatch.com          MarketWatch          5.0   \n",
       "3                 www.ft.com      Financial Times          4.5   \n",
       "4                www.cnn.com                  CNN          4.0   \n",
       "5               www.cnbc.com                 CNBC          4.5   \n",
       "6                www.wsj.com  Wall Street Journal          4.0   \n",
       "7             www.forbes.com               Forbes          4.0   \n",
       "8            www.reuters.com              Reuters          4.5   \n",
       "9          www.bloomberg.com            Bloomberg          4.5   \n",
       "10         finance.yahoo.com        Yahoo Finance          5.0   \n",
       "11       www.tradingview.com           TradingVew          4.0   \n",
       "12          www.barchart.com             BarChart          4.0   \n",
       "13         www.investing.com        Investing.com          4.5   \n",
       "14         www.thestreet.com            TheStreet          4.0   \n",
       "15            www.nasdaq.com               Nasdaq          5.0   \n",
       "16         www.kiplinger.com            Kiplinger          4.5   \n",
       "17      www.investopedia.com         Investopedia          5.0   \n",
       "18          www.benzinga.com             Benzinga          4.0   \n",
       "19   www.businessinsider.com     Business Insider          4.0   \n",
       "20          seekingalpha.com        Seeking Alpha          4.5   \n",
       "21           www.barrons.com             Barron's          4.5   \n",
       "22  www.financialexpress.com    Financial Express          3.5   \n",
       "23      www.businesstoday.in       Business Today          3.5   \n",
       "\n",
       "   knowledge_domain  \n",
       "0           Finance  \n",
       "1           Finance  \n",
       "2           Finance  \n",
       "3           Finance  \n",
       "4           Finance  \n",
       "5           Finance  \n",
       "6           Finance  \n",
       "7           Finance  \n",
       "8           Finance  \n",
       "9           Finance  \n",
       "10          Finance  \n",
       "11          Finance  \n",
       "12          Finance  \n",
       "13          Finance  \n",
       "14          Finance  \n",
       "15          Finance  \n",
       "16          Finance  \n",
       "17          Finance  \n",
       "18          Finance  \n",
       "19          Finance  \n",
       "20          Finance  \n",
       "21          Finance  \n",
       "22          Finance  \n",
       "23          Finance  "
      ]
     },
     "execution_count": 27,
     "metadata": {},
     "output_type": "execute_result"
    }
   ],
   "source": [
    "pd.read_csv('trusted_domains.csv')"
   ]
  },
  {
   "cell_type": "code",
   "execution_count": 81,
   "id": "401e2516",
   "metadata": {},
   "outputs": [],
   "source": [
    "import numpy as np\n",
    "import pandas as pd"
   ]
  },
  {
   "cell_type": "code",
   "execution_count": 82,
   "id": "1938fe14",
   "metadata": {},
   "outputs": [],
   "source": [
    "star_ratings = np.arange(2.5,5,0.01)\n",
    "base_contributions = 500 * np.arctanh((star_ratings - 1) / 4)\n",
    "exponents = np.array([1 - ((2*(x - 1)) / 21) for x in range(1, 13)])"
   ]
  },
  {
   "cell_type": "code",
   "execution_count": 83,
   "id": "0d46d919",
   "metadata": {},
   "outputs": [],
   "source": [
    "full_contributions = (np.tile(base_contributions, (12, 1)) ** exponents[:, None])"
   ]
  },
  {
   "cell_type": "code",
   "execution_count": 88,
   "id": "61881a3e",
   "metadata": {},
   "outputs": [],
   "source": [
    "contribution_dict = {f'{x}_contribution':np.round(full_contributions[x - 1,:], 3) for x in range(1,13)}\n",
    "df = pd.DataFrame(contribution_dict)\n",
    "df.insert(0, 'star_rating', star_ratings)"
   ]
  },
  {
   "cell_type": "code",
   "execution_count": 89,
   "id": "f36f91bb",
   "metadata": {},
   "outputs": [
    {
     "data": {
      "text/html": [
       "<div>\n",
       "<style scoped>\n",
       "    .dataframe tbody tr th:only-of-type {\n",
       "        vertical-align: middle;\n",
       "    }\n",
       "\n",
       "    .dataframe tbody tr th {\n",
       "        vertical-align: top;\n",
       "    }\n",
       "\n",
       "    .dataframe thead th {\n",
       "        text-align: right;\n",
       "    }\n",
       "</style>\n",
       "<table border=\"1\" class=\"dataframe\">\n",
       "  <thead>\n",
       "    <tr style=\"text-align: right;\">\n",
       "      <th></th>\n",
       "      <th>star_rating</th>\n",
       "      <th>1_contribution</th>\n",
       "      <th>2_contribution</th>\n",
       "      <th>3_contribution</th>\n",
       "      <th>4_contribution</th>\n",
       "      <th>5_contribution</th>\n",
       "      <th>6_contribution</th>\n",
       "      <th>7_contribution</th>\n",
       "      <th>8_contribution</th>\n",
       "      <th>9_contribution</th>\n",
       "      <th>10_contribution</th>\n",
       "      <th>11_contribution</th>\n",
       "      <th>12_contribution</th>\n",
       "    </tr>\n",
       "  </thead>\n",
       "  <tbody>\n",
       "    <tr>\n",
       "      <th>0</th>\n",
       "      <td>2.50</td>\n",
       "      <td>197.114</td>\n",
       "      <td>119.172</td>\n",
       "      <td>72.049</td>\n",
       "      <td>43.560</td>\n",
       "      <td>26.335</td>\n",
       "      <td>15.922</td>\n",
       "      <td>9.626</td>\n",
       "      <td>5.820</td>\n",
       "      <td>3.519</td>\n",
       "      <td>2.127</td>\n",
       "      <td>1.286</td>\n",
       "      <td>0.778</td>\n",
       "    </tr>\n",
       "    <tr>\n",
       "      <th>1</th>\n",
       "      <td>2.51</td>\n",
       "      <td>198.570</td>\n",
       "      <td>119.968</td>\n",
       "      <td>72.480</td>\n",
       "      <td>43.789</td>\n",
       "      <td>26.456</td>\n",
       "      <td>15.983</td>\n",
       "      <td>9.657</td>\n",
       "      <td>5.834</td>\n",
       "      <td>3.525</td>\n",
       "      <td>2.129</td>\n",
       "      <td>1.287</td>\n",
       "      <td>0.777</td>\n",
       "    </tr>\n",
       "    <tr>\n",
       "      <th>2</th>\n",
       "      <td>2.52</td>\n",
       "      <td>200.030</td>\n",
       "      <td>120.765</td>\n",
       "      <td>72.911</td>\n",
       "      <td>44.019</td>\n",
       "      <td>26.576</td>\n",
       "      <td>16.045</td>\n",
       "      <td>9.687</td>\n",
       "      <td>5.848</td>\n",
       "      <td>3.531</td>\n",
       "      <td>2.132</td>\n",
       "      <td>1.287</td>\n",
       "      <td>0.777</td>\n",
       "    </tr>\n",
       "    <tr>\n",
       "      <th>3</th>\n",
       "      <td>2.53</td>\n",
       "      <td>201.492</td>\n",
       "      <td>121.564</td>\n",
       "      <td>73.342</td>\n",
       "      <td>44.249</td>\n",
       "      <td>26.696</td>\n",
       "      <td>16.106</td>\n",
       "      <td>9.717</td>\n",
       "      <td>5.863</td>\n",
       "      <td>3.537</td>\n",
       "      <td>2.134</td>\n",
       "      <td>1.287</td>\n",
       "      <td>0.777</td>\n",
       "    </tr>\n",
       "    <tr>\n",
       "      <th>4</th>\n",
       "      <td>2.54</td>\n",
       "      <td>202.958</td>\n",
       "      <td>122.364</td>\n",
       "      <td>73.774</td>\n",
       "      <td>44.478</td>\n",
       "      <td>26.816</td>\n",
       "      <td>16.167</td>\n",
       "      <td>9.747</td>\n",
       "      <td>5.877</td>\n",
       "      <td>3.543</td>\n",
       "      <td>2.136</td>\n",
       "      <td>1.288</td>\n",
       "      <td>0.776</td>\n",
       "    </tr>\n",
       "    <tr>\n",
       "      <th>...</th>\n",
       "      <td>...</td>\n",
       "      <td>...</td>\n",
       "      <td>...</td>\n",
       "      <td>...</td>\n",
       "      <td>...</td>\n",
       "      <td>...</td>\n",
       "      <td>...</td>\n",
       "      <td>...</td>\n",
       "      <td>...</td>\n",
       "      <td>...</td>\n",
       "      <td>...</td>\n",
       "      <td>...</td>\n",
       "      <td>...</td>\n",
       "    </tr>\n",
       "    <tr>\n",
       "      <th>245</th>\n",
       "      <td>4.95</td>\n",
       "      <td>1267.226</td>\n",
       "      <td>641.718</td>\n",
       "      <td>324.963</td>\n",
       "      <td>164.560</td>\n",
       "      <td>83.333</td>\n",
       "      <td>42.199</td>\n",
       "      <td>21.370</td>\n",
       "      <td>10.821</td>\n",
       "      <td>5.480</td>\n",
       "      <td>2.775</td>\n",
       "      <td>1.405</td>\n",
       "      <td>0.712</td>\n",
       "    </tr>\n",
       "    <tr>\n",
       "      <th>246</th>\n",
       "      <td>4.96</td>\n",
       "      <td>1323.326</td>\n",
       "      <td>667.368</td>\n",
       "      <td>336.561</td>\n",
       "      <td>169.731</td>\n",
       "      <td>85.597</td>\n",
       "      <td>43.168</td>\n",
       "      <td>21.770</td>\n",
       "      <td>10.979</td>\n",
       "      <td>5.537</td>\n",
       "      <td>2.792</td>\n",
       "      <td>1.408</td>\n",
       "      <td>0.710</td>\n",
       "    </tr>\n",
       "    <tr>\n",
       "      <th>247</th>\n",
       "      <td>4.97</td>\n",
       "      <td>1395.561</td>\n",
       "      <td>700.243</td>\n",
       "      <td>351.357</td>\n",
       "      <td>176.299</td>\n",
       "      <td>88.460</td>\n",
       "      <td>44.386</td>\n",
       "      <td>22.271</td>\n",
       "      <td>11.175</td>\n",
       "      <td>5.607</td>\n",
       "      <td>2.814</td>\n",
       "      <td>1.412</td>\n",
       "      <td>0.708</td>\n",
       "    </tr>\n",
       "    <tr>\n",
       "      <th>248</th>\n",
       "      <td>4.98</td>\n",
       "      <td>1497.240</td>\n",
       "      <td>746.247</td>\n",
       "      <td>371.941</td>\n",
       "      <td>185.381</td>\n",
       "      <td>92.397</td>\n",
       "      <td>46.052</td>\n",
       "      <td>22.953</td>\n",
       "      <td>11.440</td>\n",
       "      <td>5.702</td>\n",
       "      <td>2.842</td>\n",
       "      <td>1.416</td>\n",
       "      <td>0.706</td>\n",
       "    </tr>\n",
       "    <tr>\n",
       "      <th>249</th>\n",
       "      <td>4.99</td>\n",
       "      <td>1670.840</td>\n",
       "      <td>824.117</td>\n",
       "      <td>406.483</td>\n",
       "      <td>200.492</td>\n",
       "      <td>98.890</td>\n",
       "      <td>48.776</td>\n",
       "      <td>24.058</td>\n",
       "      <td>11.866</td>\n",
       "      <td>5.853</td>\n",
       "      <td>2.887</td>\n",
       "      <td>1.424</td>\n",
       "      <td>0.702</td>\n",
       "    </tr>\n",
       "  </tbody>\n",
       "</table>\n",
       "<p>250 rows × 13 columns</p>\n",
       "</div>"
      ],
      "text/plain": [
       "     star_rating  1_contribution  2_contribution  3_contribution  \\\n",
       "0           2.50         197.114         119.172          72.049   \n",
       "1           2.51         198.570         119.968          72.480   \n",
       "2           2.52         200.030         120.765          72.911   \n",
       "3           2.53         201.492         121.564          73.342   \n",
       "4           2.54         202.958         122.364          73.774   \n",
       "..           ...             ...             ...             ...   \n",
       "245         4.95        1267.226         641.718         324.963   \n",
       "246         4.96        1323.326         667.368         336.561   \n",
       "247         4.97        1395.561         700.243         351.357   \n",
       "248         4.98        1497.240         746.247         371.941   \n",
       "249         4.99        1670.840         824.117         406.483   \n",
       "\n",
       "     4_contribution  5_contribution  6_contribution  7_contribution  \\\n",
       "0            43.560          26.335          15.922           9.626   \n",
       "1            43.789          26.456          15.983           9.657   \n",
       "2            44.019          26.576          16.045           9.687   \n",
       "3            44.249          26.696          16.106           9.717   \n",
       "4            44.478          26.816          16.167           9.747   \n",
       "..              ...             ...             ...             ...   \n",
       "245         164.560          83.333          42.199          21.370   \n",
       "246         169.731          85.597          43.168          21.770   \n",
       "247         176.299          88.460          44.386          22.271   \n",
       "248         185.381          92.397          46.052          22.953   \n",
       "249         200.492          98.890          48.776          24.058   \n",
       "\n",
       "     8_contribution  9_contribution  10_contribution  11_contribution  \\\n",
       "0             5.820           3.519            2.127            1.286   \n",
       "1             5.834           3.525            2.129            1.287   \n",
       "2             5.848           3.531            2.132            1.287   \n",
       "3             5.863           3.537            2.134            1.287   \n",
       "4             5.877           3.543            2.136            1.288   \n",
       "..              ...             ...              ...              ...   \n",
       "245          10.821           5.480            2.775            1.405   \n",
       "246          10.979           5.537            2.792            1.408   \n",
       "247          11.175           5.607            2.814            1.412   \n",
       "248          11.440           5.702            2.842            1.416   \n",
       "249          11.866           5.853            2.887            1.424   \n",
       "\n",
       "     12_contribution  \n",
       "0              0.778  \n",
       "1              0.777  \n",
       "2              0.777  \n",
       "3              0.777  \n",
       "4              0.776  \n",
       "..               ...  \n",
       "245            0.712  \n",
       "246            0.710  \n",
       "247            0.708  \n",
       "248            0.706  \n",
       "249            0.702  \n",
       "\n",
       "[250 rows x 13 columns]"
      ]
     },
     "execution_count": 89,
     "metadata": {},
     "output_type": "execute_result"
    }
   ],
   "source": [
    "df"
   ]
  },
  {
   "cell_type": "code",
   "execution_count": 80,
   "id": "bc5a6ae6",
   "metadata": {},
   "outputs": [
    {
     "data": {
      "text/plain": [
       "0.7331784307091954"
      ]
     },
     "execution_count": 80,
     "metadata": {},
     "output_type": "execute_result"
    }
   ],
   "source": [
    "(np.tile(base_contributions, (12, 1)) ** exponents[:, None])[11,200]"
   ]
  },
  {
   "cell_type": "code",
   "execution_count": 60,
   "id": "43d5d3b9",
   "metadata": {},
   "outputs": [
    {
     "data": {
      "text/plain": [
       "612.5351645350031"
      ]
     },
     "execution_count": 60,
     "metadata": {},
     "output_type": "execute_result"
    }
   ],
   "source": [
    "base_contributions[200]*exponents[1]"
   ]
  },
  {
   "cell_type": "code",
   "execution_count": 56,
   "id": "4f633d21",
   "metadata": {},
   "outputs": [
    {
     "data": {
      "text/plain": [
       "612.5351645350031"
      ]
     },
     "execution_count": 56,
     "metadata": {},
     "output_type": "execute_result"
    }
   ],
   "source": [
    "full_contributions[1,200]"
   ]
  },
  {
   "cell_type": "code",
   "execution_count": 38,
   "id": "bb3a9d39",
   "metadata": {},
   "outputs": [
    {
     "data": {
      "text/plain": [
       "(12,)"
      ]
     },
     "execution_count": 38,
     "metadata": {},
     "output_type": "execute_result"
    }
   ],
   "source": [
    "exponents.shape"
   ]
  },
  {
   "cell_type": "code",
   "execution_count": null,
   "id": "ccbe5772",
   "metadata": {},
   "outputs": [],
   "source": []
  },
  {
   "cell_type": "code",
   "execution_count": 2,
   "id": "579a8ec2",
   "metadata": {
    "scrolled": true
   },
   "outputs": [],
   "source": [
    "# Replace with own SerpAPI key\n",
    "serp_key = serpapi_key"
   ]
  },
  {
   "cell_type": "markdown",
   "id": "94bb9e89",
   "metadata": {},
   "source": [
    "# Unit Test\n",
    "Identical Prompt: \"NVIDIA stock\"\n",
    "\n",
    "Note that some scores (namely Content Relevance) are subject to change as some of these pages should update daily.\n",
    "\n",
    "Fixed Scores:\n",
    "- Domain Trust is always 60 because it currently has a placeholder value.\n",
    "- Fact-Check Score is always 50 because the Fact-Check scorer uses a malformed API endpoint and thus always fails to obtain data that can be converted to json format, defaulting to 50.\n",
    "- Bias Score appears to always return \"Negative\" for sentiment, resulting in a score of 30.\n",
    "- Citation Score should almost always be 0, as nearly all webpages are not in academic papers."
   ]
  },
  {
   "cell_type": "code",
   "execution_count": 3,
   "id": "8da7c8e9",
   "metadata": {},
   "outputs": [],
   "source": [
    "user_prompt = \"NVIDIA stock\""
   ]
  },
  {
   "cell_type": "markdown",
   "id": "216501a1",
   "metadata": {},
   "source": [
    "## Forbes Magazine Article\n",
    "Content Relevance: 43.12271177768707\n",
    "\n",
    "Note that the longer the text of a page, the more likely it contains content that is unrelated to the prompt, which causes the content relevance score to reduce. This is not particularly desirable, as long-form content such as articles are more likely to be penalized than shorter webpages. The semantic comparison engine may need to be adjusted based on length of the webpage content."
   ]
  },
  {
   "cell_type": "code",
   "execution_count": 4,
   "id": "ad3ef654",
   "metadata": {
    "scrolled": true
   },
   "outputs": [
    {
     "name": "stdout",
     "output_type": "stream",
     "text": [
      "1\n",
      "Jan. 29, 4 p.m. EST Nvidia stock ends Wednesday trading down 4% in a turbulent session that wiped out about $130 billion in market value, with earnings reports from top customers Meta, Nvidia and Tesla all due this afternoon all potential catalysts for further movement in the stock.\n",
      "Raw similarity score: 69.74029541015625\n",
      "{'Domain Trust': 2, 'Content Relevance': 4.97, 'Final Validity Score': 2.691}\n"
     ]
    }
   ],
   "source": [
    "url_to_check = \"https://www.forbes.com/sites/dereksaul/2025/01/28/deepseek-panic-live-updates-nvidia-stock-makes-history-again-with-260-billion-rebound/\"\n",
    "\n",
    "result = rate_url_validity(user_prompt, url_to_check, serp_key)\n",
    "print(result)"
   ]
  },
  {
   "cell_type": "code",
   "execution_count": 25,
   "id": "391b7b7b",
   "metadata": {
    "scrolled": true
   },
   "outputs": [
    {
     "data": {
      "text/plain": [
       "['n.rivals.com',\n",
       " 'stockstory.org',\n",
       " 'facebook.com',\n",
       " 'twitter.com',\n",
       " 'policies.oath.com',\n",
       " 'www.yahooinc.com',\n",
       " 'www.adtech.yahooinc.com',\n",
       " 'info.wrightsmedia.com',\n",
       " 'www.linkedin.com',\n",
       " 'yahoo.uservoice.com',\n",
       " 'www.nvidia.com']"
      ]
     },
     "execution_count": 25,
     "metadata": {},
     "output_type": "execute_result"
    }
   ],
   "source": [
    "url_to_check = \"https://finance.yahoo.com/quote/NVDA/\"\n",
    "extract_outgoing_links(scrape_url_content(url_to_check), url_to_check)"
   ]
  },
  {
   "cell_type": "markdown",
   "id": "1affff0e",
   "metadata": {},
   "source": [
    "## CNBC Stock Quotes\n",
    "Content Relevance: 8.290518075227737\n",
    "\n",
    "Notice that the \"PROFILE\" section on this webpage has not been picked up by this scraper, removing most of the relevant text from the page that would be related to the user prompt. This is a deficiency in the scraper which needs to be rectified. This website is highly relevant to the user prompt and is scored extremely low on that metric."
   ]
  },
  {
   "cell_type": "code",
   "execution_count": 6,
   "id": "d2bbcb55",
   "metadata": {
    "scrolled": true
   },
   "outputs": [
    {
     "name": "stdout",
     "output_type": "stream",
     "text": [
      "0\n",
      "NVIDIA Corporation is a full-stack computing infrastructure company. The Company is engaged in accelerated computing to help solve the challenging computational problems. The Companys segments include Compute & Networking and Graphics. The Compute & Networking segment includes its Data Center accelerated computing platforms and artificial intelligence (AI) solutions and software; networking; automotive platforms and autonomous and electric vehicle solutions; Jetson for...\n",
      "Raw similarity score: 63.55219483375549\n",
      "{'Domain Trust': 0, 'Content Relevance': 4.36, 'Final Validity Score': 1.308}\n",
      "CPU times: user 1.17 s, sys: 36.4 ms, total: 1.21 s\n",
      "Wall time: 2.25 s\n"
     ]
    }
   ],
   "source": [
    "%%time\n",
    "url_to_check = \"https://www.cnbc.com/quotes/NVDA\"\n",
    "\n",
    "result = rate_url_validity(user_prompt, url_to_check, serp_key)\n",
    "\n",
    "print(result)"
   ]
  },
  {
   "cell_type": "code",
   "execution_count": 7,
   "id": "e4b660f4",
   "metadata": {
    "scrolled": true
   },
   "outputs": [],
   "source": [
    "# scrape_url_content(url_to_check, len(user_prompt) * 2)[1]"
   ]
  },
  {
   "cell_type": "markdown",
   "id": "e3f8b2c0",
   "metadata": {},
   "source": [
    "## Official NVIDIA Website\n",
    "Content Relevance: 41.894444823265076\n",
    "\n",
    "Note that the content relevance is matching heavily on the word \"NVIDIA\", even though this homepage has nothing to do with stocks. A content relevance score of ~42 is not excessively high, but it is nearly the same as the Forbes' article which is specifically about NVIDIA stocks, despite this page having nothing to do with stocks. This may be a drawback of the semantic comparison engine."
   ]
  },
  {
   "cell_type": "code",
   "execution_count": 8,
   "id": "6782bd01",
   "metadata": {
    "scrolled": true
   },
   "outputs": [
    {
     "name": "stdout",
     "output_type": "stream",
     "text": [
      "1\n",
      "From the cloud to the office to the data center to the edge, NVIDIA provides solutions that deliver breakthrough performance on enterprise AI and HPC workloads at any scale, driving business decisions in real time and resulting in faster time to value.\n",
      "Raw similarity score: 50.947755575180054\n",
      "{'Domain Trust': 1, 'Content Relevance': 3.09, 'Final Validity Score': 1.527}\n"
     ]
    }
   ],
   "source": [
    "url_to_check = \"https://www.nvidia.com\"\n",
    "\n",
    "result = rate_url_validity(user_prompt, url_to_check, serp_key)\n",
    "\n",
    "print(result)"
   ]
  },
  {
   "cell_type": "code",
   "execution_count": 9,
   "id": "62fee9e0",
   "metadata": {
    "scrolled": true
   },
   "outputs": [],
   "source": [
    "# scrape_url_content(url_to_check, len(user_prompt) * 2)[11]"
   ]
  },
  {
   "cell_type": "markdown",
   "id": "0d4d370f",
   "metadata": {},
   "source": [
    "## Marketwatch\n",
    "Error from being unable to scrape a highly reputable website designed with anti-scraping measures. It may be worthwhile to rate the domain credibility separately from trying to scrape the website."
   ]
  },
  {
   "cell_type": "code",
   "execution_count": 10,
   "id": "3d9df179",
   "metadata": {
    "scrolled": true
   },
   "outputs": [
    {
     "name": "stdout",
     "output_type": "stream",
     "text": [
      "{'error': 'Failed to fetch content: 401 Client Error: HTTP Forbidden for url: https://www.marketwatch.com/investing/stock/nvda'}\n"
     ]
    }
   ],
   "source": [
    "url_to_check = \"https://www.marketwatch.com/investing/stock/nvda\"\n",
    "\n",
    "result = rate_url_validity(user_prompt, url_to_check, serp_key)\n",
    "\n",
    "print(result)"
   ]
  },
  {
   "cell_type": "markdown",
   "id": "314e4281",
   "metadata": {},
   "source": [
    "## Yahoo Finance\n",
    "Content Relevance: 71.57930135726929\n",
    "\n",
    "The web scraper managed to pick up all of the information in the \"About\" section of the webpage and little else, giving a high performance in terms of content relevance."
   ]
  },
  {
   "cell_type": "code",
   "execution_count": 11,
   "id": "261987b4",
   "metadata": {
    "scrolled": true
   },
   "outputs": [
    {
     "name": "stdout",
     "output_type": "stream",
     "text": [
      "0\n",
      "NVIDIA Corporation provides graphics and compute and networking solutions in the United States, Taiwan, China, Hong Kong, and internationally. The Graphics segment offers GeForce GPUs for gaming and PCs, the GeForce NOW game streaming service and related infrastructure, and solutions for gaming platforms; Quadro/NVIDIA RTX GPUs for enterprise workstation graphics; virtual GPU or vGPU software for cloud-based visual and virtual computing; automotive platforms for infotainment systems; and Omniverse software for building and operating metaverse and 3D internet applications. The Compute & Networking segment comprises Data Center computing platforms and end-to-end networking platforms, including Quantum for InfiniBand and Spectrum for Ethernet; NVIDIA DRIVE automated-driving platform and automotive development agreements; Jetson robotics and other embedded platforms; NVIDIA AI Enterprise and other software; and DGX Cloud software and services. The company's products are used in gaming, professional visualization, data center, and automotive markets. It sells its products to original equipment manufacturers, original device manufacturers, system integrators and distributors, independent software vendors, cloud service providers, consumer internet companies, add-in board manufacturers, distributors, automotive manufacturers and tier-1 automotive suppliers, and other ecosystem participants. NVIDIA Corporation was incorporated in 1993 and is headquartered in Santa Clara, California.\n",
      "Raw similarity score: 64.97509479522705\n",
      "{'Domain Trust': 0, 'Content Relevance': 4.5, 'Final Validity Score': 1.3499999999999999}\n"
     ]
    }
   ],
   "source": [
    "url_to_check = \"https://finance.yahoo.com/quote/NVDA/\"\n",
    "\n",
    "result = rate_url_validity(user_prompt, url_to_check, serp_key)\n",
    "\n",
    "print(result)"
   ]
  },
  {
   "cell_type": "code",
   "execution_count": 12,
   "id": "a60ced5b",
   "metadata": {
    "scrolled": true
   },
   "outputs": [],
   "source": [
    "# scrape_url_content(url_to_check, len(user_prompt) * 2)[1]"
   ]
  },
  {
   "cell_type": "markdown",
   "id": "e95f8876",
   "metadata": {},
   "source": [
    "## Trading View\n",
    "Content Relevance: 34.80248749256134\n",
    "\n",
    "The content of this page is highly relevant towards the actual stock price and history of NVIDIA but contains very little text for the scraper to capture. This causes the content relevance to drop when it should be fairly high."
   ]
  },
  {
   "cell_type": "code",
   "execution_count": 13,
   "id": "a397f88b",
   "metadata": {
    "scrolled": true
   },
   "outputs": [
    {
     "name": "stdout",
     "output_type": "stream",
     "text": [
      "2\n",
      "NVIDIA Corp engages in the design and manufacture of computer graphics processors, chipsets, and related multimedia software. It operates through the following segments: Graphics Processing Unit (GPU), Tegra Processor, and All Other. The GPU segment comprises of product brands, which aims specialized markets including GeForce for gamers; Quadro for designers; Tesla and DGX for AI data scientists and big data researchers; and GRID for cloud-based visual computing users. The Tegra Processor segment integrates an entire computer onto a single chip, and incorporates GPUs and multi-core CPUs to drive supercomputing for autonomous robots, drones, and cars, as well as for consoles and mobile gaming and entertainment devices. The All Other segment refers to the stock-based compensation expense, corporate infrastructure and support costs, acquisition-related costs, legal settlement costs, and other non-recurring charges. The company was founded by Jen Hsun Huang, Chris A. Malachowsky, and Curtis R. Priem in January 1993 and is headquartered in Santa Clara, CA.\n",
      "Raw similarity score: 61.480242013931274\n",
      "{'Domain Trust': 0, 'Content Relevance': 4.15, 'Final Validity Score': 1.245}\n"
     ]
    }
   ],
   "source": [
    "url_to_check = \"https://www.tradingview.com/symbols/NASDAQ-NVDA/\"\n",
    "\n",
    "result = rate_url_validity(user_prompt, url_to_check, serp_key)\n",
    "\n",
    "print(result)"
   ]
  },
  {
   "cell_type": "code",
   "execution_count": 14,
   "id": "aa04e415",
   "metadata": {
    "scrolled": true
   },
   "outputs": [],
   "source": [
    "# scrape_url_content(url_to_check, len(user_prompt) * 2)[2]"
   ]
  },
  {
   "cell_type": "markdown",
   "id": "fcf52f39",
   "metadata": {},
   "source": [
    "## Barchart Article\n",
    "Content Relevance: 20.299533009529114\n",
    "\n",
    "This article provides useful information about NVIDIA stock, but the scraper failed to pick up nearly any of the text available on the page."
   ]
  },
  {
   "cell_type": "code",
   "execution_count": 15,
   "id": "05c84d74",
   "metadata": {
    "scrolled": true
   },
   "outputs": [
    {
     "name": "stdout",
     "output_type": "stream",
     "text": [
      "Raw similarity score: 0\n",
      "{'Domain Trust': 2, 'Content Relevance': 1.0, 'Final Validity Score': 1.5}\n"
     ]
    }
   ],
   "source": [
    "url_to_check = \"https://www.barchart.com/story/news/30841907/dear-nvidia-stock-fans-mark-your-calendars-for-february-26\"\n",
    "\n",
    "result = rate_url_validity(user_prompt, url_to_check, serp_key)\n",
    "\n",
    "print(result)"
   ]
  },
  {
   "cell_type": "code",
   "execution_count": 16,
   "id": "04fd5b7b",
   "metadata": {
    "scrolled": true
   },
   "outputs": [],
   "source": [
    "# scrape_url_content(url_to_check, len(user_prompt) * 2)"
   ]
  },
  {
   "cell_type": "markdown",
   "id": "e6d86747",
   "metadata": {},
   "source": [
    "## CNN Stock Lookup\n",
    "Content Relevance: 62.75913119316101\n",
    "\n",
    "The scraper picked up on the \"About NVDA\" section which boosted the content relevance score."
   ]
  },
  {
   "cell_type": "code",
   "execution_count": 17,
   "id": "70d4df43",
   "metadata": {
    "scrolled": true
   },
   "outputs": [
    {
     "name": "stdout",
     "output_type": "stream",
     "text": [
      "1\n",
      "NVIDIA Corp. engages in the design and manufacture of computer graphics processors, chipsets, and related multimedia software. It operates through the following segments: Graphics Processing Unit (GPU) and Compute & Networking. The Graphics segment includes GeForce GPUs for gaming and PCs, the GeForce NOW game streaming service and related infrastructure, Quadro and NVIDIA RTX GPUs for enterprise workstation graphics, virtual GPU, or vGPU, software for cloud-based visual and virtual computing, automotive platforms for infotainment systems, and Omniverse Enterprise software for building and operating metaverse and 3D internet applications. The Compute & Networking segment consists of Data Center accelerated computing platforms and end-to-end networking platforms including Quantum for InfiniBand and Spectrum for Ethernet, NVIDIA DRIVE automated-driving platform and automotive development agreements, Jetson robotics and other embedded platforms, NVIDIA AI Enterprise and other software, and DGX Cloud software and services. The company was founded by Jen Hsun Huang, Chris A. Malachowsky, and Curtis R. Priem in April 1993 and is headquartered in Santa Clara, CA.\n",
      "Raw similarity score: 62.279438972473145\n",
      "{'Domain Trust': 1, 'Content Relevance': 4.23, 'Final Validity Score': 1.8690000000000002}\n"
     ]
    }
   ],
   "source": [
    "url_to_check = \"https://www.cnn.com/markets/stocks/NVDA\"\n",
    "\n",
    "result = rate_url_validity(user_prompt, url_to_check, serp_key)\n",
    "\n",
    "print(result)"
   ]
  },
  {
   "cell_type": "code",
   "execution_count": 18,
   "id": "4e8712ae",
   "metadata": {
    "scrolled": true
   },
   "outputs": [],
   "source": [
    "# scrape_url_content(url_to_check, len(user_prompt) * 2)[44]"
   ]
  },
  {
   "cell_type": "markdown",
   "id": "fc01c196",
   "metadata": {},
   "source": [
    "## Google Finance Stock Quote\n",
    "Content Relevance: 9.07139778137207\n",
    "\n",
    "Like the CNBC stock quote website, the scraper failed to pick up the \"About\" text on the page. In fact, the scraper picked up no text at all from the page, so it is surprising that the content relevance is nonzero."
   ]
  },
  {
   "cell_type": "code",
   "execution_count": 19,
   "id": "ea81dcd0",
   "metadata": {
    "scrolled": true
   },
   "outputs": [
    {
     "name": "stdout",
     "output_type": "stream",
     "text": [
      "1\n",
      "Nvidia Corporation is an American multinational corporation and technology company headquartered in Santa Clara, California, and incorporated in Delaware. Founded in 1993 by Jensen Huang, Chris Malachowsky, and Curtis Priem, it is a software company which designs and supplies graphics processing units, application programming interfaces for data science and high-performance computing, and system on a chip units for mobile computing and the automotive market. Nvidia is also a leading supplier of artificial intelligence hardware and software. Nvidia outsources the manufacturing of the hardware it designs.\n",
      "Nvidia's professional line of GPUs are used for edge-to-cloud computing and in supercomputers and workstations for applications in fields such as architecture, engineering and construction, media and entertainment, automotive, scientific research, and manufacturing design. Its GeForce line of GPUs are aimed at the consumer market and are used in applications such as video editing, 3D rendering, and PC gaming. With a market share of 80.2% in the second quarter of 2023, Nvidia leads global sales of discrete desktop GPUs by a wide margin. WikipediaCEOJensen HuangFoundedApr 5, 1993HeadquartersSanta Clara, CaliforniaUnited StatesWebsitenvidia.comEmployees29,600\n",
      "Raw similarity score: 62.55064010620117\n",
      "{'Domain Trust': 0, 'Content Relevance': 4.26, 'Final Validity Score': 1.2779999999999998}\n"
     ]
    }
   ],
   "source": [
    "url_to_check = \"https://www.google.com/finance/quote/NVDA:NASDAQ?hl=en\"\n",
    "\n",
    "result = rate_url_validity(user_prompt, url_to_check, serp_key)\n",
    "\n",
    "print(result)"
   ]
  },
  {
   "cell_type": "code",
   "execution_count": 20,
   "id": "45a9a55d",
   "metadata": {
    "scrolled": true
   },
   "outputs": [],
   "source": [
    "# scrape_url_content(url_to_check, len(user_prompt) * 2)[3]"
   ]
  },
  {
   "cell_type": "markdown",
   "id": "96244016",
   "metadata": {},
   "source": [
    "# Negative Unit Tests (deliberately wrong URLs)"
   ]
  },
  {
   "cell_type": "markdown",
   "id": "a67d8bb8",
   "metadata": {},
   "source": [
    "## Yahoo Finance Quote for AMD\n",
    "Content Relevance: 34.59650278091431\n",
    "\n",
    "Although the relevance score is not particularly high, it performs about average for most of the other unit tests involving correct URLs referencing NVIDIA, even though this URL is focused on AMD. This is probably because the semantic scorer is matching on the \"stock\" part of the prompt."
   ]
  },
  {
   "cell_type": "code",
   "execution_count": 21,
   "id": "b28bb838",
   "metadata": {},
   "outputs": [
    {
     "name": "stdout",
     "output_type": "stream",
     "text": [
      "0\n",
      "Advanced Micro Devices, Inc. operates as a semiconductor company worldwide. It operates through Data Center, Client, Gaming, and Embedded segments. The company offers x86 microprocessors and graphics processing units (GPUs) as an accelerated processing unit, chipsets, data center, and professional GPUs; and embedded processors, and semi-custom system-on-chip (SoC) products, microprocessor and SoC development services and technology, data processing unites, field programmable gate arrays (FPGA), and adaptive SoC products. It provides processors under the AMD Ryzen, AMD Ryzen PRO, Ryzen Threadripper, Ryzen Threadripper PRO, AMD Athlon, AMD Athlon PRO, and AMD PRO A-Series brand names; graphics under the AMD Radeon graphics and AMD Embedded Radeon graphics; and professional graphics under the AMD Radeon Pro graphics brand name. In addition, the company offers data center graphics under the Radeon Instinct and Radeon PRO V-series brands, as well as servers under the AMD Instinct accelerators brand; server microprocessors under the AMD EPYC brands; low power solutions under the AMD Athlon, AMD Geode, AMD Ryzen, AMD EPYC, AMD R-Series, and G-Series brands; FPGA products under the Virtex-6, Virtex-7, Virtex UltraScale+, Kintex-7, Kintex UltraScale, Kintex UltraScale+, Artix-7, Artix UltraScale+, Spartan-6, and Spartan-7 brands; adaptive SOCs under the Zynq-7000, Zynq UltraScale+ MPSoC, Zynq UltraScale+ RFSoCs, Versal HBM, Versal Premium, Versal Prime, Versal AI Core, Versal AI Edge, Vitis, and Vivado brands; and compute and network acceleration board products under the Alveo brand. It serves original equipment and design manufacturers, public cloud service providers, system integrators, independent distributors, and add-in-board manufacturers through its direct sales force, and sales representatives. Advanced Micro Devices, Inc. was incorporated in 1969 and is headquartered in Santa Clara, California.\n",
      "Raw similarity score: 34.596505761146545\n",
      "{'Domain Trust': 0, 'Content Relevance': 1.77, 'Final Validity Score': 0.531}\n"
     ]
    }
   ],
   "source": [
    "url_to_check = \"https://finance.yahoo.com/quote/AMD/\"\n",
    "\n",
    "result = rate_url_validity(user_prompt, url_to_check, serp_key)\n",
    "\n",
    "print(result)"
   ]
  },
  {
   "cell_type": "code",
   "execution_count": 22,
   "id": "a7ac8108",
   "metadata": {},
   "outputs": [],
   "source": [
    "# scrape_url_content(url_to_check, len(user_prompt) * 2)"
   ]
  },
  {
   "cell_type": "markdown",
   "id": "e2c1bc2e",
   "metadata": {},
   "source": [
    "## WebMD Page on COVID-19\n",
    "Content Relevance: 13.424356281757355\n",
    "\n",
    "This page has nothing to do with NVIDIA or stocks, and yet it has scored higher than many relevant links!"
   ]
  },
  {
   "cell_type": "code",
   "execution_count": 23,
   "id": "1704559f",
   "metadata": {},
   "outputs": [
    {
     "name": "stdout",
     "output_type": "stream",
     "text": [
      "28\n",
      "FDA: Coronavirus (COVID-19) Update: Daily Roundup April 1, 2020, Emergency Use Authorization, Letter of Authorization: Dr. Rick Bright, Ph.D., Understanding Unapproved Use of Approved Drugs 'Off Label,'Coronavirus (COVID-19) Update: FDA Alerts Consumers About Unauthorized Fraudulent COVID-19 Test Kits,Coronavirus Disease 2019 (COVID-19) Frequently Asked Questions, Coronavirus (COVID-19) Update: Serological Tests.\n",
      "Raw similarity score: 21.31349742412567\n",
      "{'Domain Trust': 0, 'Content Relevance': 1.0, 'Final Validity Score': 0.3}\n"
     ]
    }
   ],
   "source": [
    "url_to_check = \"https://www.webmd.com/covid/coronavirus\"\n",
    "\n",
    "result = rate_url_validity(user_prompt, url_to_check, serp_key)\n",
    "\n",
    "print(result)"
   ]
  },
  {
   "cell_type": "code",
   "execution_count": 24,
   "id": "7fcb9474",
   "metadata": {},
   "outputs": [],
   "source": [
    "# scrape_url_content(url_to_check, len(user_prompt) * 2)[30]"
   ]
  },
  {
   "cell_type": "markdown",
   "id": "9bc7049b",
   "metadata": {},
   "source": [
    "# Notable Patterns\n",
    "\n",
    "- The scraper fails to pick up the correct text on the page frequently, resulting in many misclassified and poor scores. This indicates a need to improve the scraping process.\n",
    "- Webpages with lots of text are being unncessarily penalized due to increased differences between the user prompt vector and the webpage content vector, because as the size of the webpage content increases, the keywords from the user prompt become more sparse.\n",
    "- Even strong websites are being rated between 40 and 70 out of 100. If a website is highly relevant, these scores should be closer to 80-90+; conservative scoring is obscuring the true credibility of the website.\n",
    "- Websites with no text scraped should have content relevance scores that are 0; however, because cosine similarity requires vectors to be orthogonal to produce an output of zero (and the zero vector has no direction so it is not orthogonal), they are currently given low, albeit nonzero scores. Websites that cannot be scraped should not exit the entire process and should instead just exclude the Content Relevance check, scoring on as many attributes as they can."
   ]
  }
 ],
 "metadata": {
  "kernelspec": {
   "display_name": "Python 3 (ipykernel)",
   "language": "python",
   "name": "python3"
  },
  "language_info": {
   "codemirror_mode": {
    "name": "ipython",
    "version": 3
   },
   "file_extension": ".py",
   "mimetype": "text/x-python",
   "name": "python",
   "nbconvert_exporter": "python",
   "pygments_lexer": "ipython3",
   "version": "3.8.10"
  }
 },
 "nbformat": 4,
 "nbformat_minor": 5
}
