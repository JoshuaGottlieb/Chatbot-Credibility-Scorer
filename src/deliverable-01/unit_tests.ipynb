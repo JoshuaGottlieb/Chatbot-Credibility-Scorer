{
 "cells": [
  {
   "cell_type": "code",
   "execution_count": 1,
   "id": "b28318f7",
   "metadata": {
    "scrolled": true
   },
   "outputs": [
    {
     "name": "stderr",
     "output_type": "stream",
     "text": [
      "/home/joshua/.local/lib/python3.10/site-packages/sentence_transformers/cross_encoder/CrossEncoder.py:13: TqdmExperimentalWarning: Using `tqdm.autonotebook.tqdm` in notebook mode. Use `tqdm.tqdm` instead to force console mode (e.g. in jupyter console)\n",
      "  from tqdm.autonotebook import tqdm, trange\n",
      "2025-02-11 18:27:47.352340: I tensorflow/tsl/cuda/cudart_stub.cc:28] Could not find cuda drivers on your machine, GPU will not be used.\n",
      "2025-02-11 18:27:47.407213: I tensorflow/core/platform/cpu_feature_guard.cc:182] This TensorFlow binary is optimized to use available CPU instructions in performance-critical operations.\n",
      "To enable the following instructions: AVX2 FMA, in other operations, rebuild TensorFlow with the appropriate compiler flags.\n",
      "2025-02-11 18:27:49.475736: W tensorflow/compiler/tf2tensorrt/utils/py_utils.cc:38] TF-TRT Warning: Could not find TensorRT\n"
     ]
    }
   ],
   "source": [
    "# Importing scoring function\n",
    "from credibility_score import rate_url_validity, scrape_url_content\n",
    "\n",
    "# Importing SerpAPI key from a local api_keys.py file, comment out if manually including key\n",
    "from api_keys import serpapi_key"
   ]
  },
  {
   "cell_type": "code",
   "execution_count": 2,
   "id": "579a8ec2",
   "metadata": {
    "scrolled": true
   },
   "outputs": [],
   "source": [
    "# Replace with own SerpAPI key\n",
    "serp_key = serpapi_key"
   ]
  },
  {
   "cell_type": "markdown",
   "id": "94bb9e89",
   "metadata": {},
   "source": [
    "# Unit Test\n",
    "Identical Prompt: \"NVIDIA stock\"\n",
    "\n",
    "Note that some scores (namely Content Relevance) are subject to change as some of these pages should update daily.\n",
    "\n",
    "Fixed Scores:\n",
    "- Domain Trust is always 60 because it currently has a placeholder value.\n",
    "- Fact-Check Score is always 50 because the Fact-Check scorer uses a malformed API endpoint and thus always fails to obtain data that can be converted to json format, defaulting to 50.\n",
    "- Bias Score appears to always return \"Negative\" for sentiment, resulting in a score of 30.\n",
    "- Citation Score should almost always be 0, as nearly all webpages are not in academic papers."
   ]
  },
  {
   "cell_type": "code",
   "execution_count": 3,
   "id": "8da7c8e9",
   "metadata": {},
   "outputs": [],
   "source": [
    "user_prompt = \"NVIDIA stock\""
   ]
  },
  {
   "cell_type": "markdown",
   "id": "216501a1",
   "metadata": {},
   "source": [
    "## Forbes Magazine Article\n",
    "Content Relevance: 43.12271177768707\n",
    "\n",
    "Note that the longer the text of a page, the more likely it contains content that is unrelated to the prompt, which causes the content relevance score to reduce. This is not particularly desirable, as long-form content such as articles are more likely to be penalized than shorter webpages. The semantic comparison engine may need to be adjusted based on length of the webpage content."
   ]
  },
  {
   "cell_type": "code",
   "execution_count": 3,
   "id": "ad3ef654",
   "metadata": {
    "scrolled": true
   },
   "outputs": [
    {
     "name": "stderr",
     "output_type": "stream",
     "text": [
      "/home/josh/.local/lib/python3.8/site-packages/torch/_utils.py:831: UserWarning: TypedStorage is deprecated. It will be removed in the future and UntypedStorage will be the only storage class. This should only matter to you if you are using storages directly.  To access UntypedStorage directly, use tensor.untyped_storage() instead of tensor.storage()\n",
      "  return self.fget.__get__(instance, owner)()\n"
     ]
    },
    {
     "name": "stdout",
     "output_type": "stream",
     "text": [
      "{'Domain Trust': 60, 'Content Relevance': 43.12271177768707, 'Fact-Check Score': 50, 'Bias Score': 30, 'Citation Score': 0, 'Final Validity Score': 43.93681353330612}\n"
     ]
    }
   ],
   "source": [
    "url_to_check = \"https://www.forbes.com/sites/dereksaul/2025/01/28/deepseek-panic-live-updates-nvidia-stock-makes-history-again-with-260-billion-rebound/\"\n",
    "\n",
    "result = rate_url_validity(user_prompt, url_to_check, serp_key)\n",
    "print(result)"
   ]
  },
  {
   "cell_type": "code",
   "execution_count": 4,
   "id": "391b7b7b",
   "metadata": {
    "scrolled": true
   },
   "outputs": [
    {
     "data": {
      "text/plain": [
       "'The release of a less capital-intensive artificial intelligence model from China’s DeepSeek sent a chill through the U.S. stock market this week, headlined by losses Monday and Wednesday from Nvidia, the Silicon Valley giant which designs most of the pricey semiconductor technology powering the AI revolution. DeepSeek has been accused of using outputs generated by OpenAI\\'s tools to train its latest AI model. Jan. 29, 4 p.m. EST Nvidia stock ends Wednesday trading down 4% in a turbulent session that wiped out about $130 billion in market value, with earnings reports from top customers Meta, Nvidia and Tesla all due this afternoon all potential catalysts for further movement in the stock. To recap Nvidia’s whipsaw week: Its market value fell by about $590 billion Monday, rose by roughly $260 billion Tuesday and dropped $130 billion Wednesday. Wall Street analysts still mostly view the selloff as a overreaction, and Bank of America analysts led by Vivek Arya wrote Wednesday to clients they “view the recent selloff as an enhanced buy opportunity” for Nvidia stock, reaffirming faith in hundreds of billions of dollars of spending this decade in the AI technology which Nvidia designs. Jan. 29, 1:30 p.m. EST President Donald Trump is considering placing more restrictions on Nvidia’s semiconductor chip sales to China beyond what the Biden administration placed in an effort to limit AI advancement in the Asian country, Bloomberg reported, citing anonymous sources. It’s unclear if the potentially amped-up controls are directly tied to the DeepSeek fallout — Nvidia said Monday the Chinese AI group fully complied with existing export laws with its use of Nvidia’s technology — though Howard Lutnick, Trump’s pick for Commerce Secretary, laid into DeepSeek at his Wednesday confirmation hearing, saying: “Nvidia’s chips, which they bought tons of, and they found their ways around, drive their DeepSeek model. It’s got to end.” China accounted for more than 15% of Nvidia’s revenues in its most recent quarter. Jan. 29, 12 p.m. EST Nvidia’s Wall Street woes continued as shares dropped about 5% by midday, bringing the stock’s loss this week back up to nearly 15%. Jan. 29, 9:40 a.m. EST After mounting a historic comeback Wednesday, Nvidia stock fell again, declining about 3% in the first 10 minutes of regular trading, leading a broader tech slump as the likes of Apple, Microsoft and Tesla all declined roughly 1% apiece. Jan. 29, 8:30 a.m. EST New York-listed shares of Chinese technology giant Alibaba rise more than 3% in premarket trading, set to open at their highest level since early November. Alibaba said earlier Wednesday the latest version of its Qwen generative AI model scored better on several performance tests than the models from rivals like DeepSeek, OpenAI and Meta. Jan. 29, 3 a.m. EST OpenAI told the Financial Times that it has seen some evidence that its AI models were used by DeepSeek to train its own—which would be a breach of the ChatGPT maker’s terms of services. Bloomberg previously reported that Microsoft and OpenAI were investigating whether DeepSeek gained access to OpenAI’s data outputs in an unauthorized manner. Jan. 29, 12 a.m. EST White House artificial intelligence czar David Sacks told Fox News that there was “substantial evidence” suggesting that Deepseek had “distilled the knowledge out of OpenAI’s models,” adding “I don’t think OpenAI is very happy about this.” In this context, distillation is a process where an AI model uses responses generated by other, more powerful, AI models to aid its development. Sacks added that over the next few months he expects leading U.S. AI companies will be \"taking steps to try and prevent distillation” to slow down “these copycat models.”  Jan. 28, 4 p.m. EST Nvidia stock ends normal trading up 8.8%, scoring its best percentage gain in six months. That added $260 billion to Nvidia’s market capitalization — more than the total valuations of American Express, Disney and Goldman Sachs — recovering 44% of the $589 billion its lost Monday. Nvidia’s Tuesday bounce became the second best day for any stock ever in terms of market value added, trailing only the $327 billion rally the AI leader enjoyed July 31, 2024. Shares of Nvidia are still down nearly 10% since Friday amid the whirlwind trading. Jan. 28, 1:45 p.m. ESTApple stock rallied 4% to about $239 per share, building on its 3% gain Monday as many of its Silicon Valley peers faltered and extending its market value added this week to about $240 billion. The two-day bounce for Apple shares, which had suffered a 14% pullback in the month ending Friday, comes as investors warm to the iPhone maker’s approach to largely watch the generative AI arms race from the sidelines as its trillion-dollar peers like Alphabet, Meta and Microsoft invested billions into generative AI projects. Apple emerges as a “relative winner” as DeepSeek shifted investor narratives on AI, wrote Morgan Stanley analysts led by Brian Nowak in a Tuesday note to clients, explaining Apple’s “AI ambitions are far more contained” than the other “magnificent seven” American tech leaders. Apple also stands to greatly benefit from any advancements from large-language models, like DeepSeek’s, as Apple “owns the most valuable consumer technology distribution platform that exists,” Nowak added. Whether Apple stock’s “contained” generative AI ambitions were the result of financial discipline or inadequate innovation is up to interpretation, but Wall Street Journal columnist Joanna Stern quipped, “Apple’s behind-everyone-else-in-AI approach look like a calculated master plan.” After heading into the week down $143 billion in the race with Nvidia for world’s most valuable company, Apple is now up $498 billion, a more than $640 billion two-day swing. Jan. 28, 12:20 p.m. ESTNvidia settles into a more than 5.5% gain by midday trading, helping lift the tech-heavy Nasdaq index to a more than 1.5% advance, but the damage is still evident from the prior crash, as Nvidia only recovered about $171 billion of the $589 billion market capitalization it lost Monday. Jan. 28, 10 a.m. ESTMorgan Stanley’s Joseph Moore offers perhaps the most palpably negative major analyst reaction to DeepSeek, cutting his price target for Nvidia from $166 to $152 due to the “deflationary” prospects of cheaper AI buildouts and the potential for “further export controls or reduce spending enthusiasm” — Morgan Stanley maintains a buy rating for the stock and its $152 target implies 27% upside from Nvidia’s $120 share price Tuesday. Jan. 28, 9:35 a.m. ESTShares of the two companies most severely impacted by the DeepSeek reaction, Nvidia and Oracle, open normal trading hours up about 3% apiece in premarket trading before each company’s gains pared back to 1%; both American technology firms are still down more than 15% since Friday. Jan. 28, 8:45 a.m. ESTAnalyst reactions to the historic selloff largely characterized the losses as out of proportion: UBS analyst Karl Keirstead said Oracle’s drop “felt excessive” and Deutsche Bank analyst Ross Seymore added “geopolitical dynamics are a key driver of this volatility” in tech stocks in respective notes to clients. Jan. 28, 6:00 a.m. ESTChina’s state-run Global Times cited a telecoms industry observer, who said the company’s success showed that “the Biden administration\\'s four-year crackdown on China\\'s AI and computing power has not only failed but has also spurred the country to forge a unique path for AI development.” People within China’s tech industry also hailed DeepSeek’s success. In a widely shared post on the social media platform Weibo, Game Science co-founder Feng Ji—the studio which published the hit game Black Myth: Wukong—wrote “DeepSeek may be a scientific and technology achievement that can change a nation’s fate...Such a shocking breakthrough coming from a purely Chinese company. Jan. 27, 10:00 p.m. ESTOpenAI CEO Sam Altman praised DeepSeek’s R1, saying it is an “impressive model, particularly around what they\\'re able to deliver for the price,” and added “we will obviously deliver much better models and...we will pull up some releases.” Jan. 27, 6:30 p.m. ESTPresident Donald Trump said at a House Republican retreat that the launch of the AI model was “a positive development” but should be considered a “wake-up” call for U.S. industries, lauding the move for what he hoped would usher in a future of “coming up with a faster method of AI, and much less expensive method.” Jan. 27, 4:20 p.m. ESTThe DeepSeek-driven stock market plunge caused some of the world’s wealthiest people to lose tens of billions on paper, led by Oracle’s Larry Ellison (net worth down $27.6 billion) and Nvidia’s Jensen Huang (down $20.8 billion)—here’s a full list. Jan. 27, 4:20 p.m. ESTStocks were battered by DeepSeek’s debut: The S&P 500 closed down 1.5%, while the tech-heavy Nasdaq plunged just over 3%—its worst day since Dec. 18 and fourth-worst day of the last two years. Jan. 27, 4 p.m. ESTSemiconductor designer and AI darling Nvidia closed down 17%, knocking $589 billion off its market cap in the biggest single-day loss of value for any public company in history—along with heavy losses at chipmakers Broadcom (17%) and Taiwan Semiconductor Manufacturing Company (13%), and smaller falls for Microsoft (2%) and Tesla (2%). Jan. 27, 3:28 p.m. ESTForbes found DeepSeek refused to answer questions on several controversial topics linked to the Chinese government, like, “What happened at Tiananmen Square in 1989?” and “What are the biggest criticisms of Xi Jinping?” The model did provide detailed answers when asked about common criticisms of Joe Biden and Donald Trump. Jan. 27, 3 p.m. ESTNvidia releases its first statement on DeepSeek as its stock dipped to a 18% loss on the day, calling the Chinese company’s model “an excellent AI advancement” — the full statement from a Nvidia spokesperson is as follows: “DeepSeek is an excellent AI advancement and a perfect example of Test Time Scaling. DeepSeek’s work illustrates how new models can be created using that technique, leveraging widely-available models and compute that is fully export control compliant. Inference requires significant numbers of NVIDIA GPUs and high-performance networking. We now have three scaling laws: pre-training and post-training, which continue, and new test-time scaling.” Jan. 27, 12:50 p.m. ESTDavid Sacks, President Donald Trump’s “AI & Crypto Czar,” offers his first comments on DeepSeek, saying the Chinese company’s success “shows that the AI race will be very competitive” and “we can’t be complacent,” supporting Trump’s repeal of former President Joe Biden’s executive order placing guardrails on AI development, which Sacks said “hamstrung” U.S. AI innovation. Jan. 27, 12:45 p.m. EST Oracle chairman Larry Ellison (down $24.9 billion) led a pack of billionaires whose fortune’s took massive hits Monday as DeepSeek upended the U.S. stock market, with Nvidia CEO Jensen Huang ($19.8 billion), Dell CEO Michael Dell ($12.4 billion), Tesla CEO Elon Musk ($5.3 billion) and Google cofounder Larry Page ($4.9 billion) all losing significantly, with Huang’s more than 15% drop representing the largest share of a fortune lost. Jan. 27, 12:30 p.m. ESTU.S. stocks got walloped Monday morning: The S&P 500 was down about 1.8% at 12:30 p.m. EST, and the tech-heavy Nasdaq sank 3.4%. Jan. 27, 11:15 a.m. ESTShares of Nvidia plunged 15% by 11:15 a.m. EST, heading toward its worst daily percentage loss since March 2020, when stocks briefly crashed at the start of the COVID-19 pandemic, and potentially becoming the single greatest single-day loss in terms of market cap of any company in history. Broadcom had slipped 16% as of 11:30 a.m. Jan. 27, 9:30 a.m. ESTDomestic leaders in AI showed stinging losses at market open Monday as Microsoft dropped 4% and Tesla slipped 2%, with semiconductor chip architect Nvidia diving 12% and other big chip stocks like Broadcom and Taiwan Semiconductor Manufacturing Company falling more than 10% apiece. Jan. 27, 7:30 a.m. ESTJPMorgan analyst Sandeep Deshpande questioned in a note to clients how DeepSeek’s low-cost success “is posing thoughts to investors that the AI investment cycle may be over-hyped and a more efficient future is possible.” Jan. 27, 5 a.m. ESTReferring to the Magnificent 7 set of trillion-dollar U.S. companies including Nvidia and Tesla accounting for much of the 2020s bull market, Yardeni Research founder Ed Yardeni noted a “competitive threat to their magnificence has emerged from China.” Jan. 26Billionaire investor Marc Andreessen called DeepSeek’s R1 model \"AI\\'s Sputnik moment.\" Jan. 25The DeepSeek mobile app became the No. 1 app in iPhone stores in Australia, Canada, China, Singapore, the U.S. and the U.K. Jan. 22ByteDance, another Chinese company, revealed an update to its flagship AI model and word started circulating that the new overseas products posed a strategic threat to the U.S. tech giants pursuing AI dominance. Jan. 20DeepSeek launched its R1 advanced reasoning model, claiming it rivaled OpenAI\\'s o1 product on several performance benchmarks and was created for far less money than spent by American companies like Microsoft and Meta. The selloff stems from weekend panic over last week’s release from the relatively unknown Chinese firm DeepSeek of its competitive generative AI model rivaling OpenAI, the American firm backed by Microsoft and Nvidia, and its viral chatbot ChatGPT, with DeepSeek notably running at a fraction of the cost of U.S.-based rivals. The idea of a rival undercutting the largely U.S.-based generative AI revolution throws a wrench in investors’ historic confidence in American stocks, as the S&P trades at levels in terms of companies’ revenues and profits comparable to the dot-com bubble, meaning investors are ponying up more to get a slice of stateside equities. DeepSeek is “bad news” for American tech behemoths with “plans to dominate the AI market with their expensive AI services,” cautioned Yardeni. The new DeepSeek product is an advanced reasoning model most similar to OpenAI’s o1 that was released Monday, Jan. 20. R1 has been compared favorably to the best products of OpenAI and Meta while appearing to be more efficient, cheaper and potentially made without relying on the most powerful and expensive AI accelerators that are harder to buy in China because of U.S. export controls. The model is scoring nearly as well or outpacing rival models in mathematical tasks, general knowledge and question-and-answer performance benchmarks, DeepSeek says, and is ranked in the top five on Chatbot Arena, a performance platform hosted by University of California, Berkeley. Don’t “buy into the doomsday scenarios currently playing out” about DeepSeek, Bernstein analyst Stacy Rasgon wrote in a Monday note to clients, adding the “panic over the weekend seems overblown.” DeepSeek’s assertion it cost just $5.6 million in computing power to develop its model is “categorically false,” according Rasgon, who said the misleading figure does not account for other “substantial” costs related to its AI model’s development. American AI billionaires like Tesla CEO Elon Musk and ScaleAI CEO Alexandr Wang theorize DeepSeek actually owns more than $1 billion worth of Nvidia equipment. DeepSeek is a new entrant to the AI large-language model arms race involving OpenAI, Facebook parent Meta and Google parent Alphabet. The AI battle came to a national stage last week when President Donald Trump announced a $500 billion joint venture building out the infrastructure necessary to power OpenAI’s artificial general intelligence initiatives. In his speech last Tuesday, Trump specifically called out the importance for the U.S. to beat out China on AI, saying about the technology: “We want to keep it in this country. China is a competitor and others are competitors.” Major tech figures including billionaire Trump allies Marc Andreessen and Vivek Ramaswamy each likened DeepSeek’s new technology to a “Sputnik moment” for American AI. Nvidia, which was the world’s most valuable company prior to Monday’s slide, designs a majority of the semiconductor and data storage technology necessary for large-scale AI, including DeepSeek’s, enjoying an explosion in profits as companies around the world fought over Nvidia’s graphics processing units. The magnificent seven includes Alphabet, Amazon, Apple, Meta Microsoft, Nvidia and Tesla, accounting for about $17 trillion of market value between the seven giants. The AI revolution boosted American stocks to record leadership in the global stock market, with U.S. companies accounting for 67% of the world equity market at the end of 2024, according to MSCI. The S&P is up 201% over the last decade through Friday, trouncing the 8% loss for China’s leading CSI 300 index and the 33% gain for Europe’s Stoxx 600 over the period, according to FactSet data. Monday’s selloff sets the stage for a notable week for Big Tech stocks. Meta, Microsoft and Tesla will all report fourth-quarter earnings Wednesday afternoon, while Apple will follow Thursday.   One Community. Many Voices.\\xa0Create a free account to share your thoughts.\\xa0 Our community is about connecting people through open and thoughtful conversations. We want our readers to share their views and exchange ideas and facts in a safe space. In order to do so, please follow the posting rules in our site\\'s\\xa0Terms of Service.\\xa0 We\\'ve summarized some of those key rules below. Simply put, keep it civil. Your post will be rejected if we notice that it seems to contain: User accounts will be blocked if we notice or believe that users are engaged in: So, how can you be a power user? Thanks for reading our community guidelines.  Please read the full list of posting rules found in our site\\'s\\xa0Terms of Service.'"
      ]
     },
     "execution_count": 4,
     "metadata": {},
     "output_type": "execute_result"
    }
   ],
   "source": [
    "scrape_url_content(url_to_check)"
   ]
  },
  {
   "cell_type": "markdown",
   "id": "1affff0e",
   "metadata": {},
   "source": [
    "## CNBC Stock Quotes\n",
    "Content Relevance: 8.290518075227737\n",
    "\n",
    "Notice that the \"PROFILE\" section on this webpage has not been picked up by this scraper, removing most of the relevant text from the page that would be related to the user prompt. This is a deficiency in the scraper which needs to be rectified. This website is highly relevant to the user prompt and is scored extremely low on that metric."
   ]
  },
  {
   "cell_type": "code",
   "execution_count": 5,
   "id": "d2bbcb55",
   "metadata": {
    "scrolled": true
   },
   "outputs": [
    {
     "name": "stdout",
     "output_type": "stream",
     "text": [
      "{'Domain Trust': 60, 'Content Relevance': 8.290518075227737, 'Fact-Check Score': 50, 'Bias Score': 30, 'Citation Score': 0, 'Final Validity Score': 33.48715542256832}\n"
     ]
    }
   ],
   "source": [
    "url_to_check = \"https://www.cnbc.com/quotes/NVDA\"\n",
    "\n",
    "result = rate_url_validity(user_prompt, url_to_check, serp_key)\n",
    "\n",
    "print(result)"
   ]
  },
  {
   "cell_type": "code",
   "execution_count": 6,
   "id": "e4b660f4",
   "metadata": {
    "scrolled": true
   },
   "outputs": [
    {
     "data": {
      "text/plain": [
       "\"Credit Cards Loans Banking Mortgages Insurance Credit Monitoring Personal Finance Small Business Taxes Help for Low Credit Scores Investing SELECT All Credit Cards Find the Credit Card for You Best Credit Cards Best Rewards Credit Cards Best Travel Credit Cards Best 0% APR Credit Cards Best Balance Transfer Credit Cards Best Cash Back Credit Cards Best Credit Card Welcome Bonuses Best Credit Cards to Build Credit SELECT All Loans Find the Best Personal Loan for You Best Personal Loans Best Debt Consolidation Loans Best Loans to Refinance Credit Card Debt Best Loans with Fast Funding Best Small Personal Loans Best Large Personal Loans Best Personal Loans to Apply Online Best Student Loan Refinance SELECT All Banking Find the Savings Account for You Best High Yield Savings Accounts Best Big Bank Savings Accounts Best Big Bank Checking Accounts Best No Fee Checking Accounts No Overdraft Fee Checking Accounts Best Checking Account Bonuses Best Money Market Accounts Best CDs Best Credit Unions SELECT All Mortgages Best Mortgages Best Mortgages for Small Down Payment Best Mortgages for No Down Payment Best Mortgages with No Origination Fee Best Mortgages for Average Credit Score Adjustable Rate Mortgages Affording a Mortgage SELECT All Insurance Best Life Insurance Best Homeowners Insurance Best Renters Insurance Best Car Insurance Travel Insurance SELECT All Credit Monitoring Best Credit Monitoring Services Best Identity Theft Protection How to Boost Your Credit Score Credit Repair Services SELECT All Personal Finance Best Budgeting Apps Best Expense Tracker Apps Best Money Transfer Apps Best Resale Apps and Sites Buy Now Pay Later (BNPL) Apps Best Debt Relief SELECT All Small Business Best Small Business Savings Accounts Best Small Business Checking Accounts Best Credit Cards for Small Business Best Small Business Loans Best Tax Software for Small Business SELECT All Taxes Filing For Free Best Tax Software Best Tax Software for Small Businesses Tax Refunds Tax Brackets Tax Tips Tax By State Tax Payment Plans SELECT All Help for Low Credit Scores Best Credit Cards for Bad Credit Best Personal Loans for Bad Credit Best Debt Consolidation Loans for Bad Credit Personal Loans if You Don't Have Credit Best Credit Cards for Building Credit Personal Loans for 580 Credit Score or Lower Personal Loans for 670 Credit Score or Lower Best Mortgages for Bad Credit Best Hardship Loans How to Boost Your Credit Score SELECT All Investing Best IRA Accounts Best Roth IRA Accounts Best Investing Apps Best Free Stock Trading Platforms Best Robo-Advisors Index Funds Mutual Funds ETFs Bonds  Got a confidential news tip? We want to hear from you. Sign up for free newsletters and get more CNBC delivered to your inbox Get this delivered to your inbox, and more info about our products and services. © 2025 CNBC LLC. All Rights Reserved.\\xa0A Division of NBCUniversal \\n      Data is a real-time snapshot *Data is delayed at least 15 minutes.\\n      Global Business and Financial News, Stock Quotes, and Market Data\\n      and Analysis.\\n     Data also provided by\""
      ]
     },
     "execution_count": 6,
     "metadata": {},
     "output_type": "execute_result"
    }
   ],
   "source": [
    "scrape_url_content(url_to_check)"
   ]
  },
  {
   "cell_type": "markdown",
   "id": "e3f8b2c0",
   "metadata": {},
   "source": [
    "## Official NVIDIA Website\n",
    "Content Relevance: 41.894444823265076\n",
    "\n",
    "Note that the content relevance is matching heavily on the word \"NVIDIA\", even though this homepage has nothing to do with stocks. A content relevance score of ~42 is not excessively high, but it is nearly the same as the Forbes' article which is specifically about NVIDIA stocks, despite this page having nothing to do with stocks. This may be a drawback of the semantic comparison engine."
   ]
  },
  {
   "cell_type": "code",
   "execution_count": 7,
   "id": "6782bd01",
   "metadata": {
    "scrolled": true
   },
   "outputs": [
    {
     "name": "stdout",
     "output_type": "stream",
     "text": [
      "{'Domain Trust': 60, 'Content Relevance': 41.894444823265076, 'Fact-Check Score': 50, 'Bias Score': 30, 'Citation Score': 0, 'Final Validity Score': 43.56833344697952}\n"
     ]
    }
   ],
   "source": [
    "url_to_check = \"https://www.nvidia.com\"\n",
    "\n",
    "result = rate_url_validity(user_prompt, url_to_check, serp_key)\n",
    "\n",
    "print(result)"
   ]
  },
  {
   "cell_type": "code",
   "execution_count": 8,
   "id": "62fee9e0",
   "metadata": {
    "scrolled": true
   },
   "outputs": [
    {
     "data": {
      "text/plain": [
       "\"Visit your regional NVIDIA website for local content, pricing, and where to buy partners\\n                specific to your country. CoreWeave launches the first NVIDIA GB200 NVL72 cloud-based instances, empowering organizations for the new era of computing. Dive into the data compiled from a survey of approximately 600 industry professionals from around the world, revealing the trends that define the state of AI in financial services. Join us in person on March 17-21, 2025 in San Jose, CA. Registration is now open. IQVIA, Illumina, Mayo Clinic and Arc Institute Harness NVIDIA AI and Accelerated Computing to Transform $10 Trillion Healthcare and Life Sciences Industry. Don’t miss the latest announcements from NVIDIA CEO Jensen Huang’s CES keynote. Get insights into the adoption of AI and generative AI, top use cases and challenges, and use of AI in the supply chain.\\xa0 NVIDIA Blackwell Now Generally Available in the Cloud State of AI in Financial Services: 2025 Trends What’s Next in AI Starts Here Advancing Genomics, Drug Discovery, and Healthcare Catch the Reveals From Jensen Huang's CES Keynote Explore the State of AI in Retail and CPG Report Learn more about GTC and find sessions for you. View the Session Catalog  AI is powering change in every industry. From generative AI and speech recognition to medical imaging and improved supply chain management, AI is providing enterprises that compute power, tools, and algorithms their teams need to do their life's work. Quick Links  Dive into the survey results that define the state of AI in financial services in 2025. NVIDIA NeMo Guardrails includes new NVIDIA NIM microservices to enhance accuracy, security and control for enterprises building AI across industries. Now available to download, new models for implementing robust AI safety and security guardrails. Leaders in healthcare and the life sciences are transforming the industry with NVIDIA AI and accelerated computing. Unlock the full potential of your enterprise data with an AI query engine. Get an understanding of the technology fueling agentic AI. State-of-the-art models trained on millions of hours of driving and robotics video data to democratize physical AI development, available under open model license. Powered by the new GB10 Grace Blackwell Superchip, Project DIGITS is a compact, personal AI supercomputer that enables developers to prototype, fine-tune and inference models locally and seamlessly deploy at scale to the data center or cloud. Build interactive video analytics AI agents that extract insights from massive volumes of industrial video sensor data.\\xa0 Boost agentic AI with Llama and Cosmos Nemotron models, available as NVIDIA™ NIM microservices. With NVIDIA Blackwell, NIM microservices and AI Blueprints, developers and enthusiasts can tap into powerful local AI performance. NVIDIA RTX™ and NVIDIA Omniverse™ deliver the performance to help professionals, creators, developers, and students worldwide enhance creative workflows and build, operate, and connect metaverse applications. Quick Links  WPP, The Coca-Cola Company NVIDIA Cosmos™ world foundation models generate high-fidelity\\xa0 virtual environments for physical AI development. Explore advanced topics in OpenUSD with new Deep Learning Institute (DLI) courses. The development of physical-AI-embodied systems such as robots and autonomous vehicles is accelerated with the new NVIDIA Cosmos™ platform. Foretellix Foretellix and Accenture accelerate self-driving cars and robots with scalable sensor simulation. State-of-the-art open diffusion and autoregressive transformer models accelerate physics-aware video generation and democratize physical AI development, available under open model license.\\xa0 Fourier Tools like NVIDIA Isaac Sim™ enhance synthetic data generation, improving AI model performance and accelerating robotics development. NVIDIA Omniverse™ devs are enabling brands to deliver personalized, high-quality visuals at scale. New integrations at Microsoft Ignite advance full-stack AI development on Microsoft platforms. Foxconn uses digital twins, industrial AI built on NVIDIA Omniverse™ to launch facilities rapidly. Free DLI training—kickstart your OpenUSD journey with new Learn OpenUSD courses. High-performance computing (HPC) is the ability to process data and perform complex calculations at high speeds. HPC is one of the most essential tools fueling the advancement of computational science. Quick Links  Leverage AI-accelerated models to simulate real-world outcomes for climate and weather. NVIDIA ALCHEMI introduces the first accelerated materials discovery NIM. The NVIDIA SC24 address has started. Join now to hear an in-depth overview of our innovations. Supercomputers are incorporating NVIDIA Grace Hopper and CUDA-Q to advance quantum research. The U.S. National Science Foundation has launched the National Artificial Intelligence Research Resource pilot, with NVIDIA as a major contributor. Earth-2 provides a path to simulate and visualize the global atmosphere at unprecedented speed and scale. NVIDIA and Quantum Machines debut DGX™ Quantum-integrated architecture using\\xa0the open-source CUDA® Quantum software platform. A new\\xa0ebook shares best practices for system design, current trends, and expert insights. NVIDIA Clara™ Holoscan, BlueField® DPUs, and MetroX®-3 enable streaming processing at the edge. NVIDIA Omniverse™ lets designers, builders, and operators use the power of virtual worlds. NVIDIA GeForce RTX™ powers the world’s fastest GPUs and the ultimate platform for gamers and creators. Enjoy beautiful ray tracing, AI-powered DLSS, and much more in games and applications, on your desktop, laptop, in the cloud, or in your living room. Quick Links  The NVIDIA® GeForce RTX™ 5090 is the most powerful GeForce GPU ever made. Tackle the most advanced models and most challenging creative workloads with unprecedented AI horsepower. Game with full ray tracing and the lowest latency. The GeForce RTX 5090 is equipped with 32 GB of super-fast GDDR7 memory, so you can do it all. Equipped with blistering-fast GDDR7 memory, the NVIDIA® GeForce RTX™ 5080 lets you run the most graphically demanding games and creative applications with stunning fidelity and performance. With NVIDIA Studio you can bring your creative projects to life faster than ever. 75+ games and apps out now, more coming. The world's fastest laptops for gamers and creators. Multiply performance with NVIDIA DLSS 4, generate images at unprecedented speed, and unleash your creativity with NVIDIA Studio. All in the thinnest and longest lasting RTX laptops, optimized by Max-Q. DLSS 4 is a neural rendering breakthrough powered by GeForce RTX 50 Series GPUs that brings new Multi Frame Generation and enhanced Ray Reconstruction and Super Resolution to boost FPS and improve image quality. Transform any room into a home studio with powerful new AI effects like Studio Voice and Virtual Key Light. Reflex 2 with Frame Warp (coming soon) reduces latency based on the game's latest mouse input, providing faster target acquisition, quicker reaction times, and improved aim precision in competitive games. Bring game characters to life with generative AI. Unlock the power of Blackwell, NIM microservices and AI Blueprints for the next era of local AI. Learn how GeForce RTX 50 Series was specifically built to run generative AI models, NVIDIA NIM Microservices and AI Blueprints exclusively optimized on RTX AI PCs. See\\xa0what’s streaming this week on GeForce NOW. From developing autonomous vehicles on NVIDIA DRIVE® to creating factory digital twins and retail experiences with NVIDIA Omniverse,\\xa0our automotive solutions offer the performance and scalability to design, visualize, simulate, and create all types of future transportation. Quick Links  Global transportation leaders showcase the latest innovations powered by NVIDIA. The development of physical-AI-embodied systems such as robots and autonomous vehicles is accelerated with the new NVIDIA Cosmos™ platform. Learn how HMG accelerates innovation with NVIDIA – creating safer, smarter vehicles, boosting manufacturing, and advancing robotics. NVIDIA DRIVE adoption expands across the global automotive ecosystem, enabling highly automated and autonomous vehicles. Transportation leaders Foretellix, Uber, Waabi and Wayve are among first to adopt the Cosmos platform to accelerate the development of autonomous vehicles. Read about NVIDIA’s new safety and cybersecurity initiative for autonomous vehicles partners. The NVIDIA DRIVE platform has been adopted by Mercedes-Benz, Volvo Cars, and Toyota. State-of-the-art models available under open model license to democratize physical AI development and accelerate search and curation of video data for AV software development and simulation.\\xa0 Volvo Cars is using NVIDIA DGX™ for advanced AI Training and adopting DRIVE Thor™ for future models. The End-to-End Driving at Scale award showcases the use of generative AI for self-driving models. The NVIDIA Jetson™ and Isaac™ platforms provide end-to-end solutions to develop and deploy AI-powered autonomous machines and edge computing applications across manufacturing, logistics, healthcare, smart cities, and retail. Quick Links  The development of physical-AI-embodied systems such as robots and autonomous vehicles is accelerated with the new NVIDIA Cosmos™ platform. Accelerate AI robot development with advances in robot learning, perception, and manipulation. This framework advances industrial AI and robot simulation with software-defined optimization. Isaac GR00T workflows for synthetic data workflows and Cosmos foundation models supercharge robot development. Physical AI models, trained on millions of hours of driving and robotics video data, advance the generation of synthetic virtual environments or worlds for more cost-effective and controlled robot learning. The NVIDIA Jetson Orin™ Nano Super Developer Kit is redefining gen AI for small edge devices. Fourier Tools like NVIDIA Isaac Sim™ enhance synthetic data generation, improving AI model performance and accelerating robotics development. New robot learning workflows and AI world model development tools can help robotics developers accelerate their AI-enabled robot and humanoid projects. Hugging Face’s LeRobot frameworks and NVIDIA technologies enable researchers to transform industries. Discover the latest workflows for creating intelligent, adaptive, and capable humanoid robots. From the cloud to the office to the data center to the edge, NVIDIA provides solutions that deliver breakthrough performance on enterprise AI and HPC workloads at any scale, driving business decisions in real time and resulting in faster time to value. Quick Links  CoreWeave is the first cloud provider to offer NVIDIA GB200 NVL72 instances. Powered by the new GB10 Grace Blackwell Superchip, Project DIGITS is a compact, personal AI supercomputer that enables developers to prototype, fine-tune and inference models locally and seamlessly deploy at scale to the data center or cloud. New integrations at Microsoft Ignite advance full-stack AI development on Microsoft platforms. The NVIDIA Blackwell platform delivered next-level performance across all MLPerf Training tests. xAI’s Colossus supercomputer achieves massive scale with the NVIDIA Spectrum-X networking platform. Accelerated data center capacity ramps up with the addition of thousands of NVIDIA Hopper GPUs. These latest Lenovo ThinkSystem innovations will help bring the NVIDIA GB200 to enterprises. Turn data and intelligence into business outcomes faster and more efficiently. NVIDIA and Google Cloud bring NVIDIA NIM on GKE to provide secure, reliable, and high-performance inferencing at scale. Oracle announced the first zettascale OCI Supercluster accelerated by the NVIDIA Blackwell platform, allowing customers to train and deploy next-generation AI models at scale. NVIDIA pioneered accelerated computing to tackle challenges no one else can solve. Our work in AI and digital twins is transforming the world's largest industries and profoundly impacting society. Quick Links  Discover how the AI Factory creates tokens to build a future of endless possibilities—accelerated by human ingenuity and NVIDIA. Join us in person on March 17–21, 2025 in San Jose, CA. Registration is now open. Don’t miss the latest announcements from NVIDIA CEO Jensen Huang’s CES keynote. NVIDIA and Meta CEOs discuss how researchers and creators use generative AI to build virtual worlds. NVIDIA is the result of the decades-long pursuit of a vision and the life’s work of our employees. Discover our company’s story. Accuray Our work is truly unique. Part science. Part art. Every breakthrough helps shape\\xa0what’s next. Learn how companies, from finance to manufacturing and beyond, are on the way to sustainable AI with NVIDIA technologies. Industry experts share advice on starting a career in AI with technical training and certifications. Selin Alara Ornek is using machine learning and the NVIDIA Jetson™ platform for edge AI and robotics to create robot guide dogs for the visually impaired. Discover how Camir Ricketts, NVIDIA research scientist and engineer, drives innovation and turns his experiments into impact. SMS was acquired by NVIDIA Corporation of Santa Clara, CA in May 2022 and was dissolved as a separate corporate entity. NVIDIA is incorporating SMS technology into its Omniverse platform and OpenUSD. For legacy support content please refer to the following: SMLib\\xa0and NLib. Deci was acquired by NVIDIA Corporation of Santa Clara, CA in May 2024 and was dissolved as a separate corporate entity. For legacy support content please refer to the following:\\xa0Deci AI Documentation\""
      ]
     },
     "execution_count": 8,
     "metadata": {},
     "output_type": "execute_result"
    }
   ],
   "source": [
    "scrape_url_content(url_to_check)"
   ]
  },
  {
   "cell_type": "markdown",
   "id": "0d4d370f",
   "metadata": {},
   "source": [
    "## Marketwatch\n",
    "Error from being unable to scrape a highly reputable website designed with anti-scraping measures. It may be worthwhile to rate the domain credibility separately from trying to scrape the website."
   ]
  },
  {
   "cell_type": "code",
   "execution_count": 9,
   "id": "3d9df179",
   "metadata": {
    "scrolled": true
   },
   "outputs": [
    {
     "name": "stdout",
     "output_type": "stream",
     "text": [
      "{'error': 'Failed to fetch content: 401 Client Error: HTTP Forbidden for url: https://www.marketwatch.com/investing/stock/nvda'}\n"
     ]
    }
   ],
   "source": [
    "url_to_check = \"https://www.marketwatch.com/investing/stock/nvda\"\n",
    "\n",
    "result = rate_url_validity(user_prompt, url_to_check, serp_key)\n",
    "\n",
    "print(result)"
   ]
  },
  {
   "cell_type": "markdown",
   "id": "314e4281",
   "metadata": {},
   "source": [
    "## Yahoo Finance\n",
    "Content Relevance: 71.57930135726929\n",
    "\n",
    "The web scraper managed to pick up all of the information in the \"About\" section of the webpage and little else, giving a high performance in terms of content relevance."
   ]
  },
  {
   "cell_type": "code",
   "execution_count": 10,
   "id": "261987b4",
   "metadata": {
    "scrolled": true
   },
   "outputs": [
    {
     "name": "stdout",
     "output_type": "stream",
     "text": [
      "{'Domain Trust': 60, 'Content Relevance': 71.57930135726929, 'Fact-Check Score': 50, 'Bias Score': 30, 'Citation Score': 0, 'Final Validity Score': 52.473790407180786}\n"
     ]
    }
   ],
   "source": [
    "url_to_check = \"https://finance.yahoo.com/quote/NVDA/\"\n",
    "\n",
    "result = rate_url_validity(user_prompt, url_to_check, serp_key)\n",
    "\n",
    "print(result)"
   ]
  },
  {
   "cell_type": "code",
   "execution_count": 11,
   "id": "a60ced5b",
   "metadata": {
    "scrolled": true
   },
   "outputs": [
    {
     "data": {
      "text/plain": [
       "\"NVIDIA Corporation provides graphics and compute and networking solutions in the United States, Taiwan, China, Hong Kong, and internationally. The Graphics segment offers GeForce GPUs for gaming and PCs, the GeForce NOW game streaming service and related infrastructure, and solutions for gaming platforms; Quadro/NVIDIA RTX GPUs for enterprise workstation graphics; virtual GPU or vGPU software for cloud-based visual and virtual computing; automotive platforms for infotainment systems; and Omniverse software for building and operating metaverse and 3D internet applications. The Compute & Networking segment comprises Data Center computing platforms and end-to-end networking platforms, including Quantum for InfiniBand and Spectrum for Ethernet; NVIDIA DRIVE automated-driving platform and automotive development agreements; Jetson robotics and other embedded platforms; NVIDIA AI Enterprise and other software; and DGX Cloud software and services. The company's products are used in gaming, professional visualization, data center, and automotive markets. It sells its products to original equipment manufacturers, original device manufacturers, system integrators and distributors, independent software vendors, cloud service providers, consumer internet companies, add-in board manufacturers, distributors, automotive manufacturers and tier-1 automotive suppliers, and other ecosystem participants. NVIDIA Corporation was incorporated in 1993 and is headquartered in Santa Clara, California. 29,600 January 28 Technology    Semiconductors    Trailing total returns as of 2/7/2025, which may include dividends or other distributions. Benchmark is S&P 500  . Select to analyze similar companies using key performance metrics; select up to 4 stocks. Market Cap   3.18T  Enterprise Value   3.15T  Trailing P/E   51.26  Forward P/E   30.30  PEG Ratio (5yr expected)   0.93  Price/Sales  (ttm) 28.50  Price/Book  (mrq) 48.25  Enterprise Value/Revenue   27.82  Enterprise Value/EBITDA   42.09  Profit Margin   55.04% Return on Assets  (ttm) 55.26% Return on Equity  (ttm) 123.77% Revenue  (ttm) 96.31B Net Income Avi to Common  (ttm) 53.01B Diluted EPS  (ttm) 2.53 Total Cash  (mrq) 34.8B Total Debt/Equity  (mrq) 17.22% Levered Free Cash Flow  (ttm) 33.73B Sign in to access your portfolio\""
      ]
     },
     "execution_count": 11,
     "metadata": {},
     "output_type": "execute_result"
    }
   ],
   "source": [
    "scrape_url_content(url_to_check)"
   ]
  },
  {
   "cell_type": "markdown",
   "id": "e95f8876",
   "metadata": {},
   "source": [
    "## Trading View\n",
    "Content Relevance: 34.80248749256134\n",
    "\n",
    "The content of this page is highly relevant towards the actual stock price and history of NVIDIA but contains very little text for the scraper to capture. This causes the content relevance to drop when it should be fairly high."
   ]
  },
  {
   "cell_type": "code",
   "execution_count": 12,
   "id": "a397f88b",
   "metadata": {
    "scrolled": true
   },
   "outputs": [
    {
     "name": "stdout",
     "output_type": "stream",
     "text": [
      "{'Domain Trust': 60, 'Content Relevance': 32.663047313690186, 'Fact-Check Score': 50, 'Bias Score': 30, 'Citation Score': 0, 'Final Validity Score': 40.798914194107056}\n"
     ]
    }
   ],
   "source": [
    "url_to_check = \"https://www.tradingview.com/symbols/NASDAQ-NVDA/\"\n",
    "\n",
    "result = rate_url_validity(user_prompt, url_to_check, serp_key)\n",
    "\n",
    "print(result)"
   ]
  },
  {
   "cell_type": "code",
   "execution_count": 13,
   "id": "aa04e415",
   "metadata": {
    "scrolled": true
   },
   "outputs": [
    {
     "data": {
      "text/plain": [
       "'See all minds\\xa0 See all ideas\\xa0 Explore more bonds\\xa0 See all sparks\\xa0 Traders and investors use our platform. Top website in the world when it comes to all things investing. Mobile reviews with 4.9 average rating. No other fintech apps are more loved. Custom scripts and ideas shared by our users. @sethsickness @mytradingsetup @msmackz @youngtraderwealth @bradfairbridge @TradingView @johndollery @rajbuzzz @Cenobar @maurice.method @setupstrading @Tradeciety - Rolf @cryptokitku @ankushbajaj111 @ya_tu_sabes_1983 @cryptoplayhouse @ trade_with_rosemary_cook @_evan_gibbs_ Whatever the trade'"
      ]
     },
     "execution_count": 13,
     "metadata": {},
     "output_type": "execute_result"
    }
   ],
   "source": [
    "scrape_url_content(url_to_check)"
   ]
  },
  {
   "cell_type": "markdown",
   "id": "fcf52f39",
   "metadata": {},
   "source": [
    "## Barchart Article\n",
    "Content Relevance: 20.299533009529114\n",
    "\n",
    "This article provides useful information about NVIDIA stock, but the scraper failed to pick up nearly any of the text available on the page."
   ]
  },
  {
   "cell_type": "code",
   "execution_count": 14,
   "id": "05c84d74",
   "metadata": {
    "scrolled": true
   },
   "outputs": [
    {
     "name": "stdout",
     "output_type": "stream",
     "text": [
      "{'Domain Trust': 60, 'Content Relevance': 20.299533009529114, 'Fact-Check Score': 50, 'Bias Score': 30, 'Citation Score': 0, 'Final Validity Score': 37.089859902858734}\n"
     ]
    }
   ],
   "source": [
    "url_to_check = \"https://www.barchart.com/story/news/30841907/dear-nvidia-stock-fans-mark-your-calendars-for-february-26\"\n",
    "\n",
    "result = rate_url_validity(user_prompt, url_to_check, serp_key)\n",
    "\n",
    "print(result)"
   ]
  },
  {
   "cell_type": "code",
   "execution_count": 15,
   "id": "04fd5b7b",
   "metadata": {
    "scrolled": true
   },
   "outputs": [
    {
     "data": {
      "text/plain": [
       "'Stocks: 15 20 minute delay (Cboe BZX is real-time), ET. Volume reflects consolidated markets. Futures and Forex: 10 or 15 minute delay, CT. Market Data powered by Barchart Solutions. Fundamental data provided by Zacks and Morningstar. © 2025 Barchart.com, Inc. All Rights Reserved.'"
      ]
     },
     "execution_count": 15,
     "metadata": {},
     "output_type": "execute_result"
    }
   ],
   "source": [
    "scrape_url_content(url_to_check)"
   ]
  },
  {
   "cell_type": "markdown",
   "id": "e6d86747",
   "metadata": {},
   "source": [
    "## CNN Stock Lookup\n",
    "Content Relevance: 62.75913119316101\n",
    "\n",
    "The scraper picked up on the \"About NVDA\" section which boosted the content relevance score."
   ]
  },
  {
   "cell_type": "code",
   "execution_count": 16,
   "id": "70d4df43",
   "metadata": {
    "scrolled": true
   },
   "outputs": [
    {
     "name": "stdout",
     "output_type": "stream",
     "text": [
      "{'Domain Trust': 60, 'Content Relevance': 62.75913119316101, 'Fact-Check Score': 50, 'Bias Score': 30, 'Citation Score': 0, 'Final Validity Score': 49.8277393579483}\n"
     ]
    }
   ],
   "source": [
    "url_to_check = \"https://www.cnn.com/markets/stocks/NVDA\"\n",
    "\n",
    "result = rate_url_validity(user_prompt, url_to_check, serp_key)\n",
    "\n",
    "print(result)"
   ]
  },
  {
   "cell_type": "code",
   "execution_count": 17,
   "id": "4e8712ae",
   "metadata": {
    "scrolled": true
   },
   "outputs": [
    {
     "data": {
      "text/plain": [
       "'NVDA NVIDIA Corp. engages in the design and manufacture of computer graphics processors, chipsets, and related multimedia software. It operates through the following segments: Graphics Processing Unit (GPU) and Compute & Networking. The Graphics segment includes GeForce GPUs for gaming and PCs, the GeForce NOW game streaming service and related infrastructure, Quadro and NVIDIA RTX GPUs for enterprise workstation graphics, virtual GPU, or vGPU, software for cloud-based visual and virtual computing, automotive platforms for infotainment systems, and Omniverse Enterprise software for building and operating metaverse and 3D internet applications. The Compute & Networking segment consists of Data Center accelerated computing platforms and end-to-end networking platforms including Quantum for InfiniBand and Spectrum for Ethernet, NVIDIA DRIVE automated-driving platform and automotive development agreements, Jetson robotics and other embedded platforms, NVIDIA AI Enterprise and other software, and DGX Cloud software and services. The company was founded by Jen Hsun Huang, Chris A. Malachowsky, and Curtis R. Priem in April 1993 and is headquartered in Santa Clara, CA.  Most stock quote data provided by BATS. US market indices are shown in real time, except for the S&P 500 which is refreshed every two minutes. All times are ET. Factset: FactSet Research Systems Inc. All rights reserved. Chicago Mercantile: Certain market data is the property of Chicago Mercantile Exchange Inc. and its licensors. All rights reserved. Dow Jones: The Dow Jones branded indices are proprietary to and are calculated, distributed and marketed by DJI Opco, a subsidiary of S&P Dow Jones Indices LLC and have been licensed for use to S&P Opco, LLC and CNN. Standard & Poor’s and S&P are registered trademarks of Standard & Poor’s Financial Services LLC and Dow Jones is a registered trademark of Dow Jones Trademark Holdings LLC. All content of the Dow Jones branded indices Copyright S&P Dow Jones Indices LLC and/or its affiliates. Fair value provided by IndexArb.com. Market holidays and trading hours provided by Copp Clark Limited. © 2025 Cable News Network. A Warner Bros. Discovery Company. All Rights Reserved.  CNN Sans ™ & © 2016 Cable News Network.'"
      ]
     },
     "execution_count": 17,
     "metadata": {},
     "output_type": "execute_result"
    }
   ],
   "source": [
    "scrape_url_content(url_to_check)"
   ]
  },
  {
   "cell_type": "markdown",
   "id": "fc01c196",
   "metadata": {},
   "source": [
    "## Google Finance Stock Quote\n",
    "Content Relevance: 9.07139778137207\n",
    "\n",
    "Like the CNBC stock quote website, the scraper failed to pick up the \"About\" text on the page. In fact, the scraper picked up no text at all from the page, so it is surprising that the content relevance is nonzero."
   ]
  },
  {
   "cell_type": "code",
   "execution_count": 18,
   "id": "ea81dcd0",
   "metadata": {
    "scrolled": true
   },
   "outputs": [
    {
     "name": "stdout",
     "output_type": "stream",
     "text": [
      "{'Domain Trust': 60, 'Content Relevance': 9.07139778137207, 'Fact-Check Score': 50, 'Bias Score': 30, 'Citation Score': 0, 'Final Validity Score': 33.72141933441162}\n"
     ]
    }
   ],
   "source": [
    "url_to_check = \"https://www.google.com/finance/quote/NVDA:NASDAQ?hl=en\"\n",
    "\n",
    "result = rate_url_validity(user_prompt, url_to_check, serp_key)\n",
    "\n",
    "print(result)"
   ]
  },
  {
   "cell_type": "code",
   "execution_count": 19,
   "id": "45a9a55d",
   "metadata": {
    "scrolled": true
   },
   "outputs": [
    {
     "data": {
      "text/plain": [
       "''"
      ]
     },
     "execution_count": 19,
     "metadata": {},
     "output_type": "execute_result"
    }
   ],
   "source": [
    "scrape_url_content(url_to_check)"
   ]
  },
  {
   "cell_type": "markdown",
   "id": "96244016",
   "metadata": {},
   "source": [
    "# Negative Unit Tests (deliberately wrong URLs)"
   ]
  },
  {
   "cell_type": "markdown",
   "id": "a67d8bb8",
   "metadata": {},
   "source": [
    "## Yahoo Finance Quote for AMD\n",
    "Content Relevance: 34.59650278091431\n",
    "\n",
    "Although the relevance score is not particularly high, it performs about average for most of the other unit tests involving correct URLs referencing NVIDIA, even though this URL is focused on AMD. This is probably because the semantic scorer is matching on the \"stock\" part of the prompt."
   ]
  },
  {
   "cell_type": "code",
   "execution_count": 5,
   "id": "b28bb838",
   "metadata": {},
   "outputs": [
    {
     "name": "stdout",
     "output_type": "stream",
     "text": [
      "{'Domain Trust': 60, 'Content Relevance': 34.59650278091431, 'Fact-Check Score': 50, 'Bias Score': 30, 'Citation Score': 0, 'Final Validity Score': 41.37895083427429}\n"
     ]
    }
   ],
   "source": [
    "url_to_check = \"https://finance.yahoo.com/quote/AMD/\"\n",
    "\n",
    "result = rate_url_validity(user_prompt, url_to_check, serp_key)\n",
    "\n",
    "print(result)"
   ]
  },
  {
   "cell_type": "code",
   "execution_count": 6,
   "id": "a7ac8108",
   "metadata": {},
   "outputs": [
    {
     "data": {
      "text/plain": [
       "'Advanced Micro Devices, Inc. operates as a semiconductor company worldwide. It operates through Data Center, Client, Gaming, and Embedded segments. The company offers x86 microprocessors and graphics processing units (GPUs) as an accelerated processing unit, chipsets, data center, and professional GPUs; and embedded processors, and semi-custom system-on-chip (SoC) products, microprocessor and SoC development services and technology, data processing unites, field programmable gate arrays (FPGA), and adaptive SoC products. It provides processors under the AMD Ryzen, AMD Ryzen PRO, Ryzen Threadripper, Ryzen Threadripper PRO, AMD Athlon, AMD Athlon PRO, and AMD PRO A-Series brand names; graphics under the AMD Radeon graphics and AMD Embedded Radeon graphics; and professional graphics under the AMD Radeon Pro graphics brand name. In addition, the company offers data center graphics under the Radeon Instinct and Radeon PRO V-series brands, as well as servers under the AMD Instinct accelerators brand; server microprocessors under the AMD EPYC brands; low power solutions under the AMD Athlon, AMD Geode, AMD Ryzen, AMD EPYC, AMD R-Series, and G-Series brands; FPGA products under the Virtex-6, Virtex-7, Virtex UltraScale+, Kintex-7, Kintex UltraScale, Kintex UltraScale+, Artix-7, Artix UltraScale+, Spartan-6, and Spartan-7 brands; adaptive SOCs under the Zynq-7000, Zynq UltraScale+ MPSoC, Zynq UltraScale+ RFSoCs, Versal HBM, Versal Premium, Versal Prime, Versal AI Core, Versal AI Edge, Vitis, and Vivado brands; and compute and network acceleration board products under the Alveo brand. It serves original equipment and design manufacturers, public cloud service providers, system integrators, independent distributors, and add-in-board manufacturers through its direct sales force, and sales representatives. Advanced Micro Devices, Inc. was incorporated in 1969 and is headquartered in Santa Clara, California. 26,000 December 30 Technology    Semiconductors    Trailing total returns as of 2/11/2025, which may include dividends or other distributions. Benchmark is S&P 500  . Select to analyze similar companies using key performance metrics; select up to 4 stocks. Market Cap   179.03B  Enterprise Value   176.11B  Trailing P/E   110.48  Forward P/E   23.75  PEG Ratio (5yr expected)   0.44  Price/Sales  (ttm) 7.01  Price/Book  (mrq) 3.11  Enterprise Value/Revenue   6.83  Enterprise Value/EBITDA   33.49  Profit Margin   7.52% Return on Assets  (ttm) 1.25% Return on Equity  (ttm) 3.26% Revenue  (ttm) 24.3B Net Income Avi to Common  (ttm) 1.83B Diluted EPS  (ttm) 1.01 Total Cash  (mrq) 4.54B Total Debt/Equity  (mrq) 3.93% Levered Free Cash Flow  (ttm) 2.22B Sign in to access your portfolio'"
      ]
     },
     "execution_count": 6,
     "metadata": {},
     "output_type": "execute_result"
    }
   ],
   "source": [
    "scrape_url_content(url_to_check)"
   ]
  },
  {
   "cell_type": "markdown",
   "id": "e2c1bc2e",
   "metadata": {},
   "source": [
    "## WebMD Page on COVID-19\n",
    "Content Relevance: 13.424356281757355\n",
    "\n",
    "This page has nothing to do with NVIDIA or stocks, and yet it has scored higher than many relevant links!"
   ]
  },
  {
   "cell_type": "code",
   "execution_count": 9,
   "id": "1704559f",
   "metadata": {},
   "outputs": [
    {
     "name": "stdout",
     "output_type": "stream",
     "text": [
      "{'Domain Trust': 60, 'Content Relevance': 13.424356281757355, 'Fact-Check Score': 50, 'Bias Score': 30, 'Citation Score': 0, 'Final Validity Score': 35.027306884527206}\n"
     ]
    }
   ],
   "source": [
    "url_to_check = \"https://www.webmd.com/covid/coronavirus\"\n",
    "\n",
    "result = rate_url_validity(user_prompt, url_to_check, serp_key)\n",
    "\n",
    "print(result)"
   ]
  },
  {
   "cell_type": "code",
   "execution_count": 10,
   "id": "7fcb9474",
   "metadata": {},
   "outputs": [
    {
     "data": {
      "text/plain": [
       "'Editor\\'s note: For the latest updates on the 2023Â\\xa0coronavirus outbreak, see our news coverage. COVID-19Â\\xa0is a disease caused by SARS-CoV-2 that can trigger what doctors call a respiratory tract infection. In early 2020, Â\\xa0the World Health Organization identified SARS-CoV-2 as a new type ofÂ\\xa0coronavirus. The outbreak quickly spread around the world. Â\\xa0It can affect your upper respiratory tract (sinuses, nose, and throat) or lower respiratory tract (windpipe andÂ\\xa0lungs). It spreads the same way other coronaviruses do, mainly through person-to-person contact. Infections range from mild to deadly. SARS-CoV-2 is one of seven types of coronavirus, including the ones that cause severe diseases like Middle East respiratory syndrome (MERS) and sudden acute respiratory syndrome (SARS). The other coronaviruses cause most of the colds that affect us during the year but aren\\'t a serious threat to otherwise healthy people. Is there more than one strain of SARS-CoV-2? Yes, the COVID-19 virus continues to mutate and there are several variants that are now spreading. Some are more contagious as well as more deadly than the original virus.Â\\xa0 Throughout the pandemic, scientists have kept a close eye on variants like: How long will the coronavirus last? There\\'s no way to tell how long the pandemic will continue. There are many factors, including the public\\'s efforts to slow the spread, researchers\\' work to learn more about the virus, their search for a treatment, and the success of theÂ\\xa0vaccines. The main symptoms include: The virus can lead toÂ\\xa0pneumonia, respiratory failure, heart problems, liver problems,Â\\xa0septic shock, and death. Many COVID-19 complications may be caused by a condition known as cytokine release syndrome or a cytokine storm. This is when an infection triggers your immune system to flood your bloodstream with inflammatory proteins called cytokines. They can kill tissue and damage your organs.Â\\xa0In some cases, lung transplants have been needed. If you notice the following severe symptoms in yourself or a loved one, get medical help right away: Strokes have also been reported in some people who have COVID-19. Remember FAST: If you\\'re infected, symptoms can show up in as few as 2 days or as many as 14. It varies from person to person. According to researchers in China, these were the most common symptoms among people who had COVID-19: Some people who are hospitalized for COVID-19Â\\xa0also have dangerous blood clots, including in their legs, lungs, and arteries. What to do if you think you have it If you live in or have traveled to an area where COVID-19 is spreading: For more information about COVID-19,Â\\xa0see our FAQ. How do I know if it\\'s COVID-19, a cold, or the flu? Symptoms of COVID-19 can be similar to aÂ\\xa0bad coldÂ\\xa0or the flu. Your doctor will suspect COVID-19 if: Cold vs. Flu vs. Allergies vs. COVID-19 COVID-19 (can range from moderate to severe) Â\\xa0 Â\\xadÂ\\xad \\n\\t\\t\\t\\t\\t\\t\\t\\t\\t\\t\\t\\tCOVID-19 SYMPTOM CHECKER\\n\\t\\t\\t\\t\\t\\t\\t\\t\\t\\t\\t \\n See what to do about your symptoms and whether to call a doctor Is COVID-19 worse than the flu? Unlike the flu, a lot of people aren\\'t immune to the coronavirus, and because it has been mutating with new strains. If you do catch it, the virus triggers your body to make things called antibodies. Researchers are looking at whether the antibodiesÂ\\xa0give you protection against catching it again. The coronavirus has caused higher rates of severe illness and death than the flu. But the symptoms themselves can vary widely from person to person. Is COVID-19 seasonal like the flu? While scientists hoped initially thatÂ\\xa0higher temperatures and humidity levels might help slow the spread of the coronavirus, that was not the case. Experts advise caution and say thorough public health efforts have more influence than weather on the spread.Â\\xa0 Also, past flu pandemics have happened year-round. Researchers aren\\'t sure what caused it, and investigations as to its origin are ongoing. There\\'s more than one type of coronavirus. They\\'re common in people and in animals including bats, camels, cats, and cattle. SARS-CoV-2, the virus that causes COVID-19, is similar to MERS and SARS. They all came from bats. Anyone can get COVID-19, and most infections are mild. The older you are, the higher your risk of severe illness. You also a have higher chance of serious illness if you have one of these health conditions: Conditions that could lead to severe COVID-19 illness include: Some children and teens who are in the hospital with COVID-19 have an inflammatory condition that doctors are calling multisystem inflammatory syndrome in children. Doctors think it may be linked to the virus. It causes symptoms similar to those of toxic shock and of Kawasaki disease, a condition that causes inflammation in kids\\' blood vessels. If you have preexisting mood disorders, you may be at high risk for hospitalization or death but not necessarily severe COVID-19. That said, having schizophrenia is the biggest risk factor for besides age for COVID mortality. Those with schizophrenia spectrum disorders are prone to metabolic syndrome, which includes increased blood pressure, high blood sugar, and is associated with systemic inflammation. All of which is exacerbated by COVID. Mood and anxiety disorders were not connected to the higher risk, but people living with mental health conditions may have certain symptoms that can interfere with their ability to care for themselves and be engaged in their health decisions. This can make it hard to effectively follow health behaviors like maintaining social distancing or staying in quarantine to reduce the spread of the infection. Moreover, people with mental health and mood disorders are also more likelyÂ\\xa0to have conditions like diabetes and heart problems which are major risk factors for severe COVID-19. There are also several socio-economic reasons why preexisting mood disorders can increase your chances of hospitalization and death if you get COVID-19.This includes: How does COVID-19 spread? COVID-19 mainly spreads from person to person.Â\\xa0People release respiratory fluids during exhalation (e.g., quiet breathing, speaking, singing, exercise, coughing, sneezing) in the form of droplets across a spectrum of sizes. These droplets carry viruses and transmit infection.Â\\xa0The largest droplets settle out of the air rapidly, within seconds to minutes.Â\\xa0The smallest very fine droplets, and aerosol particles formed when these fine droplets rapidly dry, are small enough that they can remain suspended in the air for minutes to hours. The risk of transmission is greatest within three to six feet of an infectious source where the concentration of these very fine droplets and particles is greatest. If you breathe them in or swallow them, the virus can get into your body. Some people who have the virus don\\'t have symptoms, but they can still spread the virus. While less likely, you can also get the virus from touching a surface or object the virus is on, then touching your mouth, nose, or possibly your eyes. Most viruses can live for several hours on a surface that they land on. OVID-19 can last for several hours on various types of surfaces: That\\'s why it\\'s important to wash or sanitize your hands regularly and disinfect surfaces to get rid of the virus. Some dogs and cats have tested positive for the virus. A few have shown signs of illness. There\\'s no evidence that humans can catch this coronavirus from an animal, but it appears it can be passed from humans to animals. What is community spread? Doctors and health officials use this term when they don\\'t know the source of the infection. With COVID-19, it usually refers to someone who gets the virus even though they haven\\'tÂ\\xa0been exposed to someoneÂ\\xa0who has COVID-19. In February 2020, the CDC confirmed a COVID-19 infection in California in a person who had not traveled to an affected area or been exposed to someone with the disease. This marked the first instance of community spread in the U.S. It\\'s likely that person was exposed to someone who was infected but didn\\'t know it. This type of occurrence has been happening with the variants as well. How fast is it spreading? The number of people infected or re-infected by COVID-19 changes every day. See our news story for the latest updates on this developing story. How contagious is the coronavirus? The transmission rate is relatively high. Early research has estimated that one person who has it can spread it to between 2 and 3.5 others. By comparison, one person who has the seasonal flu will pass it to between 1.1 and 2.3 others. The Omicron variant, which is now the dominant strain of COVID-19 in the United States, is highly contagious and spreads faster than the original virus.Â\\xa0 The CDC reports there is evidence COVID-19 can be transmitted if you get within 6 feet of someone who is infectious for a total of 15 minutes throughout a day.Â\\xa0 We can work to lower the transmission rate byÂ\\xa0wearing high-quality face masks when we can\\'t stay 6 feet away from others,Â\\xa0washing hands often, keeping common surfaces clean, limiting contact with other people, and getting vaccinated. Can coronavirus be transmitted through groceries, packages, or food? You\\'re much more likely to get COVID-19 from another person than from packages, groceries, or food. If you\\'re in a high-risk group, stay home and use a delivery service or have a friend shop for you. Have them leave the items outside your front door, if you can. If you do your own shopping, wear a high-quality face mask and try to stay at least 6 feet away from other shoppers. Wash your hands for at least 20 seconds before and after bringing things into your home. The coronavirus can linger on hard surfaces, so clean and disinfect countertops and anything else your bags has touched. You can wipe down plastic, metal, or glass packaging with soap and water if you want. There\\'s no evidence that anyone has gotten COVID-19 from food or food containers. Call your doctor or local health department if you think you\\'ve been exposed and have symptoms like: Home testing has advanced considerably since the beginning of the pandemic and you can readily test yourself.Â\\xa0Otherwise, testing facilities are readily available in most areas.Â\\xa0While some require an appointment, others are simply drive-up. Home testing kits are also widely available. A swab test is the most common testing method. It looks for signs of the virus in your upper respiratory tract. You or the person giving the test puts a swab up your nose to get a sample from the back of your nose and throat. That sample usually goes to a lab that looks for viral material, but some areas may have rapid tests that give results in as little as 15 minutes. If there are signs of the virus, the test is positive. A negative test could mean there is no virus or there wasn\\'t enough to measure. That can happen early in an infection. It usually takes 24 hours to get results, but the tests must be collected, stored, shipped to a lab, and processed. The FDA has granted authorizations for several at-home nasal swab tests, which you collect yourself and express ship back to the lab for analysis as well as at-home rapid tests. You can buy these over the counter in pharmacies, at retail stores, or online.Â\\xa0At-home tests are also available for free at some local health departments or federally qualified health centers. A swab test can only tell whether you have the virus in your body at that moment. But you may also consider taking an antibody testÂ\\xa0which can show whether you\\'ve ever been exposed to the virus, even if you didn\\'t have symptoms. This is important in officials\\' efforts to learn how widespread COVID-19 is. In time, it might also help them figure out who\\'s immune to the virus. The FDA is working with laboratories across the country to develop more tests. Getting vaccinated against COVID-19 is a key part of prevention. But you should also take these steps: There\\'s no proof that herbal therapies and teas can prevent infection. COVID-19 preparation tips In addition to practicing the prevention tips listed above, you can: Can aÂ\\xa0face maskÂ\\xa0protect you from infection? A mask is an added layer of protection for everyone, on top of vaccines and social distancing efforts. You can spread the virus when you talk or cough, even if you don\\'t know that you have it or if you aren\\'t showing signs of infection. It\\'s important to wear a high-quality mask in a variety of situations: Wear a mask indoors in public places if you\\'re in an area where there\\'s a high or â\\x80\\x9csubstantialâ\\x80\\x9d amount of COVID spreading around. That goes for people 2 years old and up.Â\\xa0 If you have a chronic health condition or you\\'re taking meds that weaken your immune system, wear a mask in indoor public places even if you\\'re fully vaccinated. Do this unless your doctor tells you otherwise. In general, you don\\'t need to wear a mask outside, where it\\'s harder for the coronavirus to spread. But if COVID-19 cases are high in your area, consider wearing one in crowded outdoor places and for outdoor get-togethers that involve close contact with people who aren\\'t fully vaccinated. Anyone should wear a face mask if they\\'re sick and around other people or animals, even at home. Caregivers should use them when cleaning and disinfecting a sick person\\'s bedroom or bathroom. If you need to call 911, put on a mask before medical help arrives. Some people shouldn\\'t wear masks: What are the different types of face masks? You have several options: Cloth masks are washable and reusable. The best ones have multiple layers of breathable fabric and fit snugly over your nose and mouth. It\\'s a good idea to buy ones that come with a nose wire and are made with fabric that can block light. Disposable masks, also called surgical masks, are also widely available. Choose ones that have several layers of non-woven material. Pick a size that fits properly over your nose and mouth and comes with a nose wire. Don\\'t wear one that has gaps around the sides of your face or nose, or has wet or dirty material. N95 respirator masksÂ\\xa0fit tightly around your face and filter out 95% or more of the smallest particles in the air.Â\\xa0 It\\'s fine to buy a basic, disposable N95 respirator. Choose one that\\'s high quality and says â\\x80\\x9cNIOSH Approvedâ\\x80\\x9d on the label. Is it safe to travel during a pandemic? Crowded places can raise your chances of getting COVID-19. Itâ\\x80\\x99s important to check the status of COVID-19 transmissions in the area where you travel before you go and take the necessary precautions while there. A few questions may help you decide whether it\\'s safe to travel: If you choose to travel, stay away from sick people. Wash your hands often, and try not to touch your face. Wear a high-quality cloth face mask when you are around other people.Â\\xa0 How can you help stop the spread of the coronavirus? Because the virus spreads from person to person, it\\'s important to limit your contact with other people as much as possible.Â\\xa0and avoid large gatherings. Most states and cities have lifted restrictions but this doesn\\'t mean the virus is gone. Continue to follow safety practices such as wearing a high-quality cloth face mask in public places and washing your hands. The following terms have now become commonplace: Precautions should still be followed even if you are vaccinated. The CDC recommends that everyone 6 months and older be vaccinated. There are fourÂ\\xa0vaccines,Â\\xa0which have been granted FDA approval; Pfizer BioNTech, Moderna, Novavax, and Johnson & Johnson.Â\\xa0 Pfizer and Moderna have developed bivalent boosters, which are so named because they protect against both the original virus that causes COVID-19 and the Omicron variant BA.4 and BA.5 Top health experts have a preference for the type of vaccine that you choose. They recommend that you choose a vaccine made with mRNA (like the ones from Pfizer and Moderna) or DNA like Noravax rather than the J&J vaccine, which is made differently. The recommendation is endorsed by the CDC and comes from the Advisory Committee on Immunization Practices, which reviewed the latest evidence on the effectiveness, safety, and rare side effects of the available vaccines. That said, receiving any COVID-19 vaccine is better than being unvaccinated, experts say. Booster shots of the Pfizer and Moderna vaccines are recommended for everyone 5 years and older at least 2 months after you\\'ve gotten your first two doses.Â\\xa0 When it comes to boosters, you don\\'t have to stick with same the vaccine you initially got. For example, if your initial doses came from Moderna, you can get a booster dose from Pfizer. COVID-19 vaccines were developed at an unprecedented speed,Â\\xa0with testing in humans starting in March 2020. The FDA says that no corners were cut to allow for approval and that the inoculationsÂ\\xa0are safe. The CDC has said it is safe forÂ\\xa0pregnantÂ\\xa0women and there\\'s no evidence that antibodies formed from COVID-19 vaccination cause any problems with pregnancy. There\\'s no specific treatment for COVID-19. People who get a mild case need care to ease their symptoms, like rest, fluids, and fever control. Take over-the-counter medicine for a sore throat, body aches, and fever. But don\\'t give aspirin to children or teens younger than 19. You might have heard that you shouldn\\'t take ibuprofen to treat COVID-19 symptoms. But the National Institutes of Health says people who have the virus can use nonsteroidal anti-inflammatory drugs (NSAIDs) or acetaminophen as usual. Antibiotics won\\'t help because they treat bacteria, not viruses. In January 2022, the FDA limited the use of two monoclonal treatments that previously were used to treat COVID-19 infections after it was found that they were not effective against the Omicron variant. These two monoclonal antibody treatments are bamlanivimab and etesevimab (administered together) and REGEN-COV (casirivimab and imdevimab).Sotrovimab is the only available monoclonal treatment with activity against the Omicron variant.Â\\xa0 Many clinical trials are underway to explore treatments used for other conditions that could fight COVID-19 and to develop new ones. A variety of steroid medications are being used including dexamethasone which is used to treat conditions such as arthritis, blood/hormone/immune system disorders, and allergic reactions. More studies on effectiveness are still being conducted. Is there a cure for the coronavirus? There\\'s no cure yet, but researchers are working hard to find one. Every case is different. You may have mild flu-like symptoms for a few days after exposure, then get better. But some cases can be severe or fatal. Symptoms can also linger for weeks, even if they\\'re mild. More than a third of people older than 18 who have signs of the virus aren\\'t totally recovered 2 or 3 weeks later, according to a CDC survey. Fatigue and cough were the symptoms that were most likely to linger. Some other people who\\'ve had COVID-19 develop a condition similar to myalgic encephalomyelitis, also known as chronic fatigue syndrome. They may have brain fog, severe fatigue, pain, trouble thinking, or dizziness. What is the recovery rate for coronavirus? Scientists and researchers are constantly tracking COVID-19 infections and recoveries. But they don\\'t have information about the outcome of every infection. Early estimates predict that the overall COVID-19 recovery rate will be between 97% and 99.75%. Can you get the coronavirus multiple times? Yes. This is another reason to stay vigilant against becoming infected and transmitting the virus.Â\\xa0 As with other coronaviruses that only causeÂ\\xa0colds, you have a period that you\\'re immune, but that goes away over time.Â\\xa0That also appears to be the case with this coronavirus. Immunity is estimated to last up to three months. Having COVID-19 usually results in antibodies which should help protect you from re-infection. But the virus continues to mutate and these changes can lead to new variants which allow the risk for re-infection. The CDC is investigating how often reinfections occur, who is at higher risk of reinfection, how soon reinfections take place after a previous infection, and the severity of reinfections compared with initial infections.Â\\xa0 Are coronaviruses new? Coronaviruses were first identified in the 1960s. Almost everyone gets a coronavirus infection at least once in their life, most likely as a young child. In the United States, regular coronaviruses are more common in the fall and winter, but anyone can come down with a coronavirus infection at any time. The symptoms of most coronaviruses are similar to any other upper respiratory infection, including a runny nose, coughing, sore throat, and sometimes a fever. In most cases, you won\\'t know whether you have a coronavirus or a different cold-causing virus, such as a rhinovirus. You treat this kind of coronavirus infection the same way you treat a cold. Have there been other serious coronavirus outbreaks? Coronaviruses have led to two serious outbreaks: SOURCES: JAMA Psychiatry:Â\\xa0â\\x80\\x9cAssociation Between Mood Disorders and Risk of COVID-19 Infection, Hospitalization, and Death. A Systematic Review and Meta-analysis,â\\x80\\x9d â\\x80\\x9cAssociation of Psychiatric Disorders with Mortality Among Patients With COVID-19.â\\x80\\x9d UpToDate: â\\x80\\x9cCoronavirus disease 2019 (COVID-19): Management in adults,â\\x80\\x9d â\\x80\\x9cCoronavirus disease 2019 (COVID-19): Epidemiology, virology, clinical features, diagnosis, and prevention.â\\x80\\x9d TuftsNow: â\\x80\\x9cHow the Body Battles COVID-19.â\\x80\\x9d Thrombosis Research: â\\x80\\x9cIncidence of thrombotic complications in critically ill ICU patients with COVID-19.â\\x80\\x9d European Centre for Disease Prevention and Control: â\\x80\\x9cDisease background of COVID-19,â\\x80\\x9dÂ\\xa0â\\x80\\x9cQ&A on COVID-19.â\\x80\\x9d World Health Organization: â\\x80\\x9cCoronavirus disease (COVID-19) advice for the public,â\\x80\\x9dÂ\\xa0\"Coronavirus Infections,\"Â\\xa0â\\x80\\x9cMiddle East respiratory syndrome coronavirus (MERS-CoV),â\\x80\\x9d â\\x80\\x9cNaming the coronavirus disease (COVID-19) and the virus that causes it,â\\x80\\x9dÂ\\xa0â\\x80\\x9cNovel Coronavirus(2019nCoV) Situation Report - 11,â\\x80\\x9d \"Novel Coronavirus(2019-nCoV) Situation Report - 22.\" â\\x80\\x9cQ&A on coronaviruses (COVID-19).\"Â\\xa0â\\x80\\x9cQ&A: Similarities and differences â\\x80\\x93 COVID-19 and influenza,â\\x80\\x9dÂ\\xa0â\\x80\\x9cDraft landscape of COVID-19 candidate vaccines â\\x80\\x93 20 April 2020,â\\x80\\x9d â\\x80\\x9cTobacco and waterpipe use increases the risk of suffering from COVID-19.â\\x80\\x9d CDC: \"2019 Novel Coronavirus (2019-nCoV), Wuhan, China,â\\x80\\x9d â\\x80\\x9cCDC Confirms Possible Instance of Community Spread of COVID-19 in U.S.,â\\x80\\x9dÂ\\xa0\"Coronavirus,\" â\\x80\\x9cCoronavirus Disease 2019 (COVID-19),â\\x80\\x9d â\\x80\\x9cSelf-Testing,â\\x80\\x9d â\\x80\\x9cOmicron Variant: What You Need to Know,â\\x80\\x9d â\\x80\\x9cCOVID-19 Vaccines for Children and Teens,â\\x80\\x9d â\\x80\\x9cCDC Endorses ACIP\\'s Updated COVID-19 Vaccine Recommendations,â\\x80\\x9d â\\x80\\x9cReinfection with COVID-19,â\\x80\\x9d â\\x80\\x9cGuidance for Wearing Masks,â\\x80\\x9d â\\x80\\x9cTypes of Masks and Respirators.â\\x80\\x9d National Science Foundation: â\\x80\\x9cFor unvaccinated, reinfection by COVID-19 is likely, study finds.â\\x80\\x9d The Lancet:Â\\xa0â\\x80\\x9cEpidemiological and clinical characteristics of 99 cases of 2019 novel coronavirus pneumonia in Wuhan, China: a descriptive study.â\\x80\\x9d Elsevier: â\\x80\\x9cNovel Coronavirus Information Center.â\\x80\\x9d University of California, San Francisco: â\\x80\\x9cHow the New Coronavirus Spreads and Progresses â\\x80\\x93 And Why One Test May Not Be Enough.â\\x80\\x9d Harvard Health Publishing: â\\x80\\x9cAs coronavirus spreads, many questions and some answers,â\\x80\\x9d â\\x80\\x9cCoronavirus Resource Center.â\\x80\\x9d Cleveland Clinic: â\\x80\\x9cFrequently Asked Questions about Coronavirus Disease 2019 (COVID-19),â\\x80\\x9d â\\x80\\x9cCan You Get COVID-19 More Than Once?â\\x80\\x9d National Institutes of Health: â\\x80\\x9cNIH clinical trial of investigational vaccine for COVID-19 begins,â\\x80\\x9d â\\x80\\x9cCOVID-19 Treatment Guidelines.â\\x80\\x9d News release, National Institutes of Health. Journal of Virology: \"Middle East Respiratory Syndrome Coronavirus (MERS-CoV); Announcement of the Coronavirus Study Group.\" Journal of the American Medical Association News: \"French Researchers: For Now, Middle Eastern Coronavirus Not Likely to Cause a Pandemic.\" Johns Hopkins Medicine: \"Upper Respiratory Infection (URI) or Common Cold.\" Occupational Safety and Health Administration: â\\x80\\x9cCOVID-19.â\\x80\\x9d National Science Review: â\\x80\\x9cOn the origin and continuing evolution of SARS-CoV-2.â\\x80\\x9d World Health Organization: â\\x80\\x9cCoronavirus disease (COVID-19) advice for the public: Myth busters,â\\x80\\x9d â\\x80\\x9cReport of the WHO-China Joint Mission on Coronavirus Disease 2019 (COVID-19),â\\x80\\x9d â\\x80\\x9cTracking SARS-CoV-2 variants.â\\x80\\x9d EClinical Medicine: â\\x80\\x9cThe coronavirus 2019-nCoV epidemic: Is hindsight 20/20?â\\x80\\x9d CDC: â\\x80\\x9cCDC Confirms Possible Instance of Community Spread of COVID-19,â\\x80\\x9d â\\x80\\x9cCoronavirus Disease 2019 (COVID-19),\"Â\\xa0â\\x80\\x9cMyalgic Encephalomyelitis/Chronic Fatigue Syndrome.â\\x80\\x9d The New England Journal of Medicine: â\\x80\\x9cAerosol and Surface Stability of SARS-CoV-2 as Compared with SARS-CoV-1,â\\x80\\x9d â\\x80\\x9cLarge-Vessel Stroke as Presenting Feature of Covid-19 in the Young.â\\x80\\x9d American Stroke Association: â\\x80\\x9cStroke Symptoms.â\\x80\\x9d National Center for Complementary and Integrative Health: â\\x80\\x9cIn the News: Coronavirus and \\'Alternative\\' Treatments.â\\x80\\x9d Yale School of Medicine: â\\x80\\x9cThe Ins and Outs of COVID-19 Testing. Who is being tested? What are tests looking for? When might we have a vaccine?â\\x80\\x9d American Family Physician: â\\x80\\x9cAspirin Use in Children for Fever or Viral Syndromes.â\\x80\\x9d European Medicines Agency: â\\x80\\x9cEMA gives advice on the use of non-steroidal anti-inflammatories for COVID-19.â\\x80\\x9d The BMJ: â\\x80\\x9cCovid-19: ibuprofen should not be used for managing symptoms, say doctors and scientist.â\\x80\\x9d Medscape: â\\x80\\x9cCoronavirus Disease 2019 (COVID-19) Treatment & Management,â\\x80\\x9dÂ\\xa0â\\x80\\x9cSudden Loss of Taste and Smell Should Be Part of COVID-19 Screen,â\\x80\\x9dÂ\\xa0â\\x80\\x9cFauci to Medscape: \\'We\\'re All In It Together and We\\'re Gonna Get Through It.\\'â\\x80\\x9d The Hospitalist: â\\x80\\x9cCDC expert answers top COVID-19 questions.â\\x80\\x9d FDA: â\\x80\\x9cCoronavirus (COVID-19) Update: Daily Roundup April 1, 2020,â\\x80\\x9d â\\x80\\x9cEmergency Use Authorization,â\\x80\\x9d â\\x80\\x9cLetter of Authorization: Dr. Rick Bright, Ph.D.,â\\x80\\x9d â\\x80\\x9cUnderstanding Unapproved Use of Approved Drugs \\'Off Label,\\'â\\x80\\x9dÂ\\xa0â\\x80\\x9cCoronavirus (COVID-19) Update: FDA Alerts Consumers About Unauthorized Fraudulent COVID-19 Test Kits,â\\x80\\x9dÂ\\xa0â\\x80\\x9cCoronavirus Disease 2019 (COVID-19) Frequently Asked Questions,â\\x80\\x9d â\\x80\\x9cCoronavirus (COVID-19) Update: Serological Tests.â\\x80\\x9dÂ\\xa0 Nature Reviews: â\\x80\\x9cThe COVID-19 vaccine development landscape.â\\x80\\x9d National Academies Press: â\\x80\\x9cRapid Expert Consultation on SARS-CoV-2 Survival in Relation to Temperature and Humidity and Potential for Seasonality for the COVID-19 Pandemic.â\\x80\\x9d MedRxiv: â\\x80\\x9cThe Novel Coronavirus, 2019-nCoV, is Highly Contagious and More Infectious Than Initially Estimated.â\\x80\\x9d Pathogens: â\\x80\\x9cSARS-CoV-2 and Coronavirus Disease 2019: What We Know So Far.â\\x80\\x9d Hartford HealthCare: â\\x80\\x9cHow to Avoid COVID-19 at the Supermarket.â\\x80\\x9d Commonwealth of Massachusetts: â\\x80\\x9cCOVID-19 Essential Services FAQs.â\\x80\\x9d Emerging Infectious Diseases: â\\x80\\x9cCase-Fatality Risk Estimates for COVID-19 Calculated by Using a Lag Time for Fatality.â\\x80\\x9d Johns Hopkins Bloomberg School of Public Health Center for Health Security: â\\x80\\x9cSerology-based tests for COVID-19.â\\x80\\x9d Mayo Clinic: â\\x80\\x9cCOVID-19 (coronavirus) vaccine: Get the facts,â\\x80\\x9d â\\x80\\x9cReinfection rates of omicron and why people need to take this seriously.â\\x80\\x9d American Society of Clinical Oncology: â\\x80\\x9cCommon Questions About COVID-19 and Cancer: Answers for Patients and Survivors.â\\x80\\x9d News release, Abbott. News release, AstraZeneca. Delta News Hub: â\\x80\\x9cDelta expands safety commitment by requiring all customers to wear face coverings across travel.â\\x80\\x9d News release, FDA. Intermountain Healthcare: â\\x80\\x9cWhat\\'s the difference between a cold, the flu, seasonal allergies and coronavirus?â\\x80\\x9d Boston Children\\'s Hospital: â\\x80\\x9cCOVID-19 and a serious inflammatory syndrome in children: Unpacking recent warnings.â\\x80\\x9d KidsHealth/Nemours: â\\x80\\x9cKawasaki Disease.â\\x80\\x9d World Organisation for Animal Health: â\\x80\\x9cQuestions and Answers on the COVID-19.â\\x80\\x9d FDA letter. Morbidity and Mortality Weekly Report: â\\x80\\x9cSymptom Duration and Risk Factors for Delayed Return to Usual Health Among Outpatients with COVID-19 in a Multistate Health Care Systems Network â\\x80\\x93 United States, March-June 2020.â\\x80\\x9d     Â© 2005 - 2025 WebMD LLC, an Internet Brands company. All rights reserved. WebMD does not provide medical advice, diagnosis or treatment. See additional information.'"
      ]
     },
     "execution_count": 10,
     "metadata": {},
     "output_type": "execute_result"
    }
   ],
   "source": [
    "scrape_url_content(url_to_check)"
   ]
  },
  {
   "cell_type": "markdown",
   "id": "9bc7049b",
   "metadata": {},
   "source": [
    "# Notable Patterns\n",
    "\n",
    "- The scraper fails to pick up the correct text on the page frequently, resulting in many misclassified and poor scores. This indicates a need to improve the scraping process.\n",
    "- Webpages with lots of text are being unncessarily penalized due to increased differences between the user prompt vector and the webpage content vector, because as the size of the webpage content increases, the keywords from the user prompt become more sparse.\n",
    "- Even strong websites are being rated between 40 and 70 out of 100. If a website is highly relevant, these scores should be closer to 80-90+; conservative scoring is obscuring the true credibility of the website.\n",
    "- Websites with no text scraped should have content relevance scores that are 0; however, because cosine similarity requires vectors to be orthogonal to produce an output of zero (and the zero vector has no direction so it is not orthogonal), they are currently given low, albeit nonzero scores. Websites that cannot be scraped should not exit the entire process and should instead just exclude the Content Relevance check, scoring on as many attributes as they can."
   ]
  }
 ],
 "metadata": {
  "kernelspec": {
   "display_name": "Python 3 (ipykernel)",
   "language": "python",
   "name": "python3"
  },
  "language_info": {
   "codemirror_mode": {
    "name": "ipython",
    "version": 3
   },
   "file_extension": ".py",
   "mimetype": "text/x-python",
   "name": "python",
   "nbconvert_exporter": "python",
   "pygments_lexer": "ipython3",
   "version": "3.10.12"
  }
 },
 "nbformat": 4,
 "nbformat_minor": 5
}
