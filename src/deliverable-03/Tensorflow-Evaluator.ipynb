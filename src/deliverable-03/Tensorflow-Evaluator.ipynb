{
 "cells": [
  {
   "cell_type": "code",
   "execution_count": 33,
   "id": "327b9781",
   "metadata": {},
   "outputs": [
    {
     "name": "stderr",
     "output_type": "stream",
     "text": [
      "/home/joshua/.local/lib/python3.10/site-packages/sentence_transformers/cross_encoder/CrossEncoder.py:13: TqdmExperimentalWarning: Using `tqdm.autonotebook.tqdm` in notebook mode. Use `tqdm.tqdm` instead to force console mode (e.g. in jupyter console)\n",
      "  from tqdm.autonotebook import tqdm, trange\n"
     ]
    }
   ],
   "source": [
    "import tensorflow as tf\n",
    "from tensorflow.keras.layers import Input, Embedding, Dense, Concatenate, Flatten\n",
    "from tensorflow.keras.models import Model\n",
    "from tensorflow.keras.preprocessing.text import Tokenizer\n",
    "from tensorflow.keras.preprocessing.sequence import pad_sequences\n",
    "import numpy as np\n",
    "import pandas as pd\n",
    "import re\n",
    "from sentence_transformers import SentenceTransformer"
   ]
  },
  {
   "cell_type": "markdown",
   "id": "d03496f8",
   "metadata": {},
   "source": [
    "# Define Tensorflow Model"
   ]
  },
  {
   "cell_type": "code",
   "execution_count": 68,
   "id": "28813019",
   "metadata": {},
   "outputs": [
    {
     "data": {
      "text/plain": [
       "array([ 256.,  512., 1024., 2048.])"
      ]
     },
     "execution_count": 68,
     "metadata": {},
     "output_type": "execute_result"
    }
   ],
   "source": [
    "(2 * np.ones(4)) ** (np.array([8, 9, 10, 11]))"
   ]
  },
  {
   "cell_type": "code",
   "execution_count": 73,
   "id": "73fd101f",
   "metadata": {},
   "outputs": [
    {
     "data": {
      "text/plain": [
       "11.0"
      ]
     },
     "execution_count": 73,
     "metadata": {},
     "output_type": "execute_result"
    }
   ],
   "source": [
    "np.round(np.log2(384 * 4))"
   ]
  },
  {
   "cell_type": "code",
   "execution_count": 102,
   "id": "345f8410",
   "metadata": {},
   "outputs": [],
   "source": [
    "# Define function to create the neural network model\n",
    "def create_nn_model(embedding_dim: int, num_of_dense: int) -> Model:\n",
    "    \"\"\"\n",
    "    Creates a neural network model that processes user prompts using an embedding layer,\n",
    "    concatenates it with function ratings, and passes through dense layers.\n",
    "\n",
    "    Args:\n",
    "        embedding_dim (int): Dimensionality of the embedding layer.\n",
    "        max_length (int): Maximum length of input sequences.\n",
    "        num_of_dense (int): Number of dense layers before concatenation.\n",
    "\n",
    "    Returns:\n",
    "        Model: A compiled TensorFlow model.\n",
    "    \"\"\"\n",
    "    # Text input (user prompt)\n",
    "    text_input = Input(shape = (embedding_dim,), name = \"text_input\")\n",
    "\n",
    "    # Dense layers for text input\n",
    "    # Start with a power of 2 neurons such that there are at least 4 times\n",
    "    # the embedding dimension in dense neurons for the first layer\n",
    "    num_neurons = 2 ** np.round(np.log2(embedding_dim * 4))\n",
    "#     num_neurons = 2 ** 12\n",
    "    x = text_input\n",
    "    # Quarter each subsequent dense layer size\n",
    "    for _ in range(num_of_dense):\n",
    "        num_neurons = max(1, int(num_neurons / 4))  # Ensure integer neurons, minimum of 1\n",
    "#         num_neurons = max(1, int(num_neurons / 2))  # Ensure integer neurons, minimum of 1\n",
    "        x = Dense(num_neurons, activation = 'relu')(x)\n",
    "\n",
    "    # Numeric input (func_rating)\n",
    "    func_rating_input = Input(shape = (6,), name = \"func_rating_input\")\n",
    "    y = Dense(32, activation = 'relu')(func_rating_input)\n",
    "\n",
    "    # Concatenate both paths\n",
    "    concatenated = Concatenate()([x, y])\n",
    "    output = Dense(6, activation = 'softmax', name = \"output\")(concatenated)\n",
    "\n",
    "    # Define and compile the model\n",
    "    model = Model(inputs = [text_input, func_rating_input], outputs = output)\n",
    "    model.compile(optimizer = 'adam', loss = 'categorical_crossentropy', metrics = ['accuracy'])\n",
    "\n",
    "    return model"
   ]
  },
  {
   "cell_type": "markdown",
   "id": "3089cd02",
   "metadata": {},
   "source": [
    "## Load Data and Preprocess"
   ]
  },
  {
   "cell_type": "code",
   "execution_count": 93,
   "id": "80c0e00f",
   "metadata": {},
   "outputs": [
    {
     "data": {
      "text/html": [
       "<div>\n",
       "<style scoped>\n",
       "    .dataframe tbody tr th:only-of-type {\n",
       "        vertical-align: middle;\n",
       "    }\n",
       "\n",
       "    .dataframe tbody tr th {\n",
       "        vertical-align: top;\n",
       "    }\n",
       "\n",
       "    .dataframe thead th {\n",
       "        text-align: right;\n",
       "    }\n",
       "</style>\n",
       "<table border=\"1\" class=\"dataframe\">\n",
       "  <thead>\n",
       "    <tr style=\"text-align: right;\">\n",
       "      <th></th>\n",
       "      <th>user_prompt</th>\n",
       "      <th>func_rating</th>\n",
       "      <th>custom_rating</th>\n",
       "      <th>prompt_length</th>\n",
       "    </tr>\n",
       "  </thead>\n",
       "  <tbody>\n",
       "    <tr>\n",
       "      <th>0</th>\n",
       "      <td>i have just been on an international flight ca...</td>\n",
       "      <td>2</td>\n",
       "      <td>3</td>\n",
       "      <td>20</td>\n",
       "    </tr>\n",
       "    <tr>\n",
       "      <th>1</th>\n",
       "      <td>what are the benefits of a vegetarian diet</td>\n",
       "      <td>2</td>\n",
       "      <td>4</td>\n",
       "      <td>8</td>\n",
       "    </tr>\n",
       "    <tr>\n",
       "      <th>2</th>\n",
       "      <td>what are the benefits of a vegetarian diet</td>\n",
       "      <td>2</td>\n",
       "      <td>2</td>\n",
       "      <td>8</td>\n",
       "    </tr>\n",
       "    <tr>\n",
       "      <th>3</th>\n",
       "      <td>what are the benefits of a vegetarian diet</td>\n",
       "      <td>2</td>\n",
       "      <td>3</td>\n",
       "      <td>8</td>\n",
       "    </tr>\n",
       "    <tr>\n",
       "      <th>4</th>\n",
       "      <td>how to improve mental health during stressful ...</td>\n",
       "      <td>3</td>\n",
       "      <td>3</td>\n",
       "      <td>8</td>\n",
       "    </tr>\n",
       "    <tr>\n",
       "      <th>...</th>\n",
       "      <td>...</td>\n",
       "      <td>...</td>\n",
       "      <td>...</td>\n",
       "      <td>...</td>\n",
       "    </tr>\n",
       "    <tr>\n",
       "      <th>297</th>\n",
       "      <td>how does altitude training affect endurance in...</td>\n",
       "      <td>3</td>\n",
       "      <td>3</td>\n",
       "      <td>10</td>\n",
       "    </tr>\n",
       "    <tr>\n",
       "      <th>298</th>\n",
       "      <td>what are the safest travel destinations for so...</td>\n",
       "      <td>3</td>\n",
       "      <td>2</td>\n",
       "      <td>11</td>\n",
       "    </tr>\n",
       "    <tr>\n",
       "      <th>299</th>\n",
       "      <td>how can travelers find sustainable and eco fri...</td>\n",
       "      <td>3</td>\n",
       "      <td>3</td>\n",
       "      <td>10</td>\n",
       "    </tr>\n",
       "    <tr>\n",
       "      <th>300</th>\n",
       "      <td>what cultural experiences should not be missed...</td>\n",
       "      <td>2</td>\n",
       "      <td>4</td>\n",
       "      <td>12</td>\n",
       "    </tr>\n",
       "    <tr>\n",
       "      <th>301</th>\n",
       "      <td>how do budget travel options compare to luxury...</td>\n",
       "      <td>3</td>\n",
       "      <td>4</td>\n",
       "      <td>11</td>\n",
       "    </tr>\n",
       "  </tbody>\n",
       "</table>\n",
       "<p>302 rows × 4 columns</p>\n",
       "</div>"
      ],
      "text/plain": [
       "                                           user_prompt  func_rating  \\\n",
       "0    i have just been on an international flight ca...            2   \n",
       "1           what are the benefits of a vegetarian diet            2   \n",
       "2           what are the benefits of a vegetarian diet            2   \n",
       "3           what are the benefits of a vegetarian diet            2   \n",
       "4    how to improve mental health during stressful ...            3   \n",
       "..                                                 ...          ...   \n",
       "297  how does altitude training affect endurance in...            3   \n",
       "298  what are the safest travel destinations for so...            3   \n",
       "299  how can travelers find sustainable and eco fri...            3   \n",
       "300  what cultural experiences should not be missed...            2   \n",
       "301  how do budget travel options compare to luxury...            3   \n",
       "\n",
       "     custom_rating  prompt_length  \n",
       "0                3             20  \n",
       "1                4              8  \n",
       "2                2              8  \n",
       "3                3              8  \n",
       "4                3              8  \n",
       "..             ...            ...  \n",
       "297              3             10  \n",
       "298              2             11  \n",
       "299              3             10  \n",
       "300              4             12  \n",
       "301              4             11  \n",
       "\n",
       "[302 rows x 4 columns]"
      ]
     },
     "execution_count": 93,
     "metadata": {},
     "output_type": "execute_result"
    }
   ],
   "source": [
    "# Read in data from csv\n",
    "df = pd.read_csv('prompts_and_ratings.csv')\n",
    "# Drop urls as we will not be using them\n",
    "df = df.drop(['url_to_check'], axis = 1)\n",
    "    \n",
    "# Preprocess prompts by replacing special characters with spaces\n",
    "# Then, remove extra spaces, strip leading and trailing whitespace characters, and convert to lowercase\n",
    "# This normalizes the prompts to prepare for vector embedding\n",
    "df['user_prompt'] = [re.sub('\\s+', ' ', re.sub('[^\\w\\s]', ' ', p)).strip().lower() for p in df['user_prompt']]\n",
    "\n",
    "# Calculate prompt length as the number of tokens in a prompt for potential future use in modeling\n",
    "df['prompt_length'] = [len(p.split(' ')) for p in df['user_prompt']]\n",
    "df"
   ]
  },
  {
   "cell_type": "code",
   "execution_count": 94,
   "id": "5909323f",
   "metadata": {},
   "outputs": [],
   "source": [
    "# Create sentence embeddings, using all-MiniLM-L6-v2 model to produce 384 dimension vectors\n",
    "tokenizer = SentenceTransformer('all-MiniLM-L6-v2')\n",
    "X_text = np.array([embedder.encode(p) for p in df['user_prompt']])"
   ]
  },
  {
   "cell_type": "code",
   "execution_count": 95,
   "id": "2a80078b",
   "metadata": {},
   "outputs": [
    {
     "name": "stdout",
     "output_type": "stream",
     "text": [
      "Unique function ratings: [0, 1, 2, 3, 4, 5]\n",
      "Unique human ratings: [0, 1, 2, 3, 4, 5]\n"
     ]
    }
   ],
   "source": [
    "# Check unique values for ratings to determine number of categories\n",
    "print(\n",
    "    f'Unique function ratings: {sorted(df.func_rating.unique())}',\n",
    "    f'Unique human ratings: {sorted(df.custom_rating.unique())}',\n",
    "    sep = '\\n'\n",
    ")"
   ]
  },
  {
   "cell_type": "code",
   "execution_count": 96,
   "id": "a3293203",
   "metadata": {},
   "outputs": [],
   "source": [
    "# Convert ratings to one-hot categorical arrays, use 6 categories based on \n",
    "num_categories = max(len(df.func_rating.unique()), len(df.custom_rating.unique()))\n",
    "X_rating = tf.keras.utils.to_categorical(np.array(df['func_rating']).reshape(-1, 1), num_categories)\n",
    "y = tf.keras.utils.to_categorical(np.array(df['custom_rating']).reshape(-1, 1), num_categories)"
   ]
  },
  {
   "cell_type": "code",
   "execution_count": 97,
   "id": "e417dd0a",
   "metadata": {},
   "outputs": [
    {
     "name": "stdout",
     "output_type": "stream",
     "text": [
      "X_text shape: (302, 384)\n",
      "X_ratings shape: (302, 6)\n",
      "y shape: (302, 6)\n"
     ]
    }
   ],
   "source": [
    "print(f'X_text shape: {X_text.shape}')\n",
    "print(f'X_ratings shape: {X_rating.shape}')\n",
    "print(f'y shape: {y.shape}')"
   ]
  },
  {
   "cell_type": "markdown",
   "id": "d35ef20a",
   "metadata": {},
   "source": [
    "## Instantiate Model"
   ]
  },
  {
   "cell_type": "code",
   "execution_count": 103,
   "id": "88615cf1",
   "metadata": {},
   "outputs": [],
   "source": [
    "# Create the model\n",
    "embedding_dim = X_text.shape[1]\n",
    "num_of_dense_layers = 5  # Example: 2 dense layers before concatenation\n",
    "model = create_nn_model(embedding_dim, num_of_dense_layers)"
   ]
  },
  {
   "cell_type": "markdown",
   "id": "5d066d4a",
   "metadata": {},
   "source": [
    "## Training"
   ]
  },
  {
   "cell_type": "code",
   "execution_count": 104,
   "id": "0e090f09",
   "metadata": {},
   "outputs": [
    {
     "name": "stdout",
     "output_type": "stream",
     "text": [
      "Epoch 1/10\n",
      "136/136 - 2s - loss: 1.6369 - accuracy: 0.4613 - val_loss: 1.7084 - val_accuracy: 0.2581 - 2s/epoch - 14ms/step\n",
      "Epoch 2/10\n",
      "136/136 - 1s - loss: 1.3371 - accuracy: 0.5535 - val_loss: 1.6953 - val_accuracy: 0.2581 - 705ms/epoch - 5ms/step\n",
      "Epoch 3/10\n",
      "136/136 - 1s - loss: 1.2253 - accuracy: 0.5535 - val_loss: 1.6907 - val_accuracy: 0.2581 - 782ms/epoch - 6ms/step\n",
      "Epoch 4/10\n",
      "136/136 - 1s - loss: 1.1659 - accuracy: 0.5609 - val_loss: 1.6824 - val_accuracy: 0.2581 - 592ms/epoch - 4ms/step\n",
      "Epoch 5/10\n",
      "136/136 - 1s - loss: 1.1167 - accuracy: 0.5830 - val_loss: 1.6698 - val_accuracy: 0.2581 - 603ms/epoch - 4ms/step\n",
      "Epoch 6/10\n",
      "136/136 - 1s - loss: 1.0639 - accuracy: 0.6347 - val_loss: 1.6536 - val_accuracy: 0.3226 - 751ms/epoch - 6ms/step\n",
      "Epoch 7/10\n",
      "136/136 - 1s - loss: 1.0286 - accuracy: 0.6531 - val_loss: 1.6374 - val_accuracy: 0.3226 - 624ms/epoch - 5ms/step\n",
      "Epoch 8/10\n",
      "136/136 - 1s - loss: 1.0006 - accuracy: 0.6531 - val_loss: 1.6202 - val_accuracy: 0.3548 - 617ms/epoch - 5ms/step\n",
      "Epoch 9/10\n",
      "136/136 - 1s - loss: 0.9937 - accuracy: 0.6199 - val_loss: 1.6332 - val_accuracy: 0.2581 - 753ms/epoch - 6ms/step\n",
      "Epoch 10/10\n",
      "136/136 - 1s - loss: 0.9723 - accuracy: 0.6642 - val_loss: 1.6598 - val_accuracy: 0.2581 - 628ms/epoch - 5ms/step\n"
     ]
    },
    {
     "data": {
      "text/plain": [
       "<keras.src.callbacks.History at 0x7f2fd0122b90>"
      ]
     },
     "execution_count": 104,
     "metadata": {},
     "output_type": "execute_result"
    }
   ],
   "source": [
    "model.fit(\n",
    "    {'text_input': X_text, 'func_rating_input': X_rating},\n",
    "    y,\n",
    "    epochs = 10,\n",
    "    batch_size = 2,\n",
    "    validation_split = 0.1,\n",
    "    verbose = 2\n",
    ")"
   ]
  },
  {
   "cell_type": "code",
   "execution_count": 105,
   "id": "a160d793",
   "metadata": {},
   "outputs": [
    {
     "data": {
      "image/png": "[encoded data removed]",
      "text/plain": [
       "<Figure size 640x480 with 1 Axes>"
      ]
     },
     "metadata": {},
     "output_type": "display_data"
    }
   ],
   "source": [
    "# Plot error\n",
    "import matplotlib.pyplot as plt\n",
    "\n",
    "plt.plot(model.history.history['loss'])\n",
    "plt.plot(model.history.history['val_loss'])\n",
    "plt.title('model loss')\n",
    "plt.ylabel('loss')\n",
    "plt.xlabel('epoch')\n",
    "plt.legend(['train', 'val'], loc='upper left')\n",
    "plt.show()"
   ]
  },
  {
   "cell_type": "code",
   "execution_count": null,
   "id": "77b625b0",
   "metadata": {},
   "outputs": [],
   "source": []
  }
 ],
 "metadata": {
  "kernelspec": {
   "display_name": "Python 3 (ipykernel)",
   "language": "python",
   "name": "python3"
  },
  "language_info": {
   "codemirror_mode": {
    "name": "ipython",
    "version": 3
   },
   "file_extension": ".py",
   "mimetype": "text/x-python",
   "name": "python",
   "nbconvert_exporter": "python",
   "pygments_lexer": "ipython3",
   "version": "3.10.12"
  }
 },
 "nbformat": 4,
 "nbformat_minor": 5
}
