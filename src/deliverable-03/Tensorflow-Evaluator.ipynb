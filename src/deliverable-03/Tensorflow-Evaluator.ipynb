{
 "cells": [
  {
   "cell_type": "code",
   "execution_count": 1,
   "id": "327b9781",
   "metadata": {},
   "outputs": [
    {
     "name": "stderr",
     "output_type": "stream",
     "text": [
      "2025-03-01 02:57:20.842296: I tensorflow/tsl/cuda/cudart_stub.cc:28] Could not find cuda drivers on your machine, GPU will not be used.\n",
      "2025-03-01 02:57:20.893595: I tensorflow/tsl/cuda/cudart_stub.cc:28] Could not find cuda drivers on your machine, GPU will not be used.\n",
      "2025-03-01 02:57:20.894266: I tensorflow/core/platform/cpu_feature_guard.cc:182] This TensorFlow binary is optimized to use available CPU instructions in performance-critical operations.\n",
      "To enable the following instructions: AVX2, in other operations, rebuild TensorFlow with the appropriate compiler flags.\n",
      "2025-03-01 02:57:21.858462: W tensorflow/compiler/tf2tensorrt/utils/py_utils.cc:38] TF-TRT Warning: Could not find TensorRT\n",
      "/home/josh/.local/lib/python3.8/site-packages/sentence_transformers/cross_encoder/CrossEncoder.py:13: TqdmExperimentalWarning: Using `tqdm.autonotebook.tqdm` in notebook mode. Use `tqdm.tqdm` instead to force console mode (e.g. in jupyter console)\n",
      "  from tqdm.autonotebook import tqdm, trange\n"
     ]
    }
   ],
   "source": [
    "import tensorflow as tf\n",
    "import numpy as np\n",
    "import pandas as pd\n",
    "import re\n",
    "import os\n",
    "from sentence_transformers import SentenceTransformer\n",
    "import matplotlib.pyplot as plt\n",
    "import pickle\n",
    "from huggingface_hub import HfApi, hf_hub_download\n",
    "from models import create_nn_model_v1, create_nn_model_v2"
   ]
  },
  {
   "cell_type": "markdown",
   "id": "44d0063a",
   "metadata": {},
   "source": [
    "# Modeling"
   ]
  },
  {
   "cell_type": "markdown",
   "id": "d03496f8",
   "metadata": {},
   "source": [
    "## Define Tensorflow Model"
   ]
  },
  {
   "cell_type": "markdown",
   "id": "908f8a9a",
   "metadata": {},
   "source": [
    "$$\n",
    "\\begin{matrix}\n",
    "\\text{Input 1: text}, X_1 & \\rightarrow & \\text{embed}: E(X_1) & \\rightarrow & N_1(E(X_1)) \\\\\n",
    "& & & & \\searrow \\\\\n",
    "& & & & & \\oplus \\rightarrow N_3 \\bigg(\\underbrace{N_1(E(X_1))}_\\text{text}, \\underbrace{N_2(X_2)}_\\text{func rating} \\bigg) \\\\\n",
    "& & & & \\nearrow \\\\\n",
    "& & \\text{Input 2: function rating}, X_2 & \\rightarrow & N_2(X_2) \\\\\n",
    "\\end{matrix}\n",
    "$$"
   ]
  },
  {
   "cell_type": "markdown",
   "id": "3089cd02",
   "metadata": {},
   "source": [
    "## Load Data and Preprocess"
   ]
  },
  {
   "cell_type": "code",
   "execution_count": 2,
   "id": "80c0e00f",
   "metadata": {},
   "outputs": [
    {
     "data": {
      "text/html": [
       "<div>\n",
       "<style scoped>\n",
       "    .dataframe tbody tr th:only-of-type {\n",
       "        vertical-align: middle;\n",
       "    }\n",
       "\n",
       "    .dataframe tbody tr th {\n",
       "        vertical-align: top;\n",
       "    }\n",
       "\n",
       "    .dataframe thead th {\n",
       "        text-align: right;\n",
       "    }\n",
       "</style>\n",
       "<table border=\"1\" class=\"dataframe\">\n",
       "  <thead>\n",
       "    <tr style=\"text-align: right;\">\n",
       "      <th></th>\n",
       "      <th>user_prompt</th>\n",
       "      <th>func_rating</th>\n",
       "      <th>custom_rating</th>\n",
       "    </tr>\n",
       "  </thead>\n",
       "  <tbody>\n",
       "    <tr>\n",
       "      <th>0</th>\n",
       "      <td>i have just been on an international flight ca...</td>\n",
       "      <td>2</td>\n",
       "      <td>3</td>\n",
       "    </tr>\n",
       "    <tr>\n",
       "      <th>1</th>\n",
       "      <td>what are the benefits of a vegetarian diet</td>\n",
       "      <td>2</td>\n",
       "      <td>4</td>\n",
       "    </tr>\n",
       "    <tr>\n",
       "      <th>2</th>\n",
       "      <td>what are the benefits of a vegetarian diet</td>\n",
       "      <td>2</td>\n",
       "      <td>2</td>\n",
       "    </tr>\n",
       "    <tr>\n",
       "      <th>3</th>\n",
       "      <td>what are the benefits of a vegetarian diet</td>\n",
       "      <td>2</td>\n",
       "      <td>3</td>\n",
       "    </tr>\n",
       "    <tr>\n",
       "      <th>4</th>\n",
       "      <td>how to improve mental health during stressful ...</td>\n",
       "      <td>3</td>\n",
       "      <td>3</td>\n",
       "    </tr>\n",
       "    <tr>\n",
       "      <th>...</th>\n",
       "      <td>...</td>\n",
       "      <td>...</td>\n",
       "      <td>...</td>\n",
       "    </tr>\n",
       "    <tr>\n",
       "      <th>297</th>\n",
       "      <td>how does altitude training affect endurance in...</td>\n",
       "      <td>3</td>\n",
       "      <td>3</td>\n",
       "    </tr>\n",
       "    <tr>\n",
       "      <th>298</th>\n",
       "      <td>what are the safest travel destinations for so...</td>\n",
       "      <td>3</td>\n",
       "      <td>2</td>\n",
       "    </tr>\n",
       "    <tr>\n",
       "      <th>299</th>\n",
       "      <td>how can travelers find sustainable and eco fri...</td>\n",
       "      <td>3</td>\n",
       "      <td>3</td>\n",
       "    </tr>\n",
       "    <tr>\n",
       "      <th>300</th>\n",
       "      <td>what cultural experiences should not be missed...</td>\n",
       "      <td>2</td>\n",
       "      <td>4</td>\n",
       "    </tr>\n",
       "    <tr>\n",
       "      <th>301</th>\n",
       "      <td>how do budget travel options compare to luxury...</td>\n",
       "      <td>3</td>\n",
       "      <td>4</td>\n",
       "    </tr>\n",
       "  </tbody>\n",
       "</table>\n",
       "<p>302 rows × 3 columns</p>\n",
       "</div>"
      ],
      "text/plain": [
       "                                           user_prompt  func_rating  \\\n",
       "0    i have just been on an international flight ca...            2   \n",
       "1           what are the benefits of a vegetarian diet            2   \n",
       "2           what are the benefits of a vegetarian diet            2   \n",
       "3           what are the benefits of a vegetarian diet            2   \n",
       "4    how to improve mental health during stressful ...            3   \n",
       "..                                                 ...          ...   \n",
       "297  how does altitude training affect endurance in...            3   \n",
       "298  what are the safest travel destinations for so...            3   \n",
       "299  how can travelers find sustainable and eco fri...            3   \n",
       "300  what cultural experiences should not be missed...            2   \n",
       "301  how do budget travel options compare to luxury...            3   \n",
       "\n",
       "     custom_rating  \n",
       "0                3  \n",
       "1                4  \n",
       "2                2  \n",
       "3                3  \n",
       "4                3  \n",
       "..             ...  \n",
       "297              3  \n",
       "298              2  \n",
       "299              3  \n",
       "300              4  \n",
       "301              4  \n",
       "\n",
       "[302 rows x 3 columns]"
      ]
     },
     "execution_count": 2,
     "metadata": {},
     "output_type": "execute_result"
    }
   ],
   "source": [
    "# Read in data from csv\n",
    "df = pd.read_csv('prompts_and_ratings.csv')\n",
    "\n",
    "# Drop urls as we will not be using them\n",
    "df = df.drop(['url_to_check'], axis = 1)\n",
    "    \n",
    "# Preprocess prompts by replacing special characters with spaces\n",
    "# Then, remove extra spaces, strip leading and trailing whitespace characters, and convert to lowercase\n",
    "# This normalizes the prompts to prepare for vector embedding\n",
    "df['user_prompt'] = [re.sub('\\s+', ' ', re.sub('[^\\w\\s]', ' ', p)).strip().lower() for p in df['user_prompt']]\n",
    "df"
   ]
  },
  {
   "cell_type": "markdown",
   "id": "e2c18aa5",
   "metadata": {},
   "source": [
    "SentenceTransformers are designed to extract semantic meanings from whole sentences. Since each of the prompts should be evaluated as a whole rather than word by word, it makes more sense to transform them using SentenceTransformers rather using a bag-of-words or TF-IDF model. The SentenceTransformers from HuggingFace are pre-trained for these kinds of tasks.\n",
    "\n",
    "The all-MiniLM-L6-v2 model was selected for the low dimensional outputs it produces. The normal model outputs 384 dimensional vectors, and when using binary precision (https://sbert.net/examples/applications/embedding-quantization/README.html#binary-quantization-in-sentence-transformers), the output is merely 48 dimensions. The amount of data available to train is quite small (~242 training samples with a 20% validation split), so the dimensionality needs to be low in order for the model to see any semblance of success while training."
   ]
  },
  {
   "cell_type": "code",
   "execution_count": 3,
   "id": "5909323f",
   "metadata": {},
   "outputs": [],
   "source": [
    "# Create sentence embeddings, using all-MiniLM-L6-v2 model\n",
    "# Use binary precision to reduce dimensionality, producing 48 dimension vectors\n",
    "tokenizer = SentenceTransformer('all-MiniLM-L6-v2')\n",
    "X_text = np.array([tokenizer.encode(p, precision = 'binary') for p in df['user_prompt']])"
   ]
  },
  {
   "cell_type": "markdown",
   "id": "d7645f6f",
   "metadata": {},
   "source": [
    "This model will be treated as a classification task, requiring the function and human ratings to be one-hot encoded."
   ]
  },
  {
   "cell_type": "code",
   "execution_count": 4,
   "id": "2a80078b",
   "metadata": {},
   "outputs": [
    {
     "name": "stdout",
     "output_type": "stream",
     "text": [
      "Unique function ratings: [0, 1, 2, 3, 4, 5]\n",
      "Unique human ratings: [0, 1, 2, 3, 4, 5]\n"
     ]
    }
   ],
   "source": [
    "# Check unique values for ratings to determine number of categories\n",
    "print(\n",
    "    f'Unique function ratings: {sorted(df.func_rating.unique())}',\n",
    "    f'Unique human ratings: {sorted(df.custom_rating.unique())}',\n",
    "    sep = '\\n'\n",
    ")"
   ]
  },
  {
   "cell_type": "code",
   "execution_count": 5,
   "id": "a3293203",
   "metadata": {},
   "outputs": [],
   "source": [
    "# Convert ratings to one-hot categorical arrays, use 6 categories based on data\n",
    "num_categories = max(len(df.func_rating.unique()), len(df.custom_rating.unique()))\n",
    "X_rating = tf.keras.utils.to_categorical(np.array(df['func_rating']).reshape(-1, 1), num_categories)\n",
    "y = tf.keras.utils.to_categorical(np.array(df['custom_rating']).reshape(-1, 1), num_categories)"
   ]
  },
  {
   "cell_type": "code",
   "execution_count": 6,
   "id": "e417dd0a",
   "metadata": {},
   "outputs": [
    {
     "name": "stdout",
     "output_type": "stream",
     "text": [
      "X_text shape: (302, 48)\n",
      "X_ratings shape: (302, 6)\n",
      "y shape: (302, 6)\n"
     ]
    }
   ],
   "source": [
    "# Check the shapes of each input\n",
    "print(f'X_text shape: {X_text.shape}')\n",
    "print(f'X_ratings shape: {X_rating.shape}')\n",
    "print(f'y shape: {y.shape}')"
   ]
  },
  {
   "cell_type": "markdown",
   "id": "48c7aebf",
   "metadata": {},
   "source": [
    "# Tensorflow Model v1"
   ]
  },
  {
   "cell_type": "markdown",
   "id": "d35ef20a",
   "metadata": {},
   "source": [
    "## Instantiate Model"
   ]
  },
  {
   "cell_type": "code",
   "execution_count": 8,
   "id": "88615cf1",
   "metadata": {},
   "outputs": [
    {
     "name": "stdout",
     "output_type": "stream",
     "text": [
      "Model: \"model\"\n",
      "__________________________________________________________________________________________________\n",
      " Layer (type)                Output Shape                 Param #   Connected to                  \n",
      "==================================================================================================\n",
      " embedded_text_input (Input  [(None, 48)]                 0         []                            \n",
      " Layer)                                                                                           \n",
      "                                                                                                  \n",
      " dense (Dense)               (None, 256)                  12544     ['embedded_text_input[0][0]'] \n",
      "                                                                                                  \n",
      " dense_1 (Dense)             (None, 128)                  32896     ['dense[0][0]']               \n",
      "                                                                                                  \n",
      " dense_2 (Dense)             (None, 128)                  16512     ['dense_1[0][0]']             \n",
      "                                                                                                  \n",
      " func_rating_input (InputLa  [(None, 6)]                  0         []                            \n",
      " yer)                                                                                             \n",
      "                                                                                                  \n",
      " dense_3 (Dense)             (None, 64)                   8256      ['dense_2[0][0]']             \n",
      "                                                                                                  \n",
      " dense_4 (Dense)             (None, 64)                   448       ['func_rating_input[0][0]']   \n",
      "                                                                                                  \n",
      " concatenate (Concatenate)   (None, 128)                  0         ['dense_3[0][0]',             \n",
      "                                                                     'dense_4[0][0]']             \n",
      "                                                                                                  \n",
      " output (Dense)              (None, 6)                    774       ['concatenate[0][0]']         \n",
      "                                                                                                  \n",
      "==================================================================================================\n",
      "Total params: 71430 (279.02 KB)\n",
      "Trainable params: 71430 (279.02 KB)\n",
      "Non-trainable params: 0 (0.00 Byte)\n",
      "__________________________________________________________________________________________________\n"
     ]
    }
   ],
   "source": [
    "# Embedding dimension is decided based on preprocessing\n",
    "embedding_dim = X_text.shape[1]\n",
    "\n",
    "# The number of dense layers is a tuneable hyperparamter\n",
    "# If there are too many dense layers, the model heavily overfits and takes a long time to train\n",
    "# If there are too few, the model underfits\n",
    "# After testing, 4 layers appears to be the happy medium in terms of model performance and training time\n",
    "num_of_dense_layers = 4\n",
    "\n",
    "# Create the model\n",
    "model = create_nn_model_v1(embedding_dim, num_of_dense_layers)\n",
    "model.summary()"
   ]
  },
  {
   "cell_type": "markdown",
   "id": "5d066d4a",
   "metadata": {},
   "source": [
    "## Training"
   ]
  },
  {
   "cell_type": "code",
   "execution_count": 3,
   "id": "a79034bc",
   "metadata": {},
   "outputs": [],
   "source": [
    "# Define and create a checkpoint directory\n",
    "checkpoint_dir = './checkpoint'\n",
    "os.makedirs(checkpoint_dir, exist_ok = True)\n",
    "    \n",
    "# Save epochs while training, to manually select best model later\n",
    "model_checkpoint = tf.keras.callbacks.ModelCheckpoint(\n",
    "    filepath = os.path.join(checkpoint_dir, 'model_v1-epoch_{epoch:02d}.h5'),\n",
    "    save_freq = 'epoch'\n",
    ")"
   ]
  },
  {
   "cell_type": "code",
   "execution_count": 10,
   "id": "0e090f09",
   "metadata": {},
   "outputs": [
    {
     "name": "stdout",
     "output_type": "stream",
     "text": [
      "Epoch 1/80\n",
      "121/121 - 2s - loss: 5.8087 - accuracy: 0.3361 - val_loss: 2.7890 - val_accuracy: 0.5410 - 2s/epoch - 13ms/step\n",
      "Epoch 2/80\n"
     ]
    },
    {
     "name": "stderr",
     "output_type": "stream",
     "text": [
      "/home/josh/.local/lib/python3.8/site-packages/keras/src/engine/training.py:3000: UserWarning: You are saving your model as an HDF5 file via `model.save()`. This file format is considered legacy. We recommend using instead the native Keras format, e.g. `model.save('my_model.keras')`.\n",
      "  saving_api.save_model(\n"
     ]
    },
    {
     "name": "stdout",
     "output_type": "stream",
     "text": [
      "121/121 - 0s - loss: 1.8170 - accuracy: 0.5726 - val_loss: 1.6978 - val_accuracy: 0.4754 - 402ms/epoch - 3ms/step\n",
      "Epoch 3/80\n",
      "121/121 - 0s - loss: 0.8036 - accuracy: 0.7510 - val_loss: 1.4247 - val_accuracy: 0.6066 - 307ms/epoch - 3ms/step\n",
      "Epoch 4/80\n",
      "121/121 - 0s - loss: 0.6317 - accuracy: 0.8174 - val_loss: 1.5691 - val_accuracy: 0.4754 - 344ms/epoch - 3ms/step\n",
      "Epoch 5/80\n",
      "121/121 - 0s - loss: 0.4615 - accuracy: 0.8548 - val_loss: 1.9375 - val_accuracy: 0.4590 - 365ms/epoch - 3ms/step\n",
      "Epoch 6/80\n",
      "121/121 - 0s - loss: 0.4867 - accuracy: 0.8672 - val_loss: 1.9587 - val_accuracy: 0.5246 - 308ms/epoch - 3ms/step\n",
      "Epoch 7/80\n",
      "121/121 - 0s - loss: 0.5559 - accuracy: 0.8714 - val_loss: 2.0279 - val_accuracy: 0.5574 - 236ms/epoch - 2ms/step\n",
      "Epoch 8/80\n",
      "121/121 - 0s - loss: 0.5497 - accuracy: 0.8797 - val_loss: 1.7492 - val_accuracy: 0.6066 - 238ms/epoch - 2ms/step\n",
      "Epoch 9/80\n",
      "121/121 - 0s - loss: 0.3898 - accuracy: 0.8797 - val_loss: 1.5740 - val_accuracy: 0.5902 - 306ms/epoch - 3ms/step\n",
      "Epoch 10/80\n",
      "121/121 - 0s - loss: 0.3867 - accuracy: 0.9046 - val_loss: 1.7927 - val_accuracy: 0.4590 - 261ms/epoch - 2ms/step\n",
      "Epoch 11/80\n",
      "121/121 - 0s - loss: 0.3015 - accuracy: 0.8838 - val_loss: 1.5660 - val_accuracy: 0.5738 - 284ms/epoch - 2ms/step\n",
      "Epoch 12/80\n",
      "121/121 - 0s - loss: 0.2604 - accuracy: 0.9087 - val_loss: 1.6337 - val_accuracy: 0.5902 - 287ms/epoch - 2ms/step\n",
      "Epoch 13/80\n",
      "121/121 - 0s - loss: 0.2583 - accuracy: 0.9004 - val_loss: 1.5090 - val_accuracy: 0.5902 - 372ms/epoch - 3ms/step\n",
      "Epoch 14/80\n",
      "121/121 - 0s - loss: 0.2432 - accuracy: 0.8921 - val_loss: 1.7116 - val_accuracy: 0.5902 - 295ms/epoch - 2ms/step\n",
      "Epoch 15/80\n",
      "121/121 - 0s - loss: 0.2135 - accuracy: 0.9046 - val_loss: 1.6514 - val_accuracy: 0.6393 - 309ms/epoch - 3ms/step\n",
      "Epoch 16/80\n",
      "121/121 - 0s - loss: 0.2128 - accuracy: 0.9212 - val_loss: 1.5640 - val_accuracy: 0.6230 - 273ms/epoch - 2ms/step\n",
      "Epoch 17/80\n",
      "121/121 - 0s - loss: 0.2000 - accuracy: 0.9046 - val_loss: 1.6707 - val_accuracy: 0.5574 - 307ms/epoch - 3ms/step\n",
      "Epoch 18/80\n",
      "121/121 - 0s - loss: 0.2086 - accuracy: 0.9129 - val_loss: 1.7759 - val_accuracy: 0.5738 - 311ms/epoch - 3ms/step\n",
      "Epoch 19/80\n",
      "121/121 - 0s - loss: 0.1731 - accuracy: 0.9129 - val_loss: 1.8856 - val_accuracy: 0.5738 - 335ms/epoch - 3ms/step\n",
      "Epoch 20/80\n",
      "121/121 - 0s - loss: 0.1591 - accuracy: 0.9295 - val_loss: 1.8206 - val_accuracy: 0.5574 - 249ms/epoch - 2ms/step\n",
      "Epoch 21/80\n",
      "121/121 - 0s - loss: 0.2023 - accuracy: 0.9046 - val_loss: 1.8030 - val_accuracy: 0.6066 - 217ms/epoch - 2ms/step\n",
      "Epoch 22/80\n",
      "121/121 - 0s - loss: 0.2265 - accuracy: 0.9170 - val_loss: 1.6955 - val_accuracy: 0.6393 - 278ms/epoch - 2ms/step\n",
      "Epoch 23/80\n",
      "121/121 - 0s - loss: 0.2081 - accuracy: 0.9087 - val_loss: 1.6274 - val_accuracy: 0.6066 - 264ms/epoch - 2ms/step\n",
      "Epoch 24/80\n",
      "121/121 - 0s - loss: 0.2164 - accuracy: 0.9253 - val_loss: 1.7697 - val_accuracy: 0.5246 - 247ms/epoch - 2ms/step\n",
      "Epoch 25/80\n",
      "121/121 - 0s - loss: 0.1654 - accuracy: 0.9170 - val_loss: 1.9347 - val_accuracy: 0.6557 - 291ms/epoch - 2ms/step\n",
      "Epoch 26/80\n",
      "121/121 - 0s - loss: 0.2355 - accuracy: 0.8963 - val_loss: 2.0828 - val_accuracy: 0.5410 - 256ms/epoch - 2ms/step\n",
      "Epoch 27/80\n",
      "121/121 - 0s - loss: 0.3358 - accuracy: 0.9046 - val_loss: 2.0081 - val_accuracy: 0.5574 - 255ms/epoch - 2ms/step\n",
      "Epoch 28/80\n",
      "121/121 - 0s - loss: 1.4797 - accuracy: 0.5934 - val_loss: 2.0267 - val_accuracy: 0.5738 - 232ms/epoch - 2ms/step\n",
      "Epoch 29/80\n",
      "121/121 - 0s - loss: 1.0606 - accuracy: 0.6722 - val_loss: 1.6071 - val_accuracy: 0.6393 - 228ms/epoch - 2ms/step\n",
      "Epoch 30/80\n",
      "121/121 - 0s - loss: 0.5387 - accuracy: 0.8174 - val_loss: 1.4864 - val_accuracy: 0.7049 - 295ms/epoch - 2ms/step\n",
      "Epoch 31/80\n",
      "121/121 - 0s - loss: 0.4416 - accuracy: 0.8216 - val_loss: 1.8769 - val_accuracy: 0.5410 - 282ms/epoch - 2ms/step\n",
      "Epoch 32/80\n",
      "121/121 - 0s - loss: 0.3669 - accuracy: 0.8921 - val_loss: 1.4009 - val_accuracy: 0.6557 - 310ms/epoch - 3ms/step\n",
      "Epoch 33/80\n",
      "121/121 - 0s - loss: 0.2298 - accuracy: 0.8963 - val_loss: 1.8468 - val_accuracy: 0.6066 - 280ms/epoch - 2ms/step\n",
      "Epoch 34/80\n",
      "121/121 - 0s - loss: 0.1558 - accuracy: 0.9336 - val_loss: 1.7082 - val_accuracy: 0.6393 - 261ms/epoch - 2ms/step\n",
      "Epoch 35/80\n",
      "121/121 - 0s - loss: 0.1753 - accuracy: 0.9295 - val_loss: 1.7803 - val_accuracy: 0.5902 - 253ms/epoch - 2ms/step\n",
      "Epoch 36/80\n",
      "121/121 - 0s - loss: 0.1584 - accuracy: 0.9212 - val_loss: 1.8509 - val_accuracy: 0.6557 - 206ms/epoch - 2ms/step\n",
      "Epoch 37/80\n",
      "121/121 - 0s - loss: 0.1363 - accuracy: 0.9295 - val_loss: 1.8393 - val_accuracy: 0.6885 - 390ms/epoch - 3ms/step\n",
      "Epoch 38/80\n",
      "121/121 - 0s - loss: 0.1332 - accuracy: 0.9170 - val_loss: 1.9172 - val_accuracy: 0.6721 - 479ms/epoch - 4ms/step\n",
      "Epoch 39/80\n",
      "121/121 - 0s - loss: 0.1327 - accuracy: 0.9253 - val_loss: 1.9049 - val_accuracy: 0.6721 - 421ms/epoch - 3ms/step\n",
      "Epoch 40/80\n",
      "121/121 - 0s - loss: 0.1262 - accuracy: 0.9378 - val_loss: 1.9353 - val_accuracy: 0.6721 - 255ms/epoch - 2ms/step\n",
      "Epoch 41/80\n",
      "121/121 - 0s - loss: 0.1189 - accuracy: 0.9253 - val_loss: 1.9344 - val_accuracy: 0.7049 - 269ms/epoch - 2ms/step\n",
      "Epoch 42/80\n",
      "121/121 - 0s - loss: 0.1299 - accuracy: 0.9378 - val_loss: 1.9644 - val_accuracy: 0.6885 - 219ms/epoch - 2ms/step\n",
      "Epoch 43/80\n",
      "121/121 - 0s - loss: 0.1287 - accuracy: 0.9336 - val_loss: 2.0359 - val_accuracy: 0.6885 - 304ms/epoch - 3ms/step\n",
      "Epoch 44/80\n",
      "121/121 - 0s - loss: 0.1287 - accuracy: 0.9336 - val_loss: 1.9868 - val_accuracy: 0.6885 - 327ms/epoch - 3ms/step\n",
      "Epoch 45/80\n",
      "121/121 - 0s - loss: 0.1404 - accuracy: 0.9378 - val_loss: 2.0545 - val_accuracy: 0.6557 - 274ms/epoch - 2ms/step\n",
      "Epoch 46/80\n",
      "121/121 - 0s - loss: 0.1468 - accuracy: 0.9336 - val_loss: 1.9365 - val_accuracy: 0.6721 - 338ms/epoch - 3ms/step\n",
      "Epoch 47/80\n",
      "121/121 - 0s - loss: 0.1752 - accuracy: 0.9295 - val_loss: 1.8686 - val_accuracy: 0.6557 - 330ms/epoch - 3ms/step\n",
      "Epoch 48/80\n",
      "121/121 - 0s - loss: 0.2065 - accuracy: 0.9170 - val_loss: 1.9500 - val_accuracy: 0.6066 - 332ms/epoch - 3ms/step\n",
      "Epoch 49/80\n",
      "121/121 - 0s - loss: 0.2252 - accuracy: 0.9170 - val_loss: 1.6916 - val_accuracy: 0.6393 - 260ms/epoch - 2ms/step\n",
      "Epoch 50/80\n",
      "121/121 - 0s - loss: 0.2388 - accuracy: 0.9212 - val_loss: 1.9449 - val_accuracy: 0.6721 - 294ms/epoch - 2ms/step\n",
      "Epoch 51/80\n",
      "121/121 - 0s - loss: 0.1873 - accuracy: 0.9295 - val_loss: 2.5508 - val_accuracy: 0.5410 - 283ms/epoch - 2ms/step\n",
      "Epoch 52/80\n",
      "121/121 - 0s - loss: 0.2339 - accuracy: 0.9087 - val_loss: 2.0157 - val_accuracy: 0.6557 - 239ms/epoch - 2ms/step\n",
      "Epoch 53/80\n",
      "121/121 - 0s - loss: 0.5222 - accuracy: 0.8672 - val_loss: 2.0393 - val_accuracy: 0.6066 - 261ms/epoch - 2ms/step\n",
      "Epoch 54/80\n",
      "121/121 - 0s - loss: 0.6737 - accuracy: 0.8340 - val_loss: 2.1635 - val_accuracy: 0.4590 - 306ms/epoch - 3ms/step\n",
      "Epoch 55/80\n",
      "121/121 - 0s - loss: 0.5012 - accuracy: 0.8299 - val_loss: 1.6024 - val_accuracy: 0.5902 - 254ms/epoch - 2ms/step\n",
      "Epoch 56/80\n",
      "121/121 - 0s - loss: 0.2845 - accuracy: 0.9087 - val_loss: 1.9340 - val_accuracy: 0.6066 - 283ms/epoch - 2ms/step\n",
      "Epoch 57/80\n",
      "121/121 - 0s - loss: 0.4073 - accuracy: 0.8797 - val_loss: 1.7172 - val_accuracy: 0.5738 - 285ms/epoch - 2ms/step\n",
      "Epoch 58/80\n",
      "121/121 - 0s - loss: 0.3718 - accuracy: 0.9004 - val_loss: 2.1251 - val_accuracy: 0.6230 - 275ms/epoch - 2ms/step\n",
      "Epoch 59/80\n",
      "121/121 - 0s - loss: 0.1721 - accuracy: 0.9336 - val_loss: 2.1463 - val_accuracy: 0.6230 - 252ms/epoch - 2ms/step\n",
      "Epoch 60/80\n",
      "121/121 - 0s - loss: 0.1366 - accuracy: 0.9419 - val_loss: 2.3117 - val_accuracy: 0.6557 - 253ms/epoch - 2ms/step\n",
      "Epoch 61/80\n",
      "121/121 - 0s - loss: 0.1205 - accuracy: 0.9419 - val_loss: 2.4830 - val_accuracy: 0.6393 - 253ms/epoch - 2ms/step\n",
      "Epoch 62/80\n",
      "121/121 - 0s - loss: 0.1193 - accuracy: 0.9378 - val_loss: 2.5564 - val_accuracy: 0.6230 - 226ms/epoch - 2ms/step\n",
      "Epoch 63/80\n",
      "121/121 - 0s - loss: 0.1240 - accuracy: 0.9419 - val_loss: 2.7840 - val_accuracy: 0.6557 - 204ms/epoch - 2ms/step\n",
      "Epoch 64/80\n",
      "121/121 - 0s - loss: 0.1204 - accuracy: 0.9419 - val_loss: 2.6394 - val_accuracy: 0.6393 - 281ms/epoch - 2ms/step\n",
      "Epoch 65/80\n",
      "121/121 - 1s - loss: 0.1160 - accuracy: 0.9461 - val_loss: 2.6321 - val_accuracy: 0.6393 - 515ms/epoch - 4ms/step\n",
      "Epoch 66/80\n",
      "121/121 - 0s - loss: 0.1215 - accuracy: 0.9295 - val_loss: 2.6289 - val_accuracy: 0.6393 - 408ms/epoch - 3ms/step\n",
      "Epoch 67/80\n",
      "121/121 - 0s - loss: 0.1097 - accuracy: 0.9253 - val_loss: 2.6327 - val_accuracy: 0.6393 - 341ms/epoch - 3ms/step\n"
     ]
    },
    {
     "name": "stdout",
     "output_type": "stream",
     "text": [
      "Epoch 68/80\n",
      "121/121 - 0s - loss: 0.1088 - accuracy: 0.9461 - val_loss: 2.6253 - val_accuracy: 0.6393 - 393ms/epoch - 3ms/step\n",
      "Epoch 69/80\n",
      "121/121 - 0s - loss: 0.1070 - accuracy: 0.9336 - val_loss: 2.7328 - val_accuracy: 0.6230 - 389ms/epoch - 3ms/step\n",
      "Epoch 70/80\n",
      "121/121 - 0s - loss: 0.1224 - accuracy: 0.9336 - val_loss: 2.7415 - val_accuracy: 0.6230 - 341ms/epoch - 3ms/step\n",
      "Epoch 71/80\n",
      "121/121 - 1s - loss: 0.1200 - accuracy: 0.9336 - val_loss: 2.7848 - val_accuracy: 0.6393 - 638ms/epoch - 5ms/step\n",
      "Epoch 72/80\n",
      "121/121 - 0s - loss: 0.1069 - accuracy: 0.9336 - val_loss: 2.9114 - val_accuracy: 0.6557 - 290ms/epoch - 2ms/step\n",
      "Epoch 73/80\n",
      "121/121 - 0s - loss: 0.1082 - accuracy: 0.9253 - val_loss: 2.9415 - val_accuracy: 0.6066 - 370ms/epoch - 3ms/step\n",
      "Epoch 74/80\n",
      "121/121 - 0s - loss: 0.1156 - accuracy: 0.9336 - val_loss: 3.0641 - val_accuracy: 0.6230 - 193ms/epoch - 2ms/step\n",
      "Epoch 75/80\n",
      "121/121 - 0s - loss: 0.1040 - accuracy: 0.9253 - val_loss: 3.1133 - val_accuracy: 0.6393 - 269ms/epoch - 2ms/step\n",
      "Epoch 76/80\n",
      "121/121 - 0s - loss: 0.1220 - accuracy: 0.9461 - val_loss: 2.9975 - val_accuracy: 0.6230 - 347ms/epoch - 3ms/step\n",
      "Epoch 77/80\n",
      "121/121 - 0s - loss: 0.1475 - accuracy: 0.9336 - val_loss: 2.6581 - val_accuracy: 0.6557 - 286ms/epoch - 2ms/step\n",
      "Epoch 78/80\n",
      "121/121 - 0s - loss: 0.1519 - accuracy: 0.9419 - val_loss: 2.9114 - val_accuracy: 0.6557 - 360ms/epoch - 3ms/step\n",
      "Epoch 79/80\n",
      "121/121 - 0s - loss: 0.2504 - accuracy: 0.9336 - val_loss: 2.6533 - val_accuracy: 0.6230 - 255ms/epoch - 2ms/step\n",
      "Epoch 80/80\n",
      "121/121 - 0s - loss: 0.1238 - accuracy: 0.9419 - val_loss: 2.7075 - val_accuracy: 0.6066 - 226ms/epoch - 2ms/step\n"
     ]
    },
    {
     "data": {
      "text/plain": [
       "<keras.src.callbacks.History at 0x7f68d4a01f70>"
      ]
     },
     "execution_count": 10,
     "metadata": {},
     "output_type": "execute_result"
    }
   ],
   "source": [
    "# Train the model using a batch size of 2 and a 20% validation split for 80 epochs\n",
    "model.fit(\n",
    "    {'embedded_text_input': X_text, 'func_rating_input': X_rating},\n",
    "    y,\n",
    "    epochs = 80,\n",
    "    batch_size = 2,\n",
    "    validation_split = 0.2,\n",
    "    verbose = 2,\n",
    "    callbacks = [model_checkpoint]\n",
    ")"
   ]
  },
  {
   "cell_type": "markdown",
   "id": "e4305a25",
   "metadata": {},
   "source": [
    "## Evaluation and Selection of Model"
   ]
  },
  {
   "cell_type": "code",
   "execution_count": 11,
   "id": "a160d793",
   "metadata": {},
   "outputs": [
    {
     "data": {
      "image/png": "[encoded data removed]",
      "text/plain": [
       "<Figure size 1500x600 with 2 Axes>"
      ]
     },
     "metadata": {},
     "output_type": "display_data"
    }
   ],
   "source": [
    "# Graph the training and validation loss and accuracy across epochs\n",
    "fig, ax = plt.subplots(1, 2, figsize = (15, 6))\n",
    "metrics = ['loss', 'accuracy']\n",
    "\n",
    "for a, metric in list(zip(ax, metrics)):\n",
    "    a.plot(model.history.history[metric], color = 'blue')\n",
    "    a.plot(model.history.history[f'val_{metric}'], color = 'orange')\n",
    "    a.set_title(f'model {metric}')\n",
    "    a.set_xlabel('epoch')\n",
    "    a.set_ylabel(metric)\n",
    "    a.legend(['train', 'val'], loc = 'upper left')"
   ]
  },
  {
   "cell_type": "code",
   "execution_count": 4,
   "id": "77b625b0",
   "metadata": {},
   "outputs": [
    {
     "name": "stdout",
     "output_type": "stream",
     "text": [
      "Best epoch by validation accuracy: 30\n",
      "Model: \"model\"\n",
      "__________________________________________________________________________________________________\n",
      " Layer (type)                Output Shape                 Param #   Connected to                  \n",
      "==================================================================================================\n",
      " embedded_text_input (Input  [(None, 48)]                 0         []                            \n",
      " Layer)                                                                                           \n",
      "                                                                                                  \n",
      " dense (Dense)               (None, 256)                  12544     ['embedded_text_input[0][0]'] \n",
      "                                                                                                  \n",
      " dense_1 (Dense)             (None, 128)                  32896     ['dense[0][0]']               \n",
      "                                                                                                  \n",
      " dense_2 (Dense)             (None, 128)                  16512     ['dense_1[0][0]']             \n",
      "                                                                                                  \n",
      " func_rating_input (InputLa  [(None, 6)]                  0         []                            \n",
      " yer)                                                                                             \n",
      "                                                                                                  \n",
      " dense_3 (Dense)             (None, 64)                   8256      ['dense_2[0][0]']             \n",
      "                                                                                                  \n",
      " dense_4 (Dense)             (None, 64)                   448       ['func_rating_input[0][0]']   \n",
      "                                                                                                  \n",
      " concatenate (Concatenate)   (None, 128)                  0         ['dense_3[0][0]',             \n",
      "                                                                     'dense_4[0][0]']             \n",
      "                                                                                                  \n",
      " output (Dense)              (None, 6)                    774       ['concatenate[0][0]']         \n",
      "                                                                                                  \n",
      "==================================================================================================\n",
      "Total params: 71430 (279.02 KB)\n",
      "Trainable params: 71430 (279.02 KB)\n",
      "Non-trainable params: 0 (0.00 Byte)\n",
      "__________________________________________________________________________________________________\n"
     ]
    }
   ],
   "source": [
    "# Select the model at the best epoch based on validation accuracy\n",
    "epoch = np.argmax(model.history.history['val_accuracy']) + 1\n",
    "print(f'Best epoch by validation accuracy: {epoch}')\n",
    "print(f'Best validation accuracy: {model.history.history[\"val_accuracy\"][epoch - 1]}')\n",
    "\n",
    "# Load the model saved at that epoch\n",
    "model = tf.keras.models.load_model(os.path.join(checkpoint_dir, f'model_v1-epoch_{epoch:02d}.h5'))\n",
    "model.summary()"
   ]
  },
  {
   "cell_type": "code",
   "execution_count": 5,
   "id": "636416b4",
   "metadata": {},
   "outputs": [],
   "source": [
    "# Define save directory and save model\n",
    "model_dir = './saved_model'\n",
    "os.makedirs(model_dir, exist_ok = True)\n",
    "model_path = os.path.join(model_dir, 'model_v1.keras')\n",
    "best_model.save(model_path)"
   ]
  },
  {
   "cell_type": "markdown",
   "id": "0492db9e",
   "metadata": {},
   "source": [
    "# Tensorflow Model v2"
   ]
  },
  {
   "cell_type": "markdown",
   "id": "ff760130",
   "metadata": {},
   "source": [
    "## Instantiate Model"
   ]
  },
  {
   "cell_type": "code",
   "execution_count": 42,
   "id": "5212589b",
   "metadata": {},
   "outputs": [
    {
     "name": "stdout",
     "output_type": "stream",
     "text": [
      "Model: \"model_7\"\n",
      "__________________________________________________________________________________________________\n",
      " Layer (type)                Output Shape                 Param #   Connected to                  \n",
      "==================================================================================================\n",
      " embedded_text_input (Input  [(None, 48)]                 0         []                            \n",
      " Layer)                                                                                           \n",
      "                                                                                                  \n",
      " dense_43 (Dense)            (None, 256)                  12544     ['embedded_text_input[0][0]'] \n",
      "                                                                                                  \n",
      " dense_44 (Dense)            (None, 128)                  32896     ['dense_43[0][0]']            \n",
      "                                                                                                  \n",
      " dense_45 (Dense)            (None, 128)                  16512     ['dense_44[0][0]']            \n",
      "                                                                                                  \n",
      " func_rating_input (InputLa  [(None, 6)]                  0         []                            \n",
      " yer)                                                                                             \n",
      "                                                                                                  \n",
      " dense_46 (Dense)            (None, 64)                   8256      ['dense_45[0][0]']            \n",
      "                                                                                                  \n",
      " dense_47 (Dense)            (None, 64)                   448       ['func_rating_input[0][0]']   \n",
      "                                                                                                  \n",
      " concatenate_7 (Concatenate  (None, 128)                  0         ['dense_46[0][0]',            \n",
      " )                                                                   'dense_47[0][0]']            \n",
      "                                                                                                  \n",
      " output (Dense)              (None, 6)                    774       ['concatenate_7[0][0]']       \n",
      "                                                                                                  \n",
      "==================================================================================================\n",
      "Total params: 71430 (279.02 KB)\n",
      "Trainable params: 71430 (279.02 KB)\n",
      "Non-trainable params: 0 (0.00 Byte)\n",
      "__________________________________________________________________________________________________\n"
     ]
    }
   ],
   "source": [
    "# Embedding dimension is decided based on preprocessing\n",
    "embedding_dim = X_text.shape[1]\n",
    "\n",
    "# Number of dense layers is manually selected, but specifically designed to mimic v1 model\n",
    "num_of_dense_layers = 4\n",
    "\n",
    "# Create the model\n",
    "# Add light l1 regularization and slightly stronger l2 regularization to reduce overfitting\n",
    "# Higher levels of l1 regularization (>= 0.05) tends to lead to an early plateau in training (around epoch 8-10)\n",
    "# Higher levels of l2 regularization (>= 0.2) tends to lead to an early plateau in training (around epoch 10-15)\n",
    "# Low levels of regularization greatly help overfitting, but due to the low amount of training data\n",
    "# some level of stochasticity is needed to get closer to local optimum\n",
    "# Dense step rate is used to control the shape of the model, using dense step rate = 2 mimics v1 model\n",
    "model = create_nn_model_v2(embedding_dim, num_of_dense_layers,\n",
    "                           train_size = int(X_text.shape[0] * 0.8),\n",
    "                           batch_size = 2,\n",
    "                           l1_regularization = 0.01, l2_regularization = 0.08,\n",
    "                           dense_step_rate = 2)\n",
    "model.summary()"
   ]
  },
  {
   "cell_type": "markdown",
   "id": "59aeef2d",
   "metadata": {},
   "source": [
    "## Training"
   ]
  },
  {
   "cell_type": "code",
   "execution_count": 43,
   "id": "6dfcfea9",
   "metadata": {},
   "outputs": [],
   "source": [
    "# Define and create a checkpoint directory\n",
    "checkpoint_dir = './checkpoint/model_v2'\n",
    "os.makedirs(checkpoint_dir, exist_ok = True)\n",
    "    \n",
    "# Save epochs while training, to manually select best model later\n",
    "model_checkpoint = tf.keras.callbacks.ModelCheckpoint(\n",
    "    filepath = os.path.join(checkpoint_dir, 'model_v2-epoch_{epoch:02d}.h5'),\n",
    "    save_freq = 'epoch'\n",
    ")"
   ]
  },
  {
   "cell_type": "code",
   "execution_count": 44,
   "id": "e99e6c33",
   "metadata": {},
   "outputs": [
    {
     "name": "stdout",
     "output_type": "stream",
     "text": [
      "Epoch 1/80\n",
      "121/121 - 2s - loss: 78.7199 - accuracy: 0.3942 - val_loss: 68.5618 - val_accuracy: 0.4262 - 2s/epoch - 14ms/step\n",
      "Epoch 2/80\n",
      "121/121 - 0s - loss: 62.2968 - accuracy: 0.5643 - val_loss: 56.5618 - val_accuracy: 0.4918 - 312ms/epoch - 3ms/step\n",
      "Epoch 3/80\n",
      "121/121 - 0s - loss: 50.8851 - accuracy: 0.7344 - val_loss: 46.4820 - val_accuracy: 0.5738 - 390ms/epoch - 3ms/step\n",
      "Epoch 4/80\n",
      "121/121 - 0s - loss: 41.2645 - accuracy: 0.8008 - val_loss: 37.4903 - val_accuracy: 0.6393 - 388ms/epoch - 3ms/step\n",
      "Epoch 5/80\n",
      "121/121 - 0s - loss: 33.1417 - accuracy: 0.8423 - val_loss: 30.1037 - val_accuracy: 0.6230 - 432ms/epoch - 4ms/step\n",
      "Epoch 6/80\n",
      "121/121 - 0s - loss: 26.3995 - accuracy: 0.8340 - val_loss: 23.9662 - val_accuracy: 0.6230 - 433ms/epoch - 4ms/step\n",
      "Epoch 7/80\n",
      "121/121 - 0s - loss: 20.9559 - accuracy: 0.8257 - val_loss: 19.0064 - val_accuracy: 0.6066 - 312ms/epoch - 3ms/step\n",
      "Epoch 8/80\n",
      "121/121 - 0s - loss: 16.5825 - accuracy: 0.7884 - val_loss: 15.0348 - val_accuracy: 0.6393 - 375ms/epoch - 3ms/step\n",
      "Epoch 9/80\n",
      "121/121 - 0s - loss: 13.0854 - accuracy: 0.7967 - val_loss: 11.9886 - val_accuracy: 0.6721 - 381ms/epoch - 3ms/step\n",
      "Epoch 10/80\n",
      "121/121 - 0s - loss: 10.3803 - accuracy: 0.7884 - val_loss: 9.5117 - val_accuracy: 0.6230 - 492ms/epoch - 4ms/step\n",
      "Epoch 11/80\n",
      "121/121 - 0s - loss: 8.2842 - accuracy: 0.7552 - val_loss: 7.5955 - val_accuracy: 0.7213 - 393ms/epoch - 3ms/step\n",
      "Epoch 12/80\n",
      "121/121 - 0s - loss: 6.6594 - accuracy: 0.7261 - val_loss: 6.1310 - val_accuracy: 0.6557 - 305ms/epoch - 3ms/step\n",
      "Epoch 13/80\n",
      "121/121 - 0s - loss: 5.4211 - accuracy: 0.6805 - val_loss: 5.0125 - val_accuracy: 0.6557 - 327ms/epoch - 3ms/step\n",
      "Epoch 14/80\n",
      "121/121 - 1s - loss: 4.4718 - accuracy: 0.6680 - val_loss: 4.1905 - val_accuracy: 0.6885 - 509ms/epoch - 4ms/step\n",
      "Epoch 15/80\n",
      "121/121 - 0s - loss: 3.7670 - accuracy: 0.6515 - val_loss: 3.5514 - val_accuracy: 0.6721 - 456ms/epoch - 4ms/step\n",
      "Epoch 16/80\n",
      "121/121 - 0s - loss: 3.2408 - accuracy: 0.6639 - val_loss: 3.0915 - val_accuracy: 0.6721 - 440ms/epoch - 4ms/step\n",
      "Epoch 17/80\n",
      "121/121 - 0s - loss: 2.8330 - accuracy: 0.6680 - val_loss: 2.7202 - val_accuracy: 0.6721 - 324ms/epoch - 3ms/step\n",
      "Epoch 18/80\n",
      "121/121 - 0s - loss: 2.5174 - accuracy: 0.6432 - val_loss: 2.4396 - val_accuracy: 0.6557 - 437ms/epoch - 4ms/step\n",
      "Epoch 19/80\n",
      "121/121 - 0s - loss: 2.2952 - accuracy: 0.6556 - val_loss: 2.2318 - val_accuracy: 0.6721 - 392ms/epoch - 3ms/step\n",
      "Epoch 20/80\n",
      "121/121 - 1s - loss: 2.0899 - accuracy: 0.6556 - val_loss: 2.0635 - val_accuracy: 0.6721 - 500ms/epoch - 4ms/step\n",
      "Epoch 21/80\n",
      "121/121 - 0s - loss: 1.9583 - accuracy: 0.6680 - val_loss: 1.9300 - val_accuracy: 0.6885 - 439ms/epoch - 4ms/step\n",
      "Epoch 22/80\n",
      "121/121 - 0s - loss: 1.8261 - accuracy: 0.6639 - val_loss: 1.8717 - val_accuracy: 0.6557 - 270ms/epoch - 2ms/step\n",
      "Epoch 23/80\n",
      "121/121 - 0s - loss: 1.7313 - accuracy: 0.6598 - val_loss: 1.7727 - val_accuracy: 0.6557 - 383ms/epoch - 3ms/step\n",
      "Epoch 24/80\n",
      "121/121 - 0s - loss: 1.6452 - accuracy: 0.6722 - val_loss: 1.6910 - val_accuracy: 0.6885 - 468ms/epoch - 4ms/step\n",
      "Epoch 25/80\n",
      "121/121 - 0s - loss: 1.5810 - accuracy: 0.6722 - val_loss: 1.6496 - val_accuracy: 0.6885 - 402ms/epoch - 3ms/step\n",
      "Epoch 26/80\n",
      "121/121 - 1s - loss: 1.5043 - accuracy: 0.6846 - val_loss: 1.6275 - val_accuracy: 0.6721 - 578ms/epoch - 5ms/step\n",
      "Epoch 27/80\n",
      "121/121 - 1s - loss: 1.4520 - accuracy: 0.6888 - val_loss: 1.5781 - val_accuracy: 0.6721 - 560ms/epoch - 5ms/step\n",
      "Epoch 28/80\n",
      "121/121 - 0s - loss: 1.4025 - accuracy: 0.6846 - val_loss: 1.5723 - val_accuracy: 0.6885 - 394ms/epoch - 3ms/step\n",
      "Epoch 29/80\n",
      "121/121 - 0s - loss: 1.3585 - accuracy: 0.7054 - val_loss: 1.5409 - val_accuracy: 0.6557 - 409ms/epoch - 3ms/step\n",
      "Epoch 30/80\n",
      "121/121 - 0s - loss: 1.3237 - accuracy: 0.6888 - val_loss: 1.5394 - val_accuracy: 0.6393 - 378ms/epoch - 3ms/step\n",
      "Epoch 31/80\n",
      "121/121 - 0s - loss: 1.2838 - accuracy: 0.7095 - val_loss: 1.5184 - val_accuracy: 0.6721 - 313ms/epoch - 3ms/step\n",
      "Epoch 32/80\n",
      "121/121 - 0s - loss: 1.2519 - accuracy: 0.7137 - val_loss: 1.4948 - val_accuracy: 0.6885 - 352ms/epoch - 3ms/step\n",
      "Epoch 33/80\n",
      "121/121 - 0s - loss: 1.2247 - accuracy: 0.7054 - val_loss: 1.4946 - val_accuracy: 0.6885 - 400ms/epoch - 3ms/step\n",
      "Epoch 34/80\n",
      "121/121 - 0s - loss: 1.2013 - accuracy: 0.7261 - val_loss: 1.5035 - val_accuracy: 0.6721 - 394ms/epoch - 3ms/step\n",
      "Epoch 35/80\n",
      "121/121 - 0s - loss: 1.1775 - accuracy: 0.7261 - val_loss: 1.4794 - val_accuracy: 0.6721 - 393ms/epoch - 3ms/step\n",
      "Epoch 36/80\n",
      "121/121 - 0s - loss: 1.1681 - accuracy: 0.7095 - val_loss: 1.4680 - val_accuracy: 0.6557 - 485ms/epoch - 4ms/step\n",
      "Epoch 37/80\n",
      "121/121 - 1s - loss: 1.1482 - accuracy: 0.7095 - val_loss: 1.4877 - val_accuracy: 0.6393 - 523ms/epoch - 4ms/step\n",
      "Epoch 38/80\n",
      "121/121 - 0s - loss: 1.1312 - accuracy: 0.7220 - val_loss: 1.4755 - val_accuracy: 0.6557 - 441ms/epoch - 4ms/step\n",
      "Epoch 39/80\n",
      "121/121 - 1s - loss: 1.1131 - accuracy: 0.7261 - val_loss: 1.4794 - val_accuracy: 0.6557 - 586ms/epoch - 5ms/step\n",
      "Epoch 40/80\n",
      "121/121 - 0s - loss: 1.0997 - accuracy: 0.7344 - val_loss: 1.4591 - val_accuracy: 0.6557 - 394ms/epoch - 3ms/step\n",
      "Epoch 41/80\n",
      "121/121 - 1s - loss: 1.0855 - accuracy: 0.7261 - val_loss: 1.4638 - val_accuracy: 0.6885 - 691ms/epoch - 6ms/step\n",
      "Epoch 42/80\n",
      "121/121 - 1s - loss: 1.0836 - accuracy: 0.7344 - val_loss: 1.4606 - val_accuracy: 0.6557 - 607ms/epoch - 5ms/step\n",
      "Epoch 43/80\n",
      "121/121 - 1s - loss: 1.0674 - accuracy: 0.7386 - val_loss: 1.4620 - val_accuracy: 0.6557 - 597ms/epoch - 5ms/step\n",
      "Epoch 44/80\n",
      "121/121 - 0s - loss: 1.0595 - accuracy: 0.7303 - val_loss: 1.4746 - val_accuracy: 0.6557 - 351ms/epoch - 3ms/step\n",
      "Epoch 45/80\n",
      "121/121 - 1s - loss: 1.0552 - accuracy: 0.7303 - val_loss: 1.4600 - val_accuracy: 0.6557 - 620ms/epoch - 5ms/step\n",
      "Epoch 46/80\n",
      "121/121 - 1s - loss: 1.0454 - accuracy: 0.7344 - val_loss: 1.4752 - val_accuracy: 0.6393 - 524ms/epoch - 4ms/step\n",
      "Epoch 47/80\n",
      "121/121 - 1s - loss: 1.0380 - accuracy: 0.7427 - val_loss: 1.4851 - val_accuracy: 0.6557 - 807ms/epoch - 7ms/step\n",
      "Epoch 48/80\n",
      "121/121 - 0s - loss: 1.0330 - accuracy: 0.7344 - val_loss: 1.4594 - val_accuracy: 0.6557 - 447ms/epoch - 4ms/step\n",
      "Epoch 49/80\n",
      "121/121 - 0s - loss: 1.0280 - accuracy: 0.7469 - val_loss: 1.4675 - val_accuracy: 0.6721 - 396ms/epoch - 3ms/step\n",
      "Epoch 50/80\n",
      "121/121 - 0s - loss: 1.0205 - accuracy: 0.7510 - val_loss: 1.4545 - val_accuracy: 0.6557 - 456ms/epoch - 4ms/step\n",
      "Epoch 51/80\n",
      "121/121 - 0s - loss: 1.0151 - accuracy: 0.7386 - val_loss: 1.4640 - val_accuracy: 0.6721 - 375ms/epoch - 3ms/step\n",
      "Epoch 52/80\n",
      "121/121 - 0s - loss: 1.0106 - accuracy: 0.7510 - val_loss: 1.4798 - val_accuracy: 0.6721 - 457ms/epoch - 4ms/step\n",
      "Epoch 53/80\n",
      "121/121 - 0s - loss: 1.0092 - accuracy: 0.7469 - val_loss: 1.4746 - val_accuracy: 0.6721 - 357ms/epoch - 3ms/step\n",
      "Epoch 54/80\n",
      "121/121 - 0s - loss: 1.0011 - accuracy: 0.7552 - val_loss: 1.4750 - val_accuracy: 0.6557 - 493ms/epoch - 4ms/step\n",
      "Epoch 55/80\n",
      "121/121 - 1s - loss: 0.9993 - accuracy: 0.7510 - val_loss: 1.4858 - val_accuracy: 0.6721 - 522ms/epoch - 4ms/step\n",
      "Epoch 56/80\n",
      "121/121 - 0s - loss: 0.9927 - accuracy: 0.7552 - val_loss: 1.4797 - val_accuracy: 0.6721 - 446ms/epoch - 4ms/step\n",
      "Epoch 57/80\n",
      "121/121 - 0s - loss: 0.9903 - accuracy: 0.7427 - val_loss: 1.4900 - val_accuracy: 0.6721 - 439ms/epoch - 4ms/step\n",
      "Epoch 58/80\n",
      "121/121 - 1s - loss: 0.9892 - accuracy: 0.7427 - val_loss: 1.4779 - val_accuracy: 0.6721 - 568ms/epoch - 5ms/step\n",
      "Epoch 59/80\n",
      "121/121 - 0s - loss: 0.9829 - accuracy: 0.7593 - val_loss: 1.4862 - val_accuracy: 0.6721 - 472ms/epoch - 4ms/step\n",
      "Epoch 60/80\n",
      "121/121 - 0s - loss: 0.9825 - accuracy: 0.7593 - val_loss: 1.4816 - val_accuracy: 0.6721 - 364ms/epoch - 3ms/step\n",
      "Epoch 61/80\n",
      "121/121 - 0s - loss: 0.9769 - accuracy: 0.7552 - val_loss: 1.4777 - val_accuracy: 0.6885 - 476ms/epoch - 4ms/step\n",
      "Epoch 62/80\n",
      "121/121 - 1s - loss: 0.9748 - accuracy: 0.7510 - val_loss: 1.4881 - val_accuracy: 0.6721 - 577ms/epoch - 5ms/step\n",
      "Epoch 63/80\n",
      "121/121 - 0s - loss: 0.9718 - accuracy: 0.7593 - val_loss: 1.4958 - val_accuracy: 0.6721 - 458ms/epoch - 4ms/step\n",
      "Epoch 64/80\n",
      "121/121 - 1s - loss: 0.9692 - accuracy: 0.7676 - val_loss: 1.4853 - val_accuracy: 0.6721 - 507ms/epoch - 4ms/step\n",
      "Epoch 65/80\n",
      "121/121 - 1s - loss: 0.9646 - accuracy: 0.7552 - val_loss: 1.4859 - val_accuracy: 0.6721 - 557ms/epoch - 5ms/step\n"
     ]
    },
    {
     "name": "stdout",
     "output_type": "stream",
     "text": [
      "Epoch 66/80\n",
      "121/121 - 1s - loss: 0.9630 - accuracy: 0.7593 - val_loss: 1.4855 - val_accuracy: 0.6721 - 639ms/epoch - 5ms/step\n",
      "Epoch 67/80\n",
      "121/121 - 1s - loss: 0.9614 - accuracy: 0.7552 - val_loss: 1.4883 - val_accuracy: 0.6721 - 568ms/epoch - 5ms/step\n",
      "Epoch 68/80\n",
      "121/121 - 1s - loss: 0.9601 - accuracy: 0.7635 - val_loss: 1.4923 - val_accuracy: 0.6721 - 551ms/epoch - 5ms/step\n",
      "Epoch 69/80\n",
      "121/121 - 0s - loss: 0.9564 - accuracy: 0.7676 - val_loss: 1.4923 - val_accuracy: 0.6721 - 461ms/epoch - 4ms/step\n",
      "Epoch 70/80\n",
      "121/121 - 1s - loss: 0.9546 - accuracy: 0.7676 - val_loss: 1.4980 - val_accuracy: 0.6721 - 557ms/epoch - 5ms/step\n",
      "Epoch 71/80\n",
      "121/121 - 0s - loss: 0.9520 - accuracy: 0.7593 - val_loss: 1.5008 - val_accuracy: 0.6557 - 466ms/epoch - 4ms/step\n",
      "Epoch 72/80\n",
      "121/121 - 0s - loss: 0.9489 - accuracy: 0.7718 - val_loss: 1.4946 - val_accuracy: 0.6557 - 261ms/epoch - 2ms/step\n",
      "Epoch 73/80\n",
      "121/121 - 0s - loss: 0.9484 - accuracy: 0.7635 - val_loss: 1.4966 - val_accuracy: 0.6721 - 408ms/epoch - 3ms/step\n",
      "Epoch 74/80\n",
      "121/121 - 0s - loss: 0.9457 - accuracy: 0.7676 - val_loss: 1.5007 - val_accuracy: 0.6721 - 458ms/epoch - 4ms/step\n",
      "Epoch 75/80\n",
      "121/121 - 0s - loss: 0.9441 - accuracy: 0.7676 - val_loss: 1.5034 - val_accuracy: 0.6721 - 435ms/epoch - 4ms/step\n",
      "Epoch 76/80\n",
      "121/121 - 0s - loss: 0.9433 - accuracy: 0.7676 - val_loss: 1.4989 - val_accuracy: 0.6721 - 370ms/epoch - 3ms/step\n",
      "Epoch 77/80\n",
      "121/121 - 0s - loss: 0.9416 - accuracy: 0.7676 - val_loss: 1.4999 - val_accuracy: 0.6721 - 348ms/epoch - 3ms/step\n",
      "Epoch 78/80\n",
      "121/121 - 0s - loss: 0.9382 - accuracy: 0.7718 - val_loss: 1.5083 - val_accuracy: 0.6557 - 408ms/epoch - 3ms/step\n",
      "Epoch 79/80\n",
      "121/121 - 0s - loss: 0.9368 - accuracy: 0.7676 - val_loss: 1.5040 - val_accuracy: 0.6885 - 410ms/epoch - 3ms/step\n",
      "Epoch 80/80\n",
      "121/121 - 0s - loss: 0.9353 - accuracy: 0.7718 - val_loss: 1.5062 - val_accuracy: 0.6721 - 395ms/epoch - 3ms/step\n"
     ]
    },
    {
     "data": {
      "text/plain": [
       "<keras.src.callbacks.History at 0x7f88b0efdee0>"
      ]
     },
     "execution_count": 44,
     "metadata": {},
     "output_type": "execute_result"
    }
   ],
   "source": [
    "# Train the model using a batch size of 2 and a 20% validation split for 80 epochs\n",
    "model.fit(\n",
    "    {'embedded_text_input': X_text, 'func_rating_input': X_rating},\n",
    "    y,\n",
    "    epochs = 80,\n",
    "    batch_size = 2,\n",
    "    validation_split = 0.2,\n",
    "    verbose = 2,\n",
    "    callbacks = [model_checkpoint]\n",
    ")"
   ]
  },
  {
   "cell_type": "markdown",
   "id": "c4c4cb4e",
   "metadata": {},
   "source": [
    "## Evaluation and Selection of Model"
   ]
  },
  {
   "cell_type": "code",
   "execution_count": 45,
   "id": "ab3c5581",
   "metadata": {},
   "outputs": [
    {
     "data": {
      "image/png": "[encoded data removed]",
      "text/plain": [
       "<Figure size 1500x600 with 2 Axes>"
      ]
     },
     "metadata": {},
     "output_type": "display_data"
    }
   ],
   "source": [
    "# Graph the training and validation loss and accuracy across epochs\n",
    "fig, ax = plt.subplots(1, 2, figsize = (15, 6))\n",
    "metrics = ['loss', 'accuracy']\n",
    "\n",
    "for a, metric in list(zip(ax, metrics)):\n",
    "    a.plot(model.history.history[metric], color = 'blue')\n",
    "    a.plot(model.history.history[f'val_{metric}'], color = 'orange')\n",
    "    a.set_title(f'model {metric}')\n",
    "    a.set_xlabel('epoch')\n",
    "    a.set_ylabel(metric)\n",
    "    a.legend(['train', 'val'], loc = 'upper left')"
   ]
  },
  {
   "cell_type": "code",
   "execution_count": 46,
   "id": "d4cc8649",
   "metadata": {},
   "outputs": [
    {
     "name": "stdout",
     "output_type": "stream",
     "text": [
      "Best epoch by validation accuracy: 11\n",
      "Best validation accuracy: 0.7213114500045776\n",
      "Model: \"model_7\"\n",
      "__________________________________________________________________________________________________\n",
      " Layer (type)                Output Shape                 Param #   Connected to                  \n",
      "==================================================================================================\n",
      " embedded_text_input (Input  [(None, 48)]                 0         []                            \n",
      " Layer)                                                                                           \n",
      "                                                                                                  \n",
      " dense_43 (Dense)            (None, 256)                  12544     ['embedded_text_input[0][0]'] \n",
      "                                                                                                  \n",
      " dense_44 (Dense)            (None, 128)                  32896     ['dense_43[0][0]']            \n",
      "                                                                                                  \n",
      " dense_45 (Dense)            (None, 128)                  16512     ['dense_44[0][0]']            \n",
      "                                                                                                  \n",
      " func_rating_input (InputLa  [(None, 6)]                  0         []                            \n",
      " yer)                                                                                             \n",
      "                                                                                                  \n",
      " dense_46 (Dense)            (None, 64)                   8256      ['dense_45[0][0]']            \n",
      "                                                                                                  \n",
      " dense_47 (Dense)            (None, 64)                   448       ['func_rating_input[0][0]']   \n",
      "                                                                                                  \n",
      " concatenate_7 (Concatenate  (None, 128)                  0         ['dense_46[0][0]',            \n",
      " )                                                                   'dense_47[0][0]']            \n",
      "                                                                                                  \n",
      " output (Dense)              (None, 6)                    774       ['concatenate_7[0][0]']       \n",
      "                                                                                                  \n",
      "==================================================================================================\n",
      "Total params: 71430 (279.02 KB)\n",
      "Trainable params: 71430 (279.02 KB)\n",
      "Non-trainable params: 0 (0.00 Byte)\n",
      "__________________________________________________________________________________________________\n"
     ]
    }
   ],
   "source": [
    "# Select the model at the best epoch based on validation accuracy\n",
    "best_epoch = np.argmax(model.history.history['val_accuracy']) + 1\n",
    "print(f'Best epoch by validation accuracy: {best_epoch}')\n",
    "print(f'Best validation accuracy: {model.history.history[\"val_accuracy\"][best_epoch - 1]}')\n",
    "\n",
    "# Load the model saved at that epoch\n",
    "best_model = tf.keras.models.load_model(os.path.join(checkpoint_dir, f'model_v2-epoch_{best_epoch:02d}.h5'))\n",
    "best_model.summary()"
   ]
  },
  {
   "cell_type": "code",
   "execution_count": 47,
   "id": "2aee2ad3",
   "metadata": {},
   "outputs": [],
   "source": [
    "# Define save directory and save model\n",
    "model_dir = './saved_model'\n",
    "os.makedirs(model_dir, exist_ok = True)\n",
    "model_path = os.path.join(model_dir, 'model_v2.keras')\n",
    "best_model.save(model_path)"
   ]
  },
  {
   "cell_type": "markdown",
   "id": "87ecd39f",
   "metadata": {},
   "source": [
    "# Productionize Model to HuggingFace"
   ]
  },
  {
   "cell_type": "markdown",
   "id": "3e642f11",
   "metadata": {},
   "source": [
    "## Create Repository on HuggingFace"
   ]
  },
  {
   "cell_type": "code",
   "execution_count": 48,
   "id": "e17f1506",
   "metadata": {},
   "outputs": [
    {
     "name": "stdout",
     "output_type": "stream",
     "text": [
      "Repository created: https://huggingface.co/joshua-gottlieb/tensorflow-credibility_predictor-v2\n"
     ]
    }
   ],
   "source": [
    "# Import HuggingFace token from local file to grant access\n",
    "from api_keys import hf_token\n",
    "\n",
    "# Define user name, repo name, and repo id\n",
    "hf_username = 'joshua-gottlieb'\n",
    "repo_name = 'tensorflow-credibility_predictor-v2'\n",
    "repo_id = f'{hf_username}/{repo_name}'\n",
    "\n",
    "api = HfApi()\n",
    "\n",
    "# Create the repository\n",
    "api.create_repo(repo_id = repo_id, token = hf_token, exist_ok = True)\n",
    "\n",
    "print(f'Repository created: https://huggingface.co/{repo_id}')"
   ]
  },
  {
   "cell_type": "markdown",
   "id": "839c2b42",
   "metadata": {},
   "source": [
    "## Push Artifacts to HuggingFace"
   ]
  },
  {
   "cell_type": "code",
   "execution_count": 12,
   "id": "208bb565",
   "metadata": {},
   "outputs": [
    {
     "name": "stderr",
     "output_type": "stream",
     "text": [
      "No files have been modified since last commit. Skipping to prevent empty commit.\n"
     ]
    },
    {
     "data": {
      "application/vnd.jupyter.widget-view+json": {
       "model_id": "6f4bfb1477a3431e97d3f349906c4777",
       "version_major": 2,
       "version_minor": 0
      },
      "text/plain": [
       "tokenizer.pkl:   0%|          | 0.00/91.4M [00:00<?, ?B/s]"
      ]
     },
     "metadata": {},
     "output_type": "display_data"
    },
    {
     "name": "stdout",
     "output_type": "stream",
     "text": [
      "Model and tokenizer successfully pushed to: https://huggingface.co/joshua-gottlieb/tensorflow-credibility_predictor-v1\n"
     ]
    }
   ],
   "source": [
    "# Define model path to push to HuggingFace from model saved earlier in notebook\n",
    "model_dir = './saved_model'\n",
    "model_path = os.path.join(model_dir, 'model_v1.keras')\n",
    "\n",
    "# Save the tokenizer as a pickle file\n",
    "tokenizer_path = os.path.join(model_dir, 'tokenizer.pkl')\n",
    "with open(tokenizer_path, 'wb') as f:\n",
    "    pickle.dump(tokenizer, f)\n",
    "\n",
    "api.upload_file(path_or_fileobj = model_path, path_in_repo = 'model_v1.keras',\n",
    "                repo_id = repo_id, token = hf_token)\n",
    "api.upload_file(path_or_fileobj = tokenizer_path, path_in_repo = 'tokenizer.pkl',\n",
    "                repo_id = repo_id, token = hf_token)\n",
    "\n",
    "print(f'Model and tokenizer successfully pushed to: https://huggingface.co/{repo_id}')"
   ]
  },
  {
   "cell_type": "markdown",
   "id": "6535052d",
   "metadata": {},
   "source": [
    "## Download Model and Tokenizer Artifacts from HuggingFace"
   ]
  },
  {
   "cell_type": "code",
   "execution_count": 13,
   "id": "2e445a67",
   "metadata": {},
   "outputs": [
    {
     "data": {
      "application/vnd.jupyter.widget-view+json": {
       "model_id": "c541919224e74a0293cc957488713a49",
       "version_major": 2,
       "version_minor": 0
      },
      "text/plain": [
       "tokenizer.pkl:   0%|          | 0.00/91.4M [00:00<?, ?B/s]"
      ]
     },
     "metadata": {},
     "output_type": "display_data"
    },
    {
     "name": "stdout",
     "output_type": "stream",
     "text": [
      "Model and tokenizer loaded successfully!\n"
     ]
    }
   ],
   "source": [
    "# Define repo ID\n",
    "repo_id = 'joshua-gottlieb/tensorflow-credibility_predictor-v1'\n",
    "\n",
    "# Define tokenizer and model filenames\n",
    "tokenizer_filename = 'tokenizer.pkl' # Ensure this matches what was uploaded\n",
    "model_filename = 'model_v1.keras' # Ensure this matches what was uploaded\n",
    "\n",
    "# Download the model and tokenizer\n",
    "tokenizer_path = hf_hub_download(repo_id = repo_id, filename = tokenizer_filename, token = hf_token)\n",
    "model_path = hf_hub_download(repo_id = repo_id, filename = model_filename, token = hf_token)\n",
    "\n",
    "# Load the Keras model and unpickle the tokenizer\n",
    "with open(tokenizer_path, 'rb') as f:\n",
    "    tokenizer = pickle.load(f)\n",
    "new_model = tf.keras.models.load_model(model_path)\n",
    "\n",
    "print('Model and tokenizer loaded successfully!')"
   ]
  },
  {
   "cell_type": "code",
   "execution_count": 14,
   "id": "66ddd64f",
   "metadata": {},
   "outputs": [
    {
     "name": "stdout",
     "output_type": "stream",
     "text": [
      "Model: \"model\"\n",
      "__________________________________________________________________________________________________\n",
      " Layer (type)                Output Shape                 Param #   Connected to                  \n",
      "==================================================================================================\n",
      " embedded_text_input (Input  [(None, 48)]                 0         []                            \n",
      " Layer)                                                                                           \n",
      "                                                                                                  \n",
      " dense (Dense)               (None, 256)                  12544     ['embedded_text_input[0][0]'] \n",
      "                                                                                                  \n",
      " dense_1 (Dense)             (None, 128)                  32896     ['dense[0][0]']               \n",
      "                                                                                                  \n",
      " dense_2 (Dense)             (None, 128)                  16512     ['dense_1[0][0]']             \n",
      "                                                                                                  \n",
      " func_rating_input (InputLa  [(None, 6)]                  0         []                            \n",
      " yer)                                                                                             \n",
      "                                                                                                  \n",
      " dense_3 (Dense)             (None, 64)                   8256      ['dense_2[0][0]']             \n",
      "                                                                                                  \n",
      " dense_4 (Dense)             (None, 64)                   448       ['func_rating_input[0][0]']   \n",
      "                                                                                                  \n",
      " concatenate (Concatenate)   (None, 128)                  0         ['dense_3[0][0]',             \n",
      "                                                                     'dense_4[0][0]']             \n",
      "                                                                                                  \n",
      " output (Dense)              (None, 6)                    774       ['concatenate[0][0]']         \n",
      "                                                                                                  \n",
      "==================================================================================================\n",
      "Total params: 71430 (279.02 KB)\n",
      "Trainable params: 71430 (279.02 KB)\n",
      "Non-trainable params: 0 (0.00 Byte)\n",
      "__________________________________________________________________________________________________\n"
     ]
    }
   ],
   "source": [
    "new_model.summary()"
   ]
  },
  {
   "cell_type": "markdown",
   "id": "303587eb",
   "metadata": {},
   "source": [
    "# Local Inference"
   ]
  },
  {
   "cell_type": "code",
   "execution_count": 15,
   "id": "154f0c72",
   "metadata": {},
   "outputs": [
    {
     "name": "stdout",
     "output_type": "stream",
     "text": [
      "Model and tokenizer loaded successfully!\n",
      "1/1 [==============================] - 0s 91ms/step\n",
      "Prompt: How to improve focus and concentration?\n",
      "Predicted Rating: 3\n",
      "--------------------------------------------------\n",
      "Prompt: What are the side effects of lack of sleep?\n",
      "Predicted Rating: 4\n",
      "--------------------------------------------------\n"
     ]
    }
   ],
   "source": [
    "# Define repo details\n",
    "repo_id = 'joshua-gottlieb/tensorflow-credibility_predictor-v1'\n",
    "\n",
    "# Define tokenizer and model filenames\n",
    "tokenizer_filename = 'tokenizer.pkl' # Ensure this matches what was uploaded\n",
    "model_filename = 'model_v1.keras' # Ensure this matches what was uploaded\n",
    "\n",
    "# Download the model and tokenizer\n",
    "tokenizer_path = hf_hub_download(repo_id = repo_id, filename = tokenizer_filename, token = hf_token)\n",
    "model_path = hf_hub_download(repo_id = repo_id, filename = model_filename, token = hf_token)\n",
    "\n",
    "# Load the Keras model and unpickle the tokenizer\n",
    "with open(tokenizer_path, 'rb') as f:\n",
    "    tokenizer = pickle.load(f)\n",
    "new_model = tf.keras.models.load_model(model_path)\n",
    "\n",
    "print('Model and tokenizer loaded successfully!')\n",
    "\n",
    "# Sample test data\n",
    "test_texts = [\n",
    "    'How to improve focus and concentration?',\n",
    "    'What are the side effects of lack of sleep?',\n",
    "]\n",
    "\n",
    "# Preprocess test data using the loaded tokenizer\n",
    "cleaned_test_texts = [re.sub('\\s+', ' ', re.sub('[^\\w\\s]', ' ', p)).strip().lower() for p in test_texts]\n",
    "X_text_test = np.array([tokenizer.encode(p, precision = 'binary') for p in cleaned_test_texts])\n",
    "\n",
    "# Dummy numeric input (func_rating)\n",
    "raw_func_test = np.array([5, 4]).reshape(-1, 1)\n",
    "X_func_test = tf.keras.utils.to_categorical(raw_func_test, 6)\n",
    "\n",
    "# Make predictions\n",
    "predictions = new_model.predict({'embedded_text_input': X_text_test, 'func_rating_input': X_func_test})\n",
    "\n",
    "# Display results\n",
    "for i, text in enumerate(test_texts):\n",
    "    print(f'Prompt: {text}')\n",
    "    # Select the index with the highest predicted probability, corresponding to human score\n",
    "    print(f'Predicted Rating: {np.argmax(predictions[i])}')\n",
    "    print('-' * 50)"
   ]
  }
 ],
 "metadata": {
  "kernelspec": {
   "display_name": "Python 3 (ipykernel)",
   "language": "python",
   "name": "python3"
  },
  "language_info": {
   "codemirror_mode": {
    "name": "ipython",
    "version": 3
   },
   "file_extension": ".py",
   "mimetype": "text/x-python",
   "name": "python",
   "nbconvert_exporter": "python",
   "pygments_lexer": "ipython3",
   "version": "3.8.10"
  }
 },
 "nbformat": 4,
 "nbformat_minor": 5
}
